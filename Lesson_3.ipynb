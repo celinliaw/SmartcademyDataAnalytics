{
 "cells": [
  {
   "cell_type": "markdown",
   "metadata": {
    "id": "PiVGoavKCDQX"
   },
   "source": [
    "# Topic 1: Functions\n",
    "\n",
    "---\n",
    "\n"
   ]
  },
  {
   "cell_type": "markdown",
   "metadata": {
    "id": "nWIMqKjdCDQa"
   },
   "source": [
    "##1a. Introduction\n",
    "\n",
    "---\n",
    "\n"
   ]
  },
  {
   "cell_type": "code",
   "execution_count": 1,
   "metadata": {
    "id": "2VSMI5mkCDQa"
   },
   "outputs": [],
   "source": [
    "#run this\n",
    "\n",
    "def my_1st_function():\n",
    "    print('Hello')"
   ]
  },
  {
   "cell_type": "code",
   "execution_count": 2,
   "metadata": {
    "colab": {
     "base_uri": "https://localhost:8080/"
    },
    "id": "YKsIfI0nCDQb",
    "outputId": "8815d784-187e-4ff6-b204-4286afefeab1"
   },
   "outputs": [
    {
     "name": "stdout",
     "output_type": "stream",
     "text": [
      "Hello\n"
     ]
    }
   ],
   "source": [
    "#run this\n",
    "\n",
    "my_1st_function()"
   ]
  },
  {
   "cell_type": "code",
   "execution_count": 3,
   "metadata": {
    "id": "-5vb-F6kCDQb"
   },
   "outputs": [],
   "source": [
    "#run this\n",
    "\n",
    "def my_2nd_function():\n",
    "    return 'Hey'"
   ]
  },
  {
   "cell_type": "code",
   "execution_count": 4,
   "metadata": {
    "colab": {
     "base_uri": "https://localhost:8080/",
     "height": 36
    },
    "id": "-A4LoaveCDQc",
    "outputId": "762d9f5e-bc65-4a98-dc85-d92d225a714d",
    "scrolled": false
   },
   "outputs": [
    {
     "data": {
      "text/plain": [
       "'Hey'"
      ]
     },
     "execution_count": 4,
     "metadata": {},
     "output_type": "execute_result"
    }
   ],
   "source": [
    "#run this\n",
    "\n",
    "my_2nd_function()"
   ]
  },
  {
   "cell_type": "code",
   "execution_count": 5,
   "metadata": {
    "colab": {
     "base_uri": "https://localhost:8080/",
     "height": 36
    },
    "id": "v4qIr2nQCDQc",
    "outputId": "c9e5e150-cd94-40b1-ee12-8dce5fa983c3"
   },
   "outputs": [
    {
     "data": {
      "text/plain": [
       "'HeyHey'"
      ]
     },
     "execution_count": 5,
     "metadata": {},
     "output_type": "execute_result"
    }
   ],
   "source": [
    "#run this\n",
    "\n",
    "my_2nd_function() * 2"
   ]
  },
  {
   "cell_type": "code",
   "execution_count": 6,
   "metadata": {
    "colab": {
     "base_uri": "https://localhost:8080/",
     "height": 224
    },
    "id": "EUnS9Eb9CDQc",
    "outputId": "a0c73165-5fa4-485b-c70b-12ff8db49fa4"
   },
   "outputs": [
    {
     "name": "stdout",
     "output_type": "stream",
     "text": [
      "Hello\n"
     ]
    },
    {
     "ename": "TypeError",
     "evalue": "unsupported operand type(s) for *: 'NoneType' and 'int'",
     "output_type": "error",
     "traceback": [
      "\u001b[1;31m---------------------------------------------------------------------------\u001b[0m",
      "\u001b[1;31mTypeError\u001b[0m                                 Traceback (most recent call last)",
      "\u001b[1;32m~\\AppData\\Local\\Temp/ipykernel_18104/2704614511.py\u001b[0m in \u001b[0;36m<module>\u001b[1;34m\u001b[0m\n\u001b[0;32m      1\u001b[0m \u001b[1;31m#run this\u001b[0m\u001b[1;33m\u001b[0m\u001b[1;33m\u001b[0m\u001b[0m\n\u001b[0;32m      2\u001b[0m \u001b[1;33m\u001b[0m\u001b[0m\n\u001b[1;32m----> 3\u001b[1;33m \u001b[0mmy_1st_function\u001b[0m\u001b[1;33m(\u001b[0m\u001b[1;33m)\u001b[0m \u001b[1;33m*\u001b[0m \u001b[1;36m2\u001b[0m\u001b[1;33m\u001b[0m\u001b[1;33m\u001b[0m\u001b[0m\n\u001b[0m\u001b[0;32m      4\u001b[0m \u001b[1;33m\u001b[0m\u001b[0m\n\u001b[0;32m      5\u001b[0m \u001b[1;31m#Note the difference between a 'print' vs 'return' function.\u001b[0m\u001b[1;33m\u001b[0m\u001b[1;33m\u001b[0m\u001b[0m\n",
      "\u001b[1;31mTypeError\u001b[0m: unsupported operand type(s) for *: 'NoneType' and 'int'"
     ]
    }
   ],
   "source": [
    "#run this\n",
    "\n",
    "my_1st_function() * 2\n",
    "\n",
    "#Note the difference between a 'print' vs 'return' function.\n",
    "#my_2nd_function() * 2 --> 'Hello' * 2\n",
    "#my_1st_function() * 2 -->  print ('Hello') * 2\n",
    "#You cannot multiply a \"print\" to a int 2, that's why unsupported operation..."
   ]
  },
  {
   "cell_type": "markdown",
   "metadata": {
    "id": "vv0dIywhCDQd"
   },
   "source": [
    "##1b. Passing Arguments into Functions \n",
    "---"
   ]
  },
  {
   "cell_type": "code",
   "execution_count": 7,
   "metadata": {
    "id": "Ko5XKrzSCDQd"
   },
   "outputs": [],
   "source": [
    "#run this\n",
    "\n",
    "def greet(name):\n",
    "    return 'Hello, ' + name"
   ]
  },
  {
   "cell_type": "code",
   "execution_count": 8,
   "metadata": {
    "colab": {
     "base_uri": "https://localhost:8080/",
     "height": 36
    },
    "id": "2907kgaxCDQd",
    "outputId": "a5a3d9bd-88ab-4180-9bc8-65f104ab658e"
   },
   "outputs": [
    {
     "data": {
      "text/plain": [
       "'Hello, Dr. Alvin'"
      ]
     },
     "execution_count": 8,
     "metadata": {},
     "output_type": "execute_result"
    }
   ],
   "source": [
    "#run this\n",
    "\n",
    "greet('Dr. Alvin')"
   ]
  },
  {
   "cell_type": "code",
   "execution_count": 9,
   "metadata": {
    "colab": {
     "base_uri": "https://localhost:8080/",
     "height": 206
    },
    "id": "_7uCh3L_CDQe",
    "outputId": "5675dbf7-2ed0-4999-d733-42e9c989e2e9"
   },
   "outputs": [
    {
     "ename": "TypeError",
     "evalue": "greet() missing 1 required positional argument: 'name'",
     "output_type": "error",
     "traceback": [
      "\u001b[1;31m---------------------------------------------------------------------------\u001b[0m",
      "\u001b[1;31mTypeError\u001b[0m                                 Traceback (most recent call last)",
      "\u001b[1;32m~\\AppData\\Local\\Temp/ipykernel_18104/2144358146.py\u001b[0m in \u001b[0;36m<module>\u001b[1;34m\u001b[0m\n\u001b[0;32m      1\u001b[0m \u001b[1;31m#run this\u001b[0m\u001b[1;33m\u001b[0m\u001b[1;33m\u001b[0m\u001b[0m\n\u001b[0;32m      2\u001b[0m \u001b[1;33m\u001b[0m\u001b[0m\n\u001b[1;32m----> 3\u001b[1;33m \u001b[0mgreet\u001b[0m\u001b[1;33m(\u001b[0m\u001b[1;33m)\u001b[0m\u001b[1;33m\u001b[0m\u001b[1;33m\u001b[0m\u001b[0m\n\u001b[0m\u001b[0;32m      4\u001b[0m \u001b[1;33m\u001b[0m\u001b[0m\n\u001b[0;32m      5\u001b[0m \u001b[1;31m#it gives an error because the () is empty...\u001b[0m\u001b[1;33m\u001b[0m\u001b[1;33m\u001b[0m\u001b[0m\n",
      "\u001b[1;31mTypeError\u001b[0m: greet() missing 1 required positional argument: 'name'"
     ]
    }
   ],
   "source": [
    "#run this\n",
    "\n",
    "greet() \n",
    "\n",
    "#it gives an error because the () is empty... \n",
    "#no arguments passed into the fuction to process!!"
   ]
  },
  {
   "cell_type": "code",
   "execution_count": 10,
   "metadata": {
    "colab": {
     "base_uri": "https://localhost:8080/",
     "height": 36
    },
    "id": "hyvdsfk7CDQe",
    "outputId": "2224da14-27d4-470f-d17f-2a976c577686"
   },
   "outputs": [
    {
     "data": {
      "text/plain": [
       "'Hello, Dr. Alvin is a very passionate trainer!'"
      ]
     },
     "execution_count": 10,
     "metadata": {},
     "output_type": "execute_result"
    }
   ],
   "source": [
    "#run this\n",
    "\n",
    "greet('Dr. Alvin is a very passionate trainer!')"
   ]
  },
  {
   "cell_type": "markdown",
   "metadata": {
    "id": "IqZUNF4WCDQf"
   },
   "source": [
    "##1c. Creating Default Arguments\n",
    "\n",
    "---\n",
    "\n",
    "\n",
    "\n",
    "* If the user did not key in anything, you can create a default argument to start. \n",
    "\n",
    "* It's good to have a default to prevent errors in case the user doesn't input anything."
   ]
  },
  {
   "cell_type": "code",
   "execution_count": 11,
   "metadata": {
    "colab": {
     "base_uri": "https://localhost:8080/",
     "height": 36
    },
    "id": "EgjmcSDUCDQf",
    "outputId": "90930bae-5ff7-40d4-a568-6bbd70e20c4b"
   },
   "outputs": [
    {
     "data": {
      "text/plain": [
       "'Hello, John'"
      ]
     },
     "execution_count": 11,
     "metadata": {},
     "output_type": "execute_result"
    }
   ],
   "source": [
    "#run this\n",
    "\n",
    "def greeting(name='John'):\n",
    "    return 'Hello, ' + name\n",
    "\n",
    "greeting()"
   ]
  },
  {
   "cell_type": "code",
   "execution_count": 12,
   "metadata": {
    "colab": {
     "base_uri": "https://localhost:8080/",
     "height": 36
    },
    "id": "8PTCPYFACDQf",
    "outputId": "acfbd813-3cc9-408c-ea40-142130d50f13"
   },
   "outputs": [
    {
     "data": {
      "text/plain": [
       "'Hello, Dr. Alvin'"
      ]
     },
     "execution_count": 12,
     "metadata": {},
     "output_type": "execute_result"
    }
   ],
   "source": [
    "#run this\n",
    "\n",
    "greeting('Dr. Alvin')"
   ]
  },
  {
   "cell_type": "code",
   "execution_count": 13,
   "metadata": {
    "colab": {
     "base_uri": "https://localhost:8080/",
     "height": 36
    },
    "id": "ucyyS7DFCDQf",
    "outputId": "eb29fd59-42cd-4ecb-e636-f0391968dca2"
   },
   "outputs": [
    {
     "data": {
      "text/plain": [
       "'Hello, John'"
      ]
     },
     "execution_count": 13,
     "metadata": {},
     "output_type": "execute_result"
    }
   ],
   "source": [
    "#run this\n",
    "\n",
    "greeting()"
   ]
  },
  {
   "cell_type": "markdown",
   "metadata": {
    "id": "y0D6rdidCDQg"
   },
   "source": [
    "##1d. Using Keyword as Arguments\n",
    "\n",
    "---"
   ]
  },
  {
   "cell_type": "code",
   "execution_count": 14,
   "metadata": {
    "id": "f1rOzex5CDQh"
   },
   "outputs": [],
   "source": [
    "#run this\n",
    "\n",
    "def byebye(language, name):\n",
    "\n",
    "    language = language.upper()\n",
    "    \n",
    "    if language == 'ENG':\n",
    "        return 'Bye ' + name\n",
    "\n",
    "    elif language == 'JAP':\n",
    "        return 'Sayonara ' + name\n",
    "\n",
    "    elif language == 'FR':\n",
    "        return 'Au revoir ' + name"
   ]
  },
  {
   "cell_type": "code",
   "execution_count": 58,
   "metadata": {
    "colab": {
     "base_uri": "https://localhost:8080/",
     "height": 35
    },
    "id": "Z8l7RmGGCDQh",
    "outputId": "4d64e390-83d7-4839-c0b7-cdf5dff350f5"
   },
   "outputs": [
    {
     "data": {
      "text/plain": [
       "'Sayonara Dr. Alvin'"
      ]
     },
     "execution_count": 58,
     "metadata": {},
     "output_type": "execute_result"
    }
   ],
   "source": [
    "#run this\n",
    "\n",
    "byebye('jap', 'Dr. Alvin')"
   ]
  },
  {
   "cell_type": "code",
   "execution_count": 59,
   "metadata": {
    "colab": {
     "base_uri": "https://localhost:8080/",
     "height": 35
    },
    "id": "Lj3gv8TfCDQh",
    "outputId": "629b14cb-6bd6-48f6-d074-9d01506f0694"
   },
   "outputs": [
    {
     "data": {
      "text/plain": [
       "'Sayonara Dr. Alvin'"
      ]
     },
     "execution_count": 59,
     "metadata": {},
     "output_type": "execute_result"
    }
   ],
   "source": [
    "#run this\n",
    "\n",
    "byebye(name='Dr. Alvin', language='jap')\n",
    "\n",
    "#notice now that i reversed the 'name' and 'language' positions... \n",
    "#but in order to do that, i have to put a keyword in front"
   ]
  },
  {
   "cell_type": "markdown",
   "metadata": {
    "id": "SlyEklrkCDQh"
   },
   "source": [
    "##1e. args n kwargs\n",
    "\n",
    "---"
   ]
  },
  {
   "cell_type": "markdown",
   "metadata": {
    "id": "4Hu-9tpZHw79"
   },
   "source": [
    "* *args = the one star allows us to accept many arguments\n",
    "\n",
    "* **kwargs = the two stars allows us to accept many \"keyword\"  arguments"
   ]
  },
  {
   "cell_type": "code",
   "execution_count": 15,
   "metadata": {
    "id": "3kIV0XjmbyvO"
   },
   "outputs": [],
   "source": [
    "#run this --> ARGS\n",
    "\n",
    "def add_all(*args):\n",
    "    return sum(args)"
   ]
  },
  {
   "cell_type": "code",
   "execution_count": 16,
   "metadata": {
    "colab": {
     "base_uri": "https://localhost:8080/"
    },
    "id": "X40-dwUmbyvO",
    "outputId": "5e20c345-c7fa-4e8c-f808-2e7943fed13a"
   },
   "outputs": [
    {
     "data": {
      "text/plain": [
       "55"
      ]
     },
     "execution_count": 16,
     "metadata": {},
     "output_type": "execute_result"
    }
   ],
   "source": [
    "add_all(1,2,3,4,5,6,7,8,9,10)"
   ]
  },
  {
   "cell_type": "code",
   "execution_count": 26,
   "metadata": {
    "id": "YXvB4cFNbyvO"
   },
   "outputs": [],
   "source": [
    "#run this --> KWARGS\n",
    "\n",
    "def add_all(**kwargs):\n",
    "    for i,j in kwargs.items():\n",
    "        print(i,j)\n",
    "    \n",
    "    return sum(kwargs.values())"
   ]
  },
  {
   "cell_type": "code",
   "execution_count": 27,
   "metadata": {
    "colab": {
     "base_uri": "https://localhost:8080/"
    },
    "id": "RAg8f5hLbyvP",
    "outputId": "7d797e33-d126-40e2-e070-1aa6def8d0ae"
   },
   "outputs": [
    {
     "name": "stdout",
     "output_type": "stream",
     "text": [
      "first 10\n",
      "second 20\n",
      "third 30\n"
     ]
    },
    {
     "data": {
      "text/plain": [
       "60"
      ]
     },
     "execution_count": 27,
     "metadata": {},
     "output_type": "execute_result"
    }
   ],
   "source": [
    "add_all(first=10, second=20, third=30)"
   ]
  },
  {
   "cell_type": "code",
   "execution_count": 19,
   "metadata": {
    "id": "1Rbjl8v1CDQj"
   },
   "outputs": [],
   "source": [
    "#run this\n",
    "\n",
    "def cheemology(*args, **kwargs):\n",
    "    print(args)\n",
    "    print(kwargs)"
   ]
  },
  {
   "cell_type": "code",
   "execution_count": 20,
   "metadata": {
    "colab": {
     "base_uri": "https://localhost:8080/"
    },
    "id": "gl1IyfdxCDQj",
    "outputId": "793942c0-84c7-4abd-e52f-ca3d0e0d07f2"
   },
   "outputs": [
    {
     "name": "stdout",
     "output_type": "stream",
     "text": [
      "()\n",
      "{}\n"
     ]
    }
   ],
   "source": [
    "#run this\n",
    "\n",
    "cheemology()\n",
    "\n",
    "#notice that the output is: \n",
    "#*args store as Tuple\n",
    "#*kwargs store as Dictionary"
   ]
  },
  {
   "cell_type": "code",
   "execution_count": 21,
   "metadata": {
    "colab": {
     "base_uri": "https://localhost:8080/"
    },
    "id": "ZRau_TppCDQj",
    "outputId": "46137072-7b67-4e5a-bf59-d7c3568a714c"
   },
   "outputs": [
    {
     "name": "stdout",
     "output_type": "stream",
     "text": [
      "('Happy', 'sad')\n",
      "{'school': 'primary', 'age': 9}\n"
     ]
    }
   ],
   "source": [
    "#run this\n",
    "\n",
    "cheemology('Happy','sad',school='primary',age=9)\n",
    "\n",
    "#'Happy' and 'sad' are strings passed into args (tuple)\n",
    "#keywords school and age are passed into kwargs (dictionary)"
   ]
  },
  {
   "cell_type": "code",
   "execution_count": 22,
   "metadata": {
    "colab": {
     "base_uri": "https://localhost:8080/"
    },
    "id": "1NgxzxaFCDQj",
    "outputId": "3aa1ad4e-c088-473f-8b83-6d1ddb2c2e2c"
   },
   "outputs": [
    {
     "name": "stdout",
     "output_type": "stream",
     "text": [
      "(['Happy', 'sad'], {'school': 'primary', 'age': 9})\n",
      "{}\n"
     ]
    }
   ],
   "source": [
    "#run this\n",
    "\n",
    "state = ['Happy', 'sad']\n",
    "student = {'school': 'primary', 'age': 9}\n",
    "\n",
    "cheemology(state, student)\n",
    "\n",
    "#state (list) and student (dict) are passed into args (tuple)\n",
    "#because there are no keywords, thus kwargs is empty"
   ]
  },
  {
   "cell_type": "code",
   "execution_count": 23,
   "metadata": {
    "colab": {
     "base_uri": "https://localhost:8080/"
    },
    "id": "mlb1_VpDCDQk",
    "outputId": "728818ac-e0e5-4ac3-bc6b-d5cc27e05518"
   },
   "outputs": [
    {
     "name": "stdout",
     "output_type": "stream",
     "text": [
      "({'school': 'primary', 'age': 9}, ['Happy', 'sad'])\n",
      "{}\n"
     ]
    }
   ],
   "source": [
    "#run this\n",
    "\n",
    "cheemology(student, state)\n",
    "\n",
    "#notice you can rotate them"
   ]
  },
  {
   "cell_type": "code",
   "execution_count": 24,
   "metadata": {
    "colab": {
     "base_uri": "https://localhost:8080/"
    },
    "id": "QwLrIqH2CDQk",
    "outputId": "70f4158e-5f0c-41d3-b6fd-ba7f79b754db",
    "scrolled": true
   },
   "outputs": [
    {
     "name": "stdout",
     "output_type": "stream",
     "text": [
      "('Happy', 'sad')\n",
      "{'school': 'primary', 'age': 9}\n"
     ]
    }
   ],
   "source": [
    "#run this\n",
    "\n",
    "cheemology(*state, **student)\n",
    "\n",
    "#adding * will unpack the items\n",
    "#note the brackets disappeared\n",
    "#the * guides the 'state' -> 'args' and 'student' -> 'kwargs'"
   ]
  },
  {
   "cell_type": "code",
   "execution_count": 25,
   "metadata": {
    "colab": {
     "base_uri": "https://localhost:8080/",
     "height": 131
    },
    "id": "K3C5NZCjCDQl",
    "outputId": "67dc66e7-57c0-453b-f7fe-c9345217e0ba"
   },
   "outputs": [
    {
     "ename": "SyntaxError",
     "evalue": "iterable argument unpacking follows keyword argument unpacking (Temp/ipykernel_18104/2835929942.py, line 3)",
     "output_type": "error",
     "traceback": [
      "\u001b[1;36m  File \u001b[1;32m\"C:\\Users\\celin\\AppData\\Local\\Temp/ipykernel_18104/2835929942.py\"\u001b[1;36m, line \u001b[1;32m3\u001b[0m\n\u001b[1;33m    cheem(**student, *state)\u001b[0m\n\u001b[1;37m                     ^\u001b[0m\n\u001b[1;31mSyntaxError\u001b[0m\u001b[1;31m:\u001b[0m iterable argument unpacking follows keyword argument unpacking\n"
     ]
    }
   ],
   "source": [
    "#run this\n",
    "\n",
    "cheem(**student, *state) \n",
    "\n",
    "#you cannot put the 'args' at the 'kwargs' and vice versa"
   ]
  },
  {
   "cell_type": "markdown",
   "metadata": {
    "id": "qCR2ToQezGCg"
   },
   "source": [
    "#Topic 2: Quick Introduction to Common Libraries\n",
    "\n",
    "---\n",
    "\n",
    "\n",
    "Data Processing and Analysis\n",
    "- Numpy\n",
    "- Pandas\n",
    "\n",
    "Data Visualization\n",
    "- Matplotlib\n",
    "- Seaborn\n",
    "\n",
    "Data Modeling\n",
    "- Scikit Learn"
   ]
  },
  {
   "cell_type": "markdown",
   "metadata": {
    "id": "oxSVx_8Z4Mxp"
   },
   "source": [
    "##2a. Brief Intro to Numpy\n",
    "\n",
    "---\n",
    "\n"
   ]
  },
  {
   "cell_type": "code",
   "execution_count": 1,
   "metadata": {
    "id": "uddt_4ulsckm"
   },
   "outputs": [],
   "source": [
    "import numpy as np"
   ]
  },
  {
   "cell_type": "code",
   "execution_count": 2,
   "metadata": {
    "colab": {
     "base_uri": "https://localhost:8080/"
    },
    "id": "_vhYFLGyu_C5",
    "outputId": "f04591a1-83e7-4399-9edd-bef3eac5a8e6"
   },
   "outputs": [
    {
     "name": "stdout",
     "output_type": "stream",
     "text": [
      "[3, 4, 5, 6, 6, 5, 4, 3]\n",
      "[9 9 9 9]\n"
     ]
    }
   ],
   "source": [
    "a = [3,4,5,6]\n",
    "b = [6,5,4,3]\n",
    "print(a+b)\n",
    "\n",
    "a1 = np.array(a)\n",
    "b1 = np.array(b)\n",
    "print(a1+b1)\n"
   ]
  },
  {
   "cell_type": "code",
   "execution_count": 4,
   "metadata": {
    "colab": {
     "base_uri": "https://localhost:8080/"
    },
    "id": "6ckGisAu30CP",
    "outputId": "083b9c61-18d7-4abc-839b-ff0dfa7246cb"
   },
   "outputs": [
    {
     "name": "stdout",
     "output_type": "stream",
     "text": [
      "[False False False  True  True  True]\n",
      "[6, 7, 8]\n"
     ]
    }
   ],
   "source": [
    "a = [3,4,5,6,7,8]\n",
    "a1 = np.array(a)\n",
    "print(a1>5)\n",
    "b = filter(lambda x:x>5,a)\n",
    "print(list(b))"
   ]
  },
  {
   "cell_type": "markdown",
   "metadata": {
    "id": "G9uWyfj14RD2"
   },
   "source": [
    "##2b. Brief Intro to Pandas\n",
    "\n",
    "---\n",
    "\n"
   ]
  },
  {
   "cell_type": "code",
   "execution_count": 5,
   "metadata": {
    "id": "qziO8Xi14Cvr"
   },
   "outputs": [],
   "source": [
    "import pandas as pd"
   ]
  },
  {
   "cell_type": "code",
   "execution_count": 6,
   "metadata": {
    "colab": {
     "base_uri": "https://localhost:8080/",
     "height": 398
    },
    "id": "HI0kgLj34aFC",
    "outputId": "30ab98ca-7cef-4ae9-b1ff-1b8c8bf801fe"
   },
   "outputs": [
    {
     "ename": "FileNotFoundError",
     "evalue": "[Errno 2] No such file or directory: 'subjects.txt'",
     "output_type": "error",
     "traceback": [
      "\u001b[1;31m---------------------------------------------------------------------------\u001b[0m",
      "\u001b[1;31mFileNotFoundError\u001b[0m                         Traceback (most recent call last)",
      "\u001b[1;32m~\\AppData\\Local\\Temp/ipykernel_16200/763070872.py\u001b[0m in \u001b[0;36m<module>\u001b[1;34m\u001b[0m\n\u001b[1;32m----> 1\u001b[1;33m \u001b[0mdf\u001b[0m \u001b[1;33m=\u001b[0m \u001b[0mpd\u001b[0m\u001b[1;33m.\u001b[0m\u001b[0mread_csv\u001b[0m\u001b[1;33m(\u001b[0m\u001b[1;34m'subjects.txt'\u001b[0m\u001b[1;33m)\u001b[0m\u001b[1;33m\u001b[0m\u001b[1;33m\u001b[0m\u001b[0m\n\u001b[0m\u001b[0;32m      2\u001b[0m \u001b[0mprint\u001b[0m\u001b[1;33m(\u001b[0m\u001b[0mdf\u001b[0m\u001b[1;33m[\u001b[0m\u001b[0mdf\u001b[0m\u001b[1;33m.\u001b[0m\u001b[0mStudents\u001b[0m\u001b[1;33m>\u001b[0m\u001b[1;36m70\u001b[0m\u001b[1;33m]\u001b[0m\u001b[1;33m)\u001b[0m\u001b[1;33m\u001b[0m\u001b[1;33m\u001b[0m\u001b[0m\n",
      "\u001b[1;32m~\\anaconda3\\lib\\site-packages\\pandas\\util\\_decorators.py\u001b[0m in \u001b[0;36mwrapper\u001b[1;34m(*args, **kwargs)\u001b[0m\n\u001b[0;32m    309\u001b[0m                     \u001b[0mstacklevel\u001b[0m\u001b[1;33m=\u001b[0m\u001b[0mstacklevel\u001b[0m\u001b[1;33m,\u001b[0m\u001b[1;33m\u001b[0m\u001b[1;33m\u001b[0m\u001b[0m\n\u001b[0;32m    310\u001b[0m                 )\n\u001b[1;32m--> 311\u001b[1;33m             \u001b[1;32mreturn\u001b[0m \u001b[0mfunc\u001b[0m\u001b[1;33m(\u001b[0m\u001b[1;33m*\u001b[0m\u001b[0margs\u001b[0m\u001b[1;33m,\u001b[0m \u001b[1;33m**\u001b[0m\u001b[0mkwargs\u001b[0m\u001b[1;33m)\u001b[0m\u001b[1;33m\u001b[0m\u001b[1;33m\u001b[0m\u001b[0m\n\u001b[0m\u001b[0;32m    312\u001b[0m \u001b[1;33m\u001b[0m\u001b[0m\n\u001b[0;32m    313\u001b[0m         \u001b[1;32mreturn\u001b[0m \u001b[0mwrapper\u001b[0m\u001b[1;33m\u001b[0m\u001b[1;33m\u001b[0m\u001b[0m\n",
      "\u001b[1;32m~\\anaconda3\\lib\\site-packages\\pandas\\io\\parsers\\readers.py\u001b[0m in \u001b[0;36mread_csv\u001b[1;34m(filepath_or_buffer, sep, delimiter, header, names, index_col, usecols, squeeze, prefix, mangle_dupe_cols, dtype, engine, converters, true_values, false_values, skipinitialspace, skiprows, skipfooter, nrows, na_values, keep_default_na, na_filter, verbose, skip_blank_lines, parse_dates, infer_datetime_format, keep_date_col, date_parser, dayfirst, cache_dates, iterator, chunksize, compression, thousands, decimal, lineterminator, quotechar, quoting, doublequote, escapechar, comment, encoding, encoding_errors, dialect, error_bad_lines, warn_bad_lines, on_bad_lines, delim_whitespace, low_memory, memory_map, float_precision, storage_options)\u001b[0m\n\u001b[0;32m    584\u001b[0m     \u001b[0mkwds\u001b[0m\u001b[1;33m.\u001b[0m\u001b[0mupdate\u001b[0m\u001b[1;33m(\u001b[0m\u001b[0mkwds_defaults\u001b[0m\u001b[1;33m)\u001b[0m\u001b[1;33m\u001b[0m\u001b[1;33m\u001b[0m\u001b[0m\n\u001b[0;32m    585\u001b[0m \u001b[1;33m\u001b[0m\u001b[0m\n\u001b[1;32m--> 586\u001b[1;33m     \u001b[1;32mreturn\u001b[0m \u001b[0m_read\u001b[0m\u001b[1;33m(\u001b[0m\u001b[0mfilepath_or_buffer\u001b[0m\u001b[1;33m,\u001b[0m \u001b[0mkwds\u001b[0m\u001b[1;33m)\u001b[0m\u001b[1;33m\u001b[0m\u001b[1;33m\u001b[0m\u001b[0m\n\u001b[0m\u001b[0;32m    587\u001b[0m \u001b[1;33m\u001b[0m\u001b[0m\n\u001b[0;32m    588\u001b[0m \u001b[1;33m\u001b[0m\u001b[0m\n",
      "\u001b[1;32m~\\anaconda3\\lib\\site-packages\\pandas\\io\\parsers\\readers.py\u001b[0m in \u001b[0;36m_read\u001b[1;34m(filepath_or_buffer, kwds)\u001b[0m\n\u001b[0;32m    480\u001b[0m \u001b[1;33m\u001b[0m\u001b[0m\n\u001b[0;32m    481\u001b[0m     \u001b[1;31m# Create the parser.\u001b[0m\u001b[1;33m\u001b[0m\u001b[1;33m\u001b[0m\u001b[0m\n\u001b[1;32m--> 482\u001b[1;33m     \u001b[0mparser\u001b[0m \u001b[1;33m=\u001b[0m \u001b[0mTextFileReader\u001b[0m\u001b[1;33m(\u001b[0m\u001b[0mfilepath_or_buffer\u001b[0m\u001b[1;33m,\u001b[0m \u001b[1;33m**\u001b[0m\u001b[0mkwds\u001b[0m\u001b[1;33m)\u001b[0m\u001b[1;33m\u001b[0m\u001b[1;33m\u001b[0m\u001b[0m\n\u001b[0m\u001b[0;32m    483\u001b[0m \u001b[1;33m\u001b[0m\u001b[0m\n\u001b[0;32m    484\u001b[0m     \u001b[1;32mif\u001b[0m \u001b[0mchunksize\u001b[0m \u001b[1;32mor\u001b[0m \u001b[0miterator\u001b[0m\u001b[1;33m:\u001b[0m\u001b[1;33m\u001b[0m\u001b[1;33m\u001b[0m\u001b[0m\n",
      "\u001b[1;32m~\\anaconda3\\lib\\site-packages\\pandas\\io\\parsers\\readers.py\u001b[0m in \u001b[0;36m__init__\u001b[1;34m(self, f, engine, **kwds)\u001b[0m\n\u001b[0;32m    809\u001b[0m             \u001b[0mself\u001b[0m\u001b[1;33m.\u001b[0m\u001b[0moptions\u001b[0m\u001b[1;33m[\u001b[0m\u001b[1;34m\"has_index_names\"\u001b[0m\u001b[1;33m]\u001b[0m \u001b[1;33m=\u001b[0m \u001b[0mkwds\u001b[0m\u001b[1;33m[\u001b[0m\u001b[1;34m\"has_index_names\"\u001b[0m\u001b[1;33m]\u001b[0m\u001b[1;33m\u001b[0m\u001b[1;33m\u001b[0m\u001b[0m\n\u001b[0;32m    810\u001b[0m \u001b[1;33m\u001b[0m\u001b[0m\n\u001b[1;32m--> 811\u001b[1;33m         \u001b[0mself\u001b[0m\u001b[1;33m.\u001b[0m\u001b[0m_engine\u001b[0m \u001b[1;33m=\u001b[0m \u001b[0mself\u001b[0m\u001b[1;33m.\u001b[0m\u001b[0m_make_engine\u001b[0m\u001b[1;33m(\u001b[0m\u001b[0mself\u001b[0m\u001b[1;33m.\u001b[0m\u001b[0mengine\u001b[0m\u001b[1;33m)\u001b[0m\u001b[1;33m\u001b[0m\u001b[1;33m\u001b[0m\u001b[0m\n\u001b[0m\u001b[0;32m    812\u001b[0m \u001b[1;33m\u001b[0m\u001b[0m\n\u001b[0;32m    813\u001b[0m     \u001b[1;32mdef\u001b[0m \u001b[0mclose\u001b[0m\u001b[1;33m(\u001b[0m\u001b[0mself\u001b[0m\u001b[1;33m)\u001b[0m\u001b[1;33m:\u001b[0m\u001b[1;33m\u001b[0m\u001b[1;33m\u001b[0m\u001b[0m\n",
      "\u001b[1;32m~\\anaconda3\\lib\\site-packages\\pandas\\io\\parsers\\readers.py\u001b[0m in \u001b[0;36m_make_engine\u001b[1;34m(self, engine)\u001b[0m\n\u001b[0;32m   1038\u001b[0m             )\n\u001b[0;32m   1039\u001b[0m         \u001b[1;31m# error: Too many arguments for \"ParserBase\"\u001b[0m\u001b[1;33m\u001b[0m\u001b[1;33m\u001b[0m\u001b[0m\n\u001b[1;32m-> 1040\u001b[1;33m         \u001b[1;32mreturn\u001b[0m \u001b[0mmapping\u001b[0m\u001b[1;33m[\u001b[0m\u001b[0mengine\u001b[0m\u001b[1;33m]\u001b[0m\u001b[1;33m(\u001b[0m\u001b[0mself\u001b[0m\u001b[1;33m.\u001b[0m\u001b[0mf\u001b[0m\u001b[1;33m,\u001b[0m \u001b[1;33m**\u001b[0m\u001b[0mself\u001b[0m\u001b[1;33m.\u001b[0m\u001b[0moptions\u001b[0m\u001b[1;33m)\u001b[0m  \u001b[1;31m# type: ignore[call-arg]\u001b[0m\u001b[1;33m\u001b[0m\u001b[1;33m\u001b[0m\u001b[0m\n\u001b[0m\u001b[0;32m   1041\u001b[0m \u001b[1;33m\u001b[0m\u001b[0m\n\u001b[0;32m   1042\u001b[0m     \u001b[1;32mdef\u001b[0m \u001b[0m_failover_to_python\u001b[0m\u001b[1;33m(\u001b[0m\u001b[0mself\u001b[0m\u001b[1;33m)\u001b[0m\u001b[1;33m:\u001b[0m\u001b[1;33m\u001b[0m\u001b[1;33m\u001b[0m\u001b[0m\n",
      "\u001b[1;32m~\\anaconda3\\lib\\site-packages\\pandas\\io\\parsers\\c_parser_wrapper.py\u001b[0m in \u001b[0;36m__init__\u001b[1;34m(self, src, **kwds)\u001b[0m\n\u001b[0;32m     49\u001b[0m \u001b[1;33m\u001b[0m\u001b[0m\n\u001b[0;32m     50\u001b[0m         \u001b[1;31m# open handles\u001b[0m\u001b[1;33m\u001b[0m\u001b[1;33m\u001b[0m\u001b[0m\n\u001b[1;32m---> 51\u001b[1;33m         \u001b[0mself\u001b[0m\u001b[1;33m.\u001b[0m\u001b[0m_open_handles\u001b[0m\u001b[1;33m(\u001b[0m\u001b[0msrc\u001b[0m\u001b[1;33m,\u001b[0m \u001b[0mkwds\u001b[0m\u001b[1;33m)\u001b[0m\u001b[1;33m\u001b[0m\u001b[1;33m\u001b[0m\u001b[0m\n\u001b[0m\u001b[0;32m     52\u001b[0m         \u001b[1;32massert\u001b[0m \u001b[0mself\u001b[0m\u001b[1;33m.\u001b[0m\u001b[0mhandles\u001b[0m \u001b[1;32mis\u001b[0m \u001b[1;32mnot\u001b[0m \u001b[1;32mNone\u001b[0m\u001b[1;33m\u001b[0m\u001b[1;33m\u001b[0m\u001b[0m\n\u001b[0;32m     53\u001b[0m \u001b[1;33m\u001b[0m\u001b[0m\n",
      "\u001b[1;32m~\\anaconda3\\lib\\site-packages\\pandas\\io\\parsers\\base_parser.py\u001b[0m in \u001b[0;36m_open_handles\u001b[1;34m(self, src, kwds)\u001b[0m\n\u001b[0;32m    220\u001b[0m         \u001b[0mLet\u001b[0m \u001b[0mthe\u001b[0m \u001b[0mreaders\u001b[0m \u001b[0mopen\u001b[0m \u001b[0mIOHandles\u001b[0m \u001b[0mafter\u001b[0m \u001b[0mthey\u001b[0m \u001b[0mare\u001b[0m \u001b[0mdone\u001b[0m \u001b[1;32mwith\u001b[0m \u001b[0mtheir\u001b[0m \u001b[0mpotential\u001b[0m \u001b[0mraises\u001b[0m\u001b[1;33m.\u001b[0m\u001b[1;33m\u001b[0m\u001b[1;33m\u001b[0m\u001b[0m\n\u001b[0;32m    221\u001b[0m         \"\"\"\n\u001b[1;32m--> 222\u001b[1;33m         self.handles = get_handle(\n\u001b[0m\u001b[0;32m    223\u001b[0m             \u001b[0msrc\u001b[0m\u001b[1;33m,\u001b[0m\u001b[1;33m\u001b[0m\u001b[1;33m\u001b[0m\u001b[0m\n\u001b[0;32m    224\u001b[0m             \u001b[1;34m\"r\"\u001b[0m\u001b[1;33m,\u001b[0m\u001b[1;33m\u001b[0m\u001b[1;33m\u001b[0m\u001b[0m\n",
      "\u001b[1;32m~\\anaconda3\\lib\\site-packages\\pandas\\io\\common.py\u001b[0m in \u001b[0;36mget_handle\u001b[1;34m(path_or_buf, mode, encoding, compression, memory_map, is_text, errors, storage_options)\u001b[0m\n\u001b[0;32m    700\u001b[0m         \u001b[1;32mif\u001b[0m \u001b[0mioargs\u001b[0m\u001b[1;33m.\u001b[0m\u001b[0mencoding\u001b[0m \u001b[1;32mand\u001b[0m \u001b[1;34m\"b\"\u001b[0m \u001b[1;32mnot\u001b[0m \u001b[1;32min\u001b[0m \u001b[0mioargs\u001b[0m\u001b[1;33m.\u001b[0m\u001b[0mmode\u001b[0m\u001b[1;33m:\u001b[0m\u001b[1;33m\u001b[0m\u001b[1;33m\u001b[0m\u001b[0m\n\u001b[0;32m    701\u001b[0m             \u001b[1;31m# Encoding\u001b[0m\u001b[1;33m\u001b[0m\u001b[1;33m\u001b[0m\u001b[0m\n\u001b[1;32m--> 702\u001b[1;33m             handle = open(\n\u001b[0m\u001b[0;32m    703\u001b[0m                 \u001b[0mhandle\u001b[0m\u001b[1;33m,\u001b[0m\u001b[1;33m\u001b[0m\u001b[1;33m\u001b[0m\u001b[0m\n\u001b[0;32m    704\u001b[0m                 \u001b[0mioargs\u001b[0m\u001b[1;33m.\u001b[0m\u001b[0mmode\u001b[0m\u001b[1;33m,\u001b[0m\u001b[1;33m\u001b[0m\u001b[1;33m\u001b[0m\u001b[0m\n",
      "\u001b[1;31mFileNotFoundError\u001b[0m: [Errno 2] No such file or directory: 'subjects.txt'"
     ]
    }
   ],
   "source": [
    "df = pd.read_csv('subjects.txt')\n",
    "print(df[df.Students>70])"
   ]
  },
  {
   "cell_type": "markdown",
   "metadata": {
    "id": "UxJgU-8g7GV0"
   },
   "source": [
    "##2c. Brief Intro to Matplotlib\n",
    "\n",
    "---\n",
    "\n"
   ]
  },
  {
   "cell_type": "code",
   "execution_count": 3,
   "metadata": {
    "id": "rW0njSVV4cx7"
   },
   "outputs": [],
   "source": [
    "import numpy as np\n",
    "import pandas as pd\n",
    "import matplotlib.pyplot as plt "
   ]
  },
  {
   "cell_type": "code",
   "execution_count": 4,
   "metadata": {
    "colab": {
     "base_uri": "https://localhost:8080/",
     "height": 265
    },
    "id": "29IeSVpr7NTL",
    "outputId": "f77b9cd1-5197-4940-d094-bfbe07fdb520"
   },
   "outputs": [
    {
     "data": {
      "image/png": "[encoded data removed]",
      "text/plain": [
       "<Figure size 432x288 with 1 Axes>"
      ]
     },
     "metadata": {
      "needs_background": "light"
     },
     "output_type": "display_data"
    }
   ],
   "source": [
    "x = np.linspace(0,4*np.pi,200)\n",
    "y = np.sin(x)\n",
    "plt.plot(x,y)\n",
    "plt.show()"
   ]
  },
  {
   "cell_type": "markdown",
   "metadata": {
    "id": "lxIi3W995Wyu"
   },
   "source": [
    "##2d. Brief Intro to Seaborn\n",
    "\n",
    "---\n",
    "\n"
   ]
  },
  {
   "cell_type": "code",
   "execution_count": 77,
   "metadata": {
    "id": "kxIQadru5cbR"
   },
   "outputs": [],
   "source": [
    "import seaborn as sb\n",
    "\n",
    "mtcars_sample = pd.read_csv('https://www.alvinang.sg/s/mtcars.csv',\n",
    "                          index_col='car_names',\n",
    "                          usecols=['car_names','mpg','hp','cyl','am'])"
   ]
  },
  {
   "cell_type": "code",
   "execution_count": 78,
   "metadata": {
    "colab": {
     "base_uri": "https://localhost:8080/",
     "height": 283
    },
    "id": "bYZhaw-u6KVw",
    "outputId": "d1e61908-ce43-4cc2-c294-68ea25a4ad3b"
   },
   "outputs": [
    {
     "data": {
      "text/plain": [
       "<AxesSubplot:ylabel='cyl'>"
      ]
     },
     "execution_count": 78,
     "metadata": {},
     "output_type": "execute_result"
    },
    {
     "data": {
      "image/png": "[encoded data removed]",
      "text/plain": [
       "<Figure size 432x288 with 2 Axes>"
      ]
     },
     "metadata": {
      "needs_background": "light"
     },
     "output_type": "display_data"
    }
   ],
   "source": [
    "mtcars_cyl= mtcars_sample.groupby('cyl').mean()\n",
    "sb.heatmap(mtcars_cyl, annot=True)"
   ]
  },
  {
   "cell_type": "markdown",
   "metadata": {
    "id": "oULbDm2U7mK-"
   },
   "source": [
    "##2e. The Data Science Process\n",
    "\n",
    "---\n",
    "\n",
    "\n",
    "- Topic 1: Data Preparation\n",
    "- Topic 2: Data Transformation\n",
    "- Topic 3: Data Visualization\n",
    "- Topic 4: Data Analysis\n",
    "- Topic 5: Advanced Data Analysis"
   ]
  },
  {
   "cell_type": "markdown",
   "metadata": {
    "id": "Whu7sy3VCDQl"
   },
   "source": [
    "# Topic 3: Numpy \n",
    "\n",
    "---\n",
    "\n",
    "\n",
    "\n"
   ]
  },
  {
   "cell_type": "code",
   "execution_count": 5,
   "metadata": {
    "colab": {
     "base_uri": "https://localhost:8080/"
    },
    "id": "iyrBt095CDQm",
    "outputId": "5a5e42ad-b1be-46b5-f8e2-0045cdc457e9"
   },
   "outputs": [
    {
     "name": "stdout",
     "output_type": "stream",
     "text": [
      "\n",
      "NumPy\n",
      "=====\n",
      "\n",
      "Provides\n",
      "  1. An array object of arbitrary homogeneous items\n",
      "  2. Fast mathematical operations over arrays\n",
      "  3. Linear Algebra, Fourier Transforms, Random Number Generation\n",
      "\n",
      "How to use the documentation\n",
      "----------------------------\n",
      "Documentation is available in two forms: docstrings provided\n",
      "with the code, and a loose standing reference guide, available from\n",
      "`the NumPy homepage <https://www.scipy.org>`_.\n",
      "\n",
      "We recommend exploring the docstrings using\n",
      "`IPython <https://ipython.org>`_, an advanced Python shell with\n",
      "TAB-completion and introspection capabilities.  See below for further\n",
      "instructions.\n",
      "\n",
      "The docstring examples assume that `numpy` has been imported as `np`::\n",
      "\n",
      "  >>> import numpy as np\n",
      "\n",
      "Code snippets are indicated by three greater-than signs::\n",
      "\n",
      "  >>> x = 42\n",
      "  >>> x = x + 1\n",
      "\n",
      "Use the built-in ``help`` function to view a function's docstring::\n",
      "\n",
      "  >>> help(np.sort)\n",
      "  ... # doctest: +SKIP\n",
      "\n",
      "For some objects, ``np.info(obj)`` may provide additional help.  This is\n",
      "particularly true if you see the line \"Help on ufunc object:\" at the top\n",
      "of the help() page.  Ufuncs are implemented in C, not Python, for speed.\n",
      "The native Python help() does not know how to view their help, but our\n",
      "np.info() function does.\n",
      "\n",
      "To search for documents containing a keyword, do::\n",
      "\n",
      "  >>> np.lookfor('keyword')\n",
      "  ... # doctest: +SKIP\n",
      "\n",
      "General-purpose documents like a glossary and help on the basic concepts\n",
      "of numpy are available under the ``doc`` sub-module::\n",
      "\n",
      "  >>> from numpy import doc\n",
      "  >>> help(doc)\n",
      "  ... # doctest: +SKIP\n",
      "\n",
      "Available subpackages\n",
      "---------------------\n",
      "doc\n",
      "    Topical documentation on broadcasting, indexing, etc.\n",
      "lib\n",
      "    Basic functions used by several sub-packages.\n",
      "random\n",
      "    Core Random Tools\n",
      "linalg\n",
      "    Core Linear Algebra Tools\n",
      "fft\n",
      "    Core FFT routines\n",
      "polynomial\n",
      "    Polynomial tools\n",
      "testing\n",
      "    NumPy testing tools\n",
      "f2py\n",
      "    Fortran to Python Interface Generator.\n",
      "distutils\n",
      "    Enhancements to distutils with support for\n",
      "    Fortran compilers support and more.\n",
      "\n",
      "Utilities\n",
      "---------\n",
      "test\n",
      "    Run numpy unittests\n",
      "show_config\n",
      "    Show numpy build configuration\n",
      "dual\n",
      "    Overwrite certain functions with high-performance SciPy tools.\n",
      "    Note: `numpy.dual` is deprecated.  Use the functions from NumPy or Scipy\n",
      "    directly instead of importing them from `numpy.dual`.\n",
      "matlib\n",
      "    Make everything matrices.\n",
      "__version__\n",
      "    NumPy version string\n",
      "\n",
      "Viewing documentation using IPython\n",
      "-----------------------------------\n",
      "Start IPython with the NumPy profile (``ipython -p numpy``), which will\n",
      "import `numpy` under the alias `np`.  Then, use the ``cpaste`` command to\n",
      "paste examples into the shell.  To see which functions are available in\n",
      "`numpy`, type ``np.<TAB>`` (where ``<TAB>`` refers to the TAB key), or use\n",
      "``np.*cos*?<ENTER>`` (where ``<ENTER>`` refers to the ENTER key) to narrow\n",
      "down the list.  To view the docstring for a function, use\n",
      "``np.cos?<ENTER>`` (to view the docstring) and ``np.cos??<ENTER>`` (to view\n",
      "the source code).\n",
      "\n",
      "Copies vs. in-place operation\n",
      "-----------------------------\n",
      "Most of the functions in `numpy` return a copy of the array argument\n",
      "(e.g., `np.sort`).  In-place versions of these functions are often\n",
      "available as array methods, i.e. ``x = np.array([1,2,3]); x.sort()``.\n",
      "Exceptions to this rule are documented.\n",
      "\n",
      "\n"
     ]
    }
   ],
   "source": [
    "#run this\n",
    "\n",
    "import numpy as np\n",
    "print(np.__doc__)"
   ]
  },
  {
   "cell_type": "code",
   "execution_count": 6,
   "metadata": {
    "id": "_IDFwPxZCDQm"
   },
   "outputs": [],
   "source": [
    "#run this\n",
    "\n",
    "x = [10,14,11,7,9.5,15,19,10]"
   ]
  },
  {
   "cell_type": "markdown",
   "metadata": {
    "id": "6OFLgcq-CDQn"
   },
   "source": [
    "##Topic 3a: Mean\n",
    "\n",
    "---\n",
    "```numpy.mean(a, axis=None, dtype=None)```\n",
    "\n",
    "* a: array containing numbers whose mean is required\n",
    "* axis: axis or axes along which the means are computed, \n",
    "    * default is to compute the mean of the flattened array\n",
    "* dtype: type of data to be used in calculations"
   ]
  },
  {
   "cell_type": "code",
   "execution_count": 7,
   "metadata": {
    "colab": {
     "base_uri": "https://localhost:8080/"
    },
    "id": "qk8F2duPCDQn",
    "outputId": "910f5e09-3de6-4731-9ee7-2f4cf36a0168"
   },
   "outputs": [
    {
     "data": {
      "text/plain": [
       "11.9375"
      ]
     },
     "execution_count": 7,
     "metadata": {},
     "output_type": "execute_result"
    }
   ],
   "source": [
    "#run this\n",
    "\n",
    "np.mean(x)"
   ]
  },
  {
   "cell_type": "markdown",
   "metadata": {
    "id": "hzc3ZStCCDQn"
   },
   "source": [
    "##Topic 3b: Median\n",
    "\n",
    "---\n",
    "\n",
    "\n",
    "```numpy.median(a, axis=None, out=None)```\n",
    "\n",
    "* a: array containing numbers whose median is required\n",
    "* axis: axis or axes along which the median is computed\n",
    "    * default is to compute the median of the flattened array\n",
    "* out: alternative output array to place the result, must have the same shape and buffer length as the expected output."
   ]
  },
  {
   "cell_type": "code",
   "execution_count": 8,
   "metadata": {
    "colab": {
     "base_uri": "https://localhost:8080/"
    },
    "id": "Z9hLf47gCDQn",
    "outputId": "bef4cee4-09b9-4c95-fce9-df41046261cf"
   },
   "outputs": [
    {
     "data": {
      "text/plain": [
       "10.5"
      ]
     },
     "execution_count": 8,
     "metadata": {},
     "output_type": "execute_result"
    }
   ],
   "source": [
    "#run this\n",
    "\n",
    "np.median(x)"
   ]
  },
  {
   "cell_type": "markdown",
   "metadata": {
    "id": "D1TS4wAZCDQn"
   },
   "source": [
    "##Topic 3c: Mode\n",
    "\n",
    "---\n",
    "\n",
    "\n",
    "\n",
    "```python\n",
    "scipy.stats.mstats.mode(a, axis=0)\n",
    "```\n",
    "\n",
    "* a: array containing numbers whose mode is required\n",
    "* axis: axis or axes along which the mode is computed\n",
    "    * default is 0\n",
    "    * if None, compute the mode of the flattened array\n",
    "\n",
    "It returns (```mode: array of modal values, count: array of counts for each mode```)."
   ]
  },
  {
   "cell_type": "code",
   "execution_count": 9,
   "metadata": {
    "colab": {
     "base_uri": "https://localhost:8080/"
    },
    "id": "PuSJ8cEeCDQo",
    "outputId": "9177ecb7-34e6-49b3-cf5d-ab09ff963516"
   },
   "outputs": [
    {
     "data": {
      "text/plain": [
       "ModeResult(mode=array([10.]), count=array([2.]))"
      ]
     },
     "execution_count": 9,
     "metadata": {},
     "output_type": "execute_result"
    }
   ],
   "source": [
    "#run this\n",
    "\n",
    "from scipy import stats\n",
    "stats.mstats.mode(x)"
   ]
  },
  {
   "cell_type": "markdown",
   "metadata": {
    "id": "_7wkmLfpCDQo"
   },
   "source": [
    "##Topic 3d: Range\n",
    "\n",
    "---\n",
    "```python\n",
    "numpy.ptp(a, axis=None, out=None)```\n",
    "\n",
    "'ptp' stands for 'peak to peak'.\n",
    "* a: array containing numbers whose range is required\n",
    "* axis: axis or axes along which the range is computed, \n",
    "   * default is to compute the range of the flattened array. \n",
    "\n",
    "It returns a new array with the result."
   ]
  },
  {
   "cell_type": "code",
   "execution_count": 84,
   "metadata": {
    "id": "k2my7BWzCDQo",
    "outputId": "45377857-d8f9-418a-eaf3-99eb88135ea9"
   },
   "outputs": [
    {
     "data": {
      "text/plain": [
       "12.0"
      ]
     },
     "execution_count": 84,
     "metadata": {},
     "output_type": "execute_result"
    }
   ],
   "source": [
    "#run this\n",
    "\n",
    "np.ptp(x)"
   ]
  },
  {
   "cell_type": "markdown",
   "metadata": {
    "id": "oUgL6G-zCDQo"
   },
   "source": [
    "##Topic 3e: Variance\n",
    "\n",
    "---\n",
    "Variance can be calculated in python using different libraries like numpy, pandas, and statistics.\n",
    "\n",
    "```python\n",
    "numpy.var(a, axis=None, dtype=None, ddof=0)\n",
    "```\n",
    "\n",
    "* a: array containing numbers whose variance is required\n",
    "* axis: axis or axes along which the variances are computed, default is to compute the mean of the flattened array\n",
    "* ddof : int, optional\n",
    "    * ddof stands for delta degrees of freedom. It is the divisor used in the calculation, which is N - ddof, where N is the number of elements. \n",
    "    * The default value of ddof is 0."
   ]
  },
  {
   "cell_type": "code",
   "execution_count": 85,
   "metadata": {
    "id": "BKyscVPECDQp",
    "outputId": "89f145e2-2a02-4e45-9fd4-0dad127ee88d"
   },
   "outputs": [
    {
     "data": {
      "text/plain": [
       "12.77734375"
      ]
     },
     "execution_count": 85,
     "metadata": {},
     "output_type": "execute_result"
    }
   ],
   "source": [
    "#run this\n",
    "\n",
    "np.var(x)"
   ]
  },
  {
   "cell_type": "markdown",
   "metadata": {
    "id": "7ijDAnZwu7dg"
   },
   "source": [
    "##Point to Note: .describe()\n",
    "\n",
    "---\n",
    "* Rather than using Numpy to list the Descriptive Statistics, we will use Pandas .describe() function to obtain the Mean / Median / Std Dev all in one table (see next section)... \n",
    "\n"
   ]
  },
  {
   "cell_type": "markdown",
   "metadata": {
    "id": "MXTSczDXCDQq"
   },
   "source": [
    "# Topic 4: Pandas\n",
    "\n",
    "---"
   ]
  },
  {
   "cell_type": "markdown",
   "metadata": {
    "id": "rZpS5LQKwhzh"
   },
   "source": [
    "##4a. Using Pandas to Store DataFrame\n",
    "\n",
    "---\n",
    "\n"
   ]
  },
  {
   "cell_type": "code",
   "execution_count": 86,
   "metadata": {
    "id": "Z9hYptARCDQr"
   },
   "outputs": [],
   "source": [
    "#run this\n",
    "\n",
    "import pandas as pd"
   ]
  },
  {
   "cell_type": "code",
   "execution_count": 87,
   "metadata": {
    "id": "S6cxNmCxCDQr"
   },
   "outputs": [],
   "source": [
    "#drag and drop the Notebook3.csv into the folder on the left (under /content)\n",
    "#run this\n",
    "\n",
    "df = pd.read_csv('C:\\\\Users\\\\celin\\\\OneDrive - Nanyang Technological University\\\\\\Data Analytics Course\\\\Lesson 3\\\\Notebook3.csv')"
   ]
  },
  {
   "cell_type": "code",
   "execution_count": 88,
   "metadata": {
    "colab": {
     "base_uri": "https://localhost:8080/",
     "height": 0
    },
    "id": "rA58fv4PCDQs",
    "outputId": "6d392b45-fc0b-4426-d041-3d3ec6863dd4"
   },
   "outputs": [
    {
     "data": {
      "text/html": [
       "<div>\n",
       "<style scoped>\n",
       "    .dataframe tbody tr th:only-of-type {\n",
       "        vertical-align: middle;\n",
       "    }\n",
       "\n",
       "    .dataframe tbody tr th {\n",
       "        vertical-align: top;\n",
       "    }\n",
       "\n",
       "    .dataframe thead th {\n",
       "        text-align: right;\n",
       "    }\n",
       "</style>\n",
       "<table border=\"1\" class=\"dataframe\">\n",
       "  <thead>\n",
       "    <tr style=\"text-align: right;\">\n",
       "      <th></th>\n",
       "      <th>Unnamed: 0</th>\n",
       "      <th>country</th>\n",
       "      <th>country_isocode</th>\n",
       "      <th>year</th>\n",
       "      <th>pop</th>\n",
       "      <th>xrat</th>\n",
       "      <th>tcgdp</th>\n",
       "      <th>cc</th>\n",
       "      <th>cg</th>\n",
       "    </tr>\n",
       "  </thead>\n",
       "  <tbody>\n",
       "    <tr>\n",
       "      <th>0</th>\n",
       "      <td>0</td>\n",
       "      <td>Argentina</td>\n",
       "      <td>ARG</td>\n",
       "      <td>2000</td>\n",
       "      <td>37335.653</td>\n",
       "      <td>0.999500</td>\n",
       "      <td>2.950722e+05</td>\n",
       "      <td>75.716805</td>\n",
       "      <td>5.578804</td>\n",
       "    </tr>\n",
       "    <tr>\n",
       "      <th>1</th>\n",
       "      <td>1</td>\n",
       "      <td>Australia</td>\n",
       "      <td>AUS</td>\n",
       "      <td>2000</td>\n",
       "      <td>19053.186</td>\n",
       "      <td>1.724830</td>\n",
       "      <td>5.418047e+05</td>\n",
       "      <td>67.759026</td>\n",
       "      <td>6.720098</td>\n",
       "    </tr>\n",
       "    <tr>\n",
       "      <th>2</th>\n",
       "      <td>2</td>\n",
       "      <td>India</td>\n",
       "      <td>IND</td>\n",
       "      <td>2000</td>\n",
       "      <td>1006300.297</td>\n",
       "      <td>44.941600</td>\n",
       "      <td>1.728144e+06</td>\n",
       "      <td>64.575551</td>\n",
       "      <td>14.072206</td>\n",
       "    </tr>\n",
       "    <tr>\n",
       "      <th>3</th>\n",
       "      <td>3</td>\n",
       "      <td>Israel</td>\n",
       "      <td>ISR</td>\n",
       "      <td>2000</td>\n",
       "      <td>6114.570</td>\n",
       "      <td>4.077330</td>\n",
       "      <td>1.292539e+05</td>\n",
       "      <td>64.436451</td>\n",
       "      <td>10.266688</td>\n",
       "    </tr>\n",
       "    <tr>\n",
       "      <th>4</th>\n",
       "      <td>4</td>\n",
       "      <td>Malawi</td>\n",
       "      <td>MWI</td>\n",
       "      <td>2000</td>\n",
       "      <td>11801.505</td>\n",
       "      <td>59.543808</td>\n",
       "      <td>5.026222e+03</td>\n",
       "      <td>74.707624</td>\n",
       "      <td>11.658954</td>\n",
       "    </tr>\n",
       "    <tr>\n",
       "      <th>5</th>\n",
       "      <td>5</td>\n",
       "      <td>South Africa</td>\n",
       "      <td>ZAF</td>\n",
       "      <td>2000</td>\n",
       "      <td>45064.098</td>\n",
       "      <td>6.939830</td>\n",
       "      <td>2.272424e+05</td>\n",
       "      <td>72.718710</td>\n",
       "      <td>5.726546</td>\n",
       "    </tr>\n",
       "    <tr>\n",
       "      <th>6</th>\n",
       "      <td>6</td>\n",
       "      <td>United States</td>\n",
       "      <td>USA</td>\n",
       "      <td>2000</td>\n",
       "      <td>282171.957</td>\n",
       "      <td>1.000000</td>\n",
       "      <td>9.898700e+06</td>\n",
       "      <td>72.347054</td>\n",
       "      <td>6.032454</td>\n",
       "    </tr>\n",
       "    <tr>\n",
       "      <th>7</th>\n",
       "      <td>7</td>\n",
       "      <td>Uruguay</td>\n",
       "      <td>URY</td>\n",
       "      <td>2000</td>\n",
       "      <td>3219.793</td>\n",
       "      <td>12.099592</td>\n",
       "      <td>2.525596e+04</td>\n",
       "      <td>78.978740</td>\n",
       "      <td>5.108068</td>\n",
       "    </tr>\n",
       "  </tbody>\n",
       "</table>\n",
       "</div>"
      ],
      "text/plain": [
       "   Unnamed: 0        country country_isocode  year          pop       xrat  \\\n",
       "0           0      Argentina             ARG  2000    37335.653   0.999500   \n",
       "1           1      Australia             AUS  2000    19053.186   1.724830   \n",
       "2           2          India             IND  2000  1006300.297  44.941600   \n",
       "3           3         Israel             ISR  2000     6114.570   4.077330   \n",
       "4           4         Malawi             MWI  2000    11801.505  59.543808   \n",
       "5           5   South Africa             ZAF  2000    45064.098   6.939830   \n",
       "6           6  United States             USA  2000   282171.957   1.000000   \n",
       "7           7        Uruguay             URY  2000     3219.793  12.099592   \n",
       "\n",
       "          tcgdp         cc         cg  \n",
       "0  2.950722e+05  75.716805   5.578804  \n",
       "1  5.418047e+05  67.759026   6.720098  \n",
       "2  1.728144e+06  64.575551  14.072206  \n",
       "3  1.292539e+05  64.436451  10.266688  \n",
       "4  5.026222e+03  74.707624  11.658954  \n",
       "5  2.272424e+05  72.718710   5.726546  \n",
       "6  9.898700e+06  72.347054   6.032454  \n",
       "7  2.525596e+04  78.978740   5.108068  "
      ]
     },
     "execution_count": 88,
     "metadata": {},
     "output_type": "execute_result"
    }
   ],
   "source": [
    "#run this\n",
    "\n",
    "df"
   ]
  },
  {
   "cell_type": "markdown",
   "metadata": {
    "id": "IEH6mvyVCDQs"
   },
   "source": [
    "* country: country name\n",
    "* country iso code: Country code\n",
    "* year: 2000\n",
    "* pop: population in thousands\n",
    "* xrat: exchange rate to US dollar (national currency units per US dollar)\n",
    "* tcgdp: total PPP converted GDP, Geary-Khamis method, at current prices (in milion International dollar)\n",
    "* cc: consumption share of PPP converted GDP per capita at current prices \n",
    "* cg: government consumption share of PPP converted GDP per capita at current prices\n"
   ]
  },
  {
   "cell_type": "markdown",
   "metadata": {
    "id": "neRy4nyhCDQs"
   },
   "source": [
    "##4b. df.head()\n",
    "\n",
    "---"
   ]
  },
  {
   "cell_type": "code",
   "execution_count": 103,
   "metadata": {
    "colab": {
     "base_uri": "https://localhost:8080/",
     "height": 0
    },
    "id": "K57IJutqCDQs",
    "outputId": "0065b38a-6fff-4502-c5de-b6c487dca7a8"
   },
   "outputs": [
    {
     "data": {
      "text/plain": [
       "<bound method NDFrame.head of    Unnamed: 0        country country_isocode  year          pop       xrat  \\\n",
       "0           0      Argentina             ARG  2000    37335.653   0.999500   \n",
       "1           1      Australia             AUS  2000    19053.186   1.724830   \n",
       "2           2          India             IND  2000  1006300.297  44.941600   \n",
       "3           3         Israel             ISR  2000     6114.570   4.077330   \n",
       "4           4         Malawi             MWI  2000    11801.505  59.543808   \n",
       "5           5   South Africa             ZAF  2000    45064.098   6.939830   \n",
       "6           6  United States             USA  2000   282171.957   1.000000   \n",
       "7           7        Uruguay             URY  2000     3219.793  12.099592   \n",
       "\n",
       "          tcgdp         cc         cg  \n",
       "0  2.950722e+05  75.716805   5.578804  \n",
       "1  5.418047e+05  67.759026   6.720098  \n",
       "2  1.728144e+06  64.575551  14.072206  \n",
       "3  1.292539e+05  64.436451  10.266688  \n",
       "4  5.026222e+03  74.707624  11.658954  \n",
       "5  2.272424e+05  72.718710   5.726546  \n",
       "6  9.898700e+06  72.347054   6.032454  \n",
       "7  2.525596e+04  78.978740   5.108068  >"
      ]
     },
     "execution_count": 103,
     "metadata": {},
     "output_type": "execute_result"
    }
   ],
   "source": [
    "#run this\n",
    "\n",
    "df.head"
   ]
  },
  {
   "cell_type": "markdown",
   "metadata": {
    "id": "N0hozyIxlp8W"
   },
   "source": [
    "##4c. df.tail()\n",
    "\n",
    "---\n",
    "\n"
   ]
  },
  {
   "cell_type": "code",
   "execution_count": 90,
   "metadata": {
    "colab": {
     "base_uri": "https://localhost:8080/",
     "height": 0
    },
    "id": "dGbAAb5lCDQt",
    "outputId": "b45e3115-bca0-4a67-e74e-9f1c841f9d8c"
   },
   "outputs": [
    {
     "data": {
      "text/html": [
       "<div>\n",
       "<style scoped>\n",
       "    .dataframe tbody tr th:only-of-type {\n",
       "        vertical-align: middle;\n",
       "    }\n",
       "\n",
       "    .dataframe tbody tr th {\n",
       "        vertical-align: top;\n",
       "    }\n",
       "\n",
       "    .dataframe thead th {\n",
       "        text-align: right;\n",
       "    }\n",
       "</style>\n",
       "<table border=\"1\" class=\"dataframe\">\n",
       "  <thead>\n",
       "    <tr style=\"text-align: right;\">\n",
       "      <th></th>\n",
       "      <th>Unnamed: 0</th>\n",
       "      <th>country</th>\n",
       "      <th>country_isocode</th>\n",
       "      <th>year</th>\n",
       "      <th>pop</th>\n",
       "      <th>xrat</th>\n",
       "      <th>tcgdp</th>\n",
       "      <th>cc</th>\n",
       "      <th>cg</th>\n",
       "    </tr>\n",
       "  </thead>\n",
       "  <tbody>\n",
       "    <tr>\n",
       "      <th>6</th>\n",
       "      <td>6</td>\n",
       "      <td>United States</td>\n",
       "      <td>USA</td>\n",
       "      <td>2000</td>\n",
       "      <td>282171.957</td>\n",
       "      <td>1.000000</td>\n",
       "      <td>9.898700e+06</td>\n",
       "      <td>72.347054</td>\n",
       "      <td>6.032454</td>\n",
       "    </tr>\n",
       "    <tr>\n",
       "      <th>7</th>\n",
       "      <td>7</td>\n",
       "      <td>Uruguay</td>\n",
       "      <td>URY</td>\n",
       "      <td>2000</td>\n",
       "      <td>3219.793</td>\n",
       "      <td>12.099592</td>\n",
       "      <td>2.525596e+04</td>\n",
       "      <td>78.978740</td>\n",
       "      <td>5.108068</td>\n",
       "    </tr>\n",
       "  </tbody>\n",
       "</table>\n",
       "</div>"
      ],
      "text/plain": [
       "   Unnamed: 0        country country_isocode  year         pop       xrat  \\\n",
       "6           6  United States             USA  2000  282171.957   1.000000   \n",
       "7           7        Uruguay             URY  2000    3219.793  12.099592   \n",
       "\n",
       "          tcgdp         cc        cg  \n",
       "6  9.898700e+06  72.347054  6.032454  \n",
       "7  2.525596e+04  78.978740  5.108068  "
      ]
     },
     "execution_count": 90,
     "metadata": {},
     "output_type": "execute_result"
    }
   ],
   "source": [
    "#run this\n",
    "\n",
    "df.tail(2)"
   ]
  },
  {
   "cell_type": "markdown",
   "metadata": {
    "id": "iU3w3cxHCDQt"
   },
   "source": [
    "##4d. df.dtypes\n",
    "\n",
    "---"
   ]
  },
  {
   "cell_type": "code",
   "execution_count": 91,
   "metadata": {
    "colab": {
     "base_uri": "https://localhost:8080/"
    },
    "id": "ClbifD8wCDQt",
    "outputId": "2011e1cd-5faf-419c-8903-d4ab7de15fa5"
   },
   "outputs": [
    {
     "data": {
      "text/plain": [
       "Unnamed: 0           int64\n",
       "country             object\n",
       "country_isocode     object\n",
       "year                 int64\n",
       "pop                float64\n",
       "xrat               float64\n",
       "tcgdp              float64\n",
       "cc                 float64\n",
       "cg                 float64\n",
       "dtype: object"
      ]
     },
     "execution_count": 91,
     "metadata": {},
     "output_type": "execute_result"
    }
   ],
   "source": [
    "#run this\n",
    "\n",
    "df.dtypes"
   ]
  },
  {
   "cell_type": "markdown",
   "metadata": {
    "id": "VeVyAhEeCDQt"
   },
   "source": [
    "##4e. df.shape\n",
    "\n",
    "---"
   ]
  },
  {
   "cell_type": "code",
   "execution_count": 98,
   "metadata": {
    "colab": {
     "base_uri": "https://localhost:8080/"
    },
    "id": "D4e6qpxQCDQu",
    "outputId": "2b9fdaae-beef-4dcf-a6e5-ed906b819d98"
   },
   "outputs": [
    {
     "data": {
      "text/plain": [
       "9"
      ]
     },
     "execution_count": 98,
     "metadata": {},
     "output_type": "execute_result"
    }
   ],
   "source": [
    "#run this\n",
    "\n",
    "df.shape[-1]\n",
    "#8 rows and 8 columns"
   ]
  },
  {
   "cell_type": "markdown",
   "metadata": {
    "id": "dw-w2gfxmD-H"
   },
   "source": [
    "##4f. df.size\n",
    "\n",
    "---"
   ]
  },
  {
   "cell_type": "code",
   "execution_count": 16,
   "metadata": {
    "colab": {
     "base_uri": "https://localhost:8080/"
    },
    "id": "WKd8jJoiCDQu",
    "outputId": "d0f9203f-f31a-4fc7-dcc9-43dedb14c944"
   },
   "outputs": [
    {
     "data": {
      "text/plain": [
       "72"
      ]
     },
     "execution_count": 16,
     "metadata": {},
     "output_type": "execute_result"
    }
   ],
   "source": [
    "#run this\n",
    "\n",
    "df.size\n",
    "#8 rows x 8 columns = 64"
   ]
  },
  {
   "cell_type": "markdown",
   "metadata": {
    "id": "csRYl459nfap"
   },
   "source": [
    "##4g. df.info()\n",
    "\n",
    "---\n",
    "\n"
   ]
  },
  {
   "cell_type": "code",
   "execution_count": 17,
   "metadata": {
    "colab": {
     "base_uri": "https://localhost:8080/"
    },
    "id": "oZs4fhb1CDQu",
    "outputId": "6c505cf9-fc16-450d-a782-804c195d9413"
   },
   "outputs": [
    {
     "name": "stdout",
     "output_type": "stream",
     "text": [
      "<class 'pandas.core.frame.DataFrame'>\n",
      "RangeIndex: 8 entries, 0 to 7\n",
      "Data columns (total 9 columns):\n",
      " #   Column           Non-Null Count  Dtype  \n",
      "---  ------           --------------  -----  \n",
      " 0   Unnamed: 0       8 non-null      int64  \n",
      " 1   country          8 non-null      object \n",
      " 2   country_isocode  8 non-null      object \n",
      " 3   year             8 non-null      int64  \n",
      " 4   pop              8 non-null      float64\n",
      " 5   xrat             8 non-null      float64\n",
      " 6   tcgdp            8 non-null      float64\n",
      " 7   cc               8 non-null      float64\n",
      " 8   cg               8 non-null      float64\n",
      "dtypes: float64(5), int64(2), object(2)\n",
      "memory usage: 704.0+ bytes\n"
     ]
    }
   ],
   "source": [
    "#run this\n",
    "\n",
    "df.info()"
   ]
  },
  {
   "cell_type": "markdown",
   "metadata": {
    "id": "NhyzMBJACDQv"
   },
   "source": [
    "##4h. df.describe()\n",
    "\n",
    "---"
   ]
  },
  {
   "cell_type": "code",
   "execution_count": 18,
   "metadata": {
    "colab": {
     "base_uri": "https://localhost:8080/",
     "height": 0
    },
    "id": "w5Et3fMeCDQv",
    "outputId": "b289d70b-8406-4b33-9304-b173f41da130",
    "scrolled": true
   },
   "outputs": [
    {
     "data": {
      "text/html": [
       "<div>\n",
       "<style scoped>\n",
       "    .dataframe tbody tr th:only-of-type {\n",
       "        vertical-align: middle;\n",
       "    }\n",
       "\n",
       "    .dataframe tbody tr th {\n",
       "        vertical-align: top;\n",
       "    }\n",
       "\n",
       "    .dataframe thead th {\n",
       "        text-align: right;\n",
       "    }\n",
       "</style>\n",
       "<table border=\"1\" class=\"dataframe\">\n",
       "  <thead>\n",
       "    <tr style=\"text-align: right;\">\n",
       "      <th></th>\n",
       "      <th>Unnamed: 0</th>\n",
       "      <th>year</th>\n",
       "      <th>pop</th>\n",
       "      <th>xrat</th>\n",
       "      <th>tcgdp</th>\n",
       "      <th>cc</th>\n",
       "      <th>cg</th>\n",
       "    </tr>\n",
       "  </thead>\n",
       "  <tbody>\n",
       "    <tr>\n",
       "      <th>count</th>\n",
       "      <td>8.00000</td>\n",
       "      <td>8.0</td>\n",
       "      <td>8.000000e+00</td>\n",
       "      <td>8.000000</td>\n",
       "      <td>8.000000e+00</td>\n",
       "      <td>8.000000</td>\n",
       "      <td>8.000000</td>\n",
       "    </tr>\n",
       "    <tr>\n",
       "      <th>mean</th>\n",
       "      <td>3.50000</td>\n",
       "      <td>2000.0</td>\n",
       "      <td>1.763826e+05</td>\n",
       "      <td>16.415811</td>\n",
       "      <td>1.606312e+06</td>\n",
       "      <td>71.404995</td>\n",
       "      <td>8.145477</td>\n",
       "    </tr>\n",
       "    <tr>\n",
       "      <th>std</th>\n",
       "      <td>2.44949</td>\n",
       "      <td>0.0</td>\n",
       "      <td>3.479223e+05</td>\n",
       "      <td>22.758175</td>\n",
       "      <td>3.397025e+06</td>\n",
       "      <td>5.318015</td>\n",
       "      <td>3.383397</td>\n",
       "    </tr>\n",
       "    <tr>\n",
       "      <th>min</th>\n",
       "      <td>0.00000</td>\n",
       "      <td>2000.0</td>\n",
       "      <td>3.219793e+03</td>\n",
       "      <td>0.999500</td>\n",
       "      <td>5.026222e+03</td>\n",
       "      <td>64.436451</td>\n",
       "      <td>5.108068</td>\n",
       "    </tr>\n",
       "    <tr>\n",
       "      <th>25%</th>\n",
       "      <td>1.75000</td>\n",
       "      <td>2000.0</td>\n",
       "      <td>1.037977e+04</td>\n",
       "      <td>1.543623</td>\n",
       "      <td>1.032544e+05</td>\n",
       "      <td>66.963157</td>\n",
       "      <td>5.689611</td>\n",
       "    </tr>\n",
       "    <tr>\n",
       "      <th>50%</th>\n",
       "      <td>3.50000</td>\n",
       "      <td>2000.0</td>\n",
       "      <td>2.819442e+04</td>\n",
       "      <td>5.508580</td>\n",
       "      <td>2.611573e+05</td>\n",
       "      <td>72.532882</td>\n",
       "      <td>6.376276</td>\n",
       "    </tr>\n",
       "    <tr>\n",
       "      <th>75%</th>\n",
       "      <td>5.25000</td>\n",
       "      <td>2000.0</td>\n",
       "      <td>1.043411e+05</td>\n",
       "      <td>20.310094</td>\n",
       "      <td>8.383896e+05</td>\n",
       "      <td>74.959919</td>\n",
       "      <td>10.614755</td>\n",
       "    </tr>\n",
       "    <tr>\n",
       "      <th>max</th>\n",
       "      <td>7.00000</td>\n",
       "      <td>2000.0</td>\n",
       "      <td>1.006300e+06</td>\n",
       "      <td>59.543808</td>\n",
       "      <td>9.898700e+06</td>\n",
       "      <td>78.978740</td>\n",
       "      <td>14.072206</td>\n",
       "    </tr>\n",
       "  </tbody>\n",
       "</table>\n",
       "</div>"
      ],
      "text/plain": [
       "       Unnamed: 0    year           pop       xrat         tcgdp         cc  \\\n",
       "count     8.00000     8.0  8.000000e+00   8.000000  8.000000e+00   8.000000   \n",
       "mean      3.50000  2000.0  1.763826e+05  16.415811  1.606312e+06  71.404995   \n",
       "std       2.44949     0.0  3.479223e+05  22.758175  3.397025e+06   5.318015   \n",
       "min       0.00000  2000.0  3.219793e+03   0.999500  5.026222e+03  64.436451   \n",
       "25%       1.75000  2000.0  1.037977e+04   1.543623  1.032544e+05  66.963157   \n",
       "50%       3.50000  2000.0  2.819442e+04   5.508580  2.611573e+05  72.532882   \n",
       "75%       5.25000  2000.0  1.043411e+05  20.310094  8.383896e+05  74.959919   \n",
       "max       7.00000  2000.0  1.006300e+06  59.543808  9.898700e+06  78.978740   \n",
       "\n",
       "              cg  \n",
       "count   8.000000  \n",
       "mean    8.145477  \n",
       "std     3.383397  \n",
       "min     5.108068  \n",
       "25%     5.689611  \n",
       "50%     6.376276  \n",
       "75%    10.614755  \n",
       "max    14.072206  "
      ]
     },
     "execution_count": 18,
     "metadata": {},
     "output_type": "execute_result"
    }
   ],
   "source": [
    "#run this\n",
    "\n",
    "df.describe()\n",
    "\n",
    "#this one only can import numbers and not words"
   ]
  },
  {
   "cell_type": "markdown",
   "metadata": {
    "id": "KKfUf3TaCDQv"
   },
   "source": [
    "##4i. Checking for missing data\n",
    "\n",
    "---"
   ]
  },
  {
   "cell_type": "markdown",
   "metadata": {
    "id": "xgbfo2ITn_9B"
   },
   "source": [
    "* df.isna().any() \n",
    ">* *To detect NaN values numpy uses np.isnan().\n",
    "\n",
    "* df.isnull().sum()\n",
    ">* To detect NaN values pandas uses either .isna() or .isnull()."
   ]
  },
  {
   "cell_type": "code",
   "execution_count": 19,
   "metadata": {
    "colab": {
     "base_uri": "https://localhost:8080/"
    },
    "id": "xUV0BgtzCDQv",
    "outputId": "65c1e0c1-19e1-48ee-b187-65917a917dad"
   },
   "outputs": [
    {
     "data": {
      "text/plain": [
       "Unnamed: 0         False\n",
       "country            False\n",
       "country_isocode    False\n",
       "year               False\n",
       "pop                False\n",
       "xrat               False\n",
       "tcgdp              False\n",
       "cc                 False\n",
       "cg                 False\n",
       "dtype: bool"
      ]
     },
     "execution_count": 19,
     "metadata": {},
     "output_type": "execute_result"
    }
   ],
   "source": [
    "#run this\n",
    "\n",
    "df.isna().any()\n",
    "#find is there any NA in the excel sheet\n",
    "#all false means no blanks in the excel sheet"
   ]
  },
  {
   "cell_type": "code",
   "execution_count": 20,
   "metadata": {
    "colab": {
     "base_uri": "https://localhost:8080/"
    },
    "id": "kocfSANuCDQw",
    "outputId": "b35ad4a0-3f21-4bc3-ff05-67d5615bd6e6"
   },
   "outputs": [
    {
     "data": {
      "text/plain": [
       "Unnamed: 0         0\n",
       "country            0\n",
       "country_isocode    0\n",
       "year               0\n",
       "pop                0\n",
       "xrat               0\n",
       "tcgdp              0\n",
       "cc                 0\n",
       "cg                 0\n",
       "dtype: int64"
      ]
     },
     "execution_count": 20,
     "metadata": {},
     "output_type": "execute_result"
    }
   ],
   "source": [
    "#run this\n",
    "\n",
    "df.isnull().sum()\n",
    "#check is there any missing values"
   ]
  },
  {
   "cell_type": "markdown",
   "metadata": {
    "id": "x-LOw-jxCDQw"
   },
   "source": [
    "##4j. Dealing with missing data by dropping them\n",
    "\n",
    "---\n",
    "\n"
   ]
  },
  {
   "cell_type": "markdown",
   "metadata": {
    "id": "NwnFSrzxqO8_"
   },
   "source": [
    "* df.dropna(axis='columns')\n",
    "* df.dropna(axis='rows')"
   ]
  },
  {
   "cell_type": "code",
   "execution_count": 14,
   "metadata": {
    "colab": {
     "base_uri": "https://localhost:8080/",
     "height": 300
    },
    "id": "OIN4IYNQCDQw",
    "outputId": "0056bae2-69a6-4c72-ce53-b48601d71eab"
   },
   "outputs": [
    {
     "data": {
      "text/html": [
       "<div>\n",
       "<style scoped>\n",
       "    .dataframe tbody tr th:only-of-type {\n",
       "        vertical-align: middle;\n",
       "    }\n",
       "\n",
       "    .dataframe tbody tr th {\n",
       "        vertical-align: top;\n",
       "    }\n",
       "\n",
       "    .dataframe thead th {\n",
       "        text-align: right;\n",
       "    }\n",
       "</style>\n",
       "<table border=\"1\" class=\"dataframe\">\n",
       "  <thead>\n",
       "    <tr style=\"text-align: right;\">\n",
       "      <th></th>\n",
       "      <th>Unnamed: 0</th>\n",
       "      <th>country</th>\n",
       "      <th>country_isocode</th>\n",
       "      <th>year</th>\n",
       "      <th>pop</th>\n",
       "      <th>xrat</th>\n",
       "      <th>tcgdp</th>\n",
       "      <th>cc</th>\n",
       "      <th>cg</th>\n",
       "    </tr>\n",
       "  </thead>\n",
       "  <tbody>\n",
       "    <tr>\n",
       "      <th>0</th>\n",
       "      <td>0</td>\n",
       "      <td>Argentina</td>\n",
       "      <td>ARG</td>\n",
       "      <td>2000</td>\n",
       "      <td>37335.653</td>\n",
       "      <td>0.999500</td>\n",
       "      <td>2.950722e+05</td>\n",
       "      <td>75.716805</td>\n",
       "      <td>5.578804</td>\n",
       "    </tr>\n",
       "    <tr>\n",
       "      <th>1</th>\n",
       "      <td>1</td>\n",
       "      <td>Australia</td>\n",
       "      <td>AUS</td>\n",
       "      <td>2000</td>\n",
       "      <td>19053.186</td>\n",
       "      <td>1.724830</td>\n",
       "      <td>5.418047e+05</td>\n",
       "      <td>67.759026</td>\n",
       "      <td>6.720098</td>\n",
       "    </tr>\n",
       "    <tr>\n",
       "      <th>2</th>\n",
       "      <td>2</td>\n",
       "      <td>India</td>\n",
       "      <td>IND</td>\n",
       "      <td>2000</td>\n",
       "      <td>1006300.297</td>\n",
       "      <td>44.941600</td>\n",
       "      <td>1.728144e+06</td>\n",
       "      <td>64.575551</td>\n",
       "      <td>14.072206</td>\n",
       "    </tr>\n",
       "    <tr>\n",
       "      <th>3</th>\n",
       "      <td>3</td>\n",
       "      <td>Israel</td>\n",
       "      <td>ISR</td>\n",
       "      <td>2000</td>\n",
       "      <td>6114.570</td>\n",
       "      <td>4.077330</td>\n",
       "      <td>1.292539e+05</td>\n",
       "      <td>64.436451</td>\n",
       "      <td>10.266688</td>\n",
       "    </tr>\n",
       "    <tr>\n",
       "      <th>4</th>\n",
       "      <td>4</td>\n",
       "      <td>Malawi</td>\n",
       "      <td>MWI</td>\n",
       "      <td>2000</td>\n",
       "      <td>11801.505</td>\n",
       "      <td>59.543808</td>\n",
       "      <td>5.026222e+03</td>\n",
       "      <td>74.707624</td>\n",
       "      <td>11.658954</td>\n",
       "    </tr>\n",
       "    <tr>\n",
       "      <th>5</th>\n",
       "      <td>5</td>\n",
       "      <td>South Africa</td>\n",
       "      <td>ZAF</td>\n",
       "      <td>2000</td>\n",
       "      <td>45064.098</td>\n",
       "      <td>6.939830</td>\n",
       "      <td>2.272424e+05</td>\n",
       "      <td>72.718710</td>\n",
       "      <td>5.726546</td>\n",
       "    </tr>\n",
       "    <tr>\n",
       "      <th>6</th>\n",
       "      <td>6</td>\n",
       "      <td>United States</td>\n",
       "      <td>USA</td>\n",
       "      <td>2000</td>\n",
       "      <td>282171.957</td>\n",
       "      <td>1.000000</td>\n",
       "      <td>9.898700e+06</td>\n",
       "      <td>72.347054</td>\n",
       "      <td>6.032454</td>\n",
       "    </tr>\n",
       "    <tr>\n",
       "      <th>7</th>\n",
       "      <td>7</td>\n",
       "      <td>Uruguay</td>\n",
       "      <td>URY</td>\n",
       "      <td>2000</td>\n",
       "      <td>3219.793</td>\n",
       "      <td>12.099592</td>\n",
       "      <td>2.525596e+04</td>\n",
       "      <td>78.978740</td>\n",
       "      <td>5.108068</td>\n",
       "    </tr>\n",
       "  </tbody>\n",
       "</table>\n",
       "</div>"
      ],
      "text/plain": [
       "   Unnamed: 0        country  ...         cc         cg\n",
       "0           0      Argentina  ...  75.716805   5.578804\n",
       "1           1      Australia  ...  67.759026   6.720098\n",
       "2           2          India  ...  64.575551  14.072206\n",
       "3           3         Israel  ...  64.436451  10.266688\n",
       "4           4         Malawi  ...  74.707624  11.658954\n",
       "5           5   South Africa  ...  72.718710   5.726546\n",
       "6           6  United States  ...  72.347054   6.032454\n",
       "7           7        Uruguay  ...  78.978740   5.108068\n",
       "\n",
       "[8 rows x 9 columns]"
      ]
     },
     "execution_count": 14,
     "metadata": {},
     "output_type": "execute_result"
    }
   ],
   "source": [
    "#run this\n",
    "\n",
    "df.dropna(axis='columns')\n",
    "#drop NA from the column\n"
   ]
  },
  {
   "cell_type": "code",
   "execution_count": 15,
   "metadata": {
    "colab": {
     "base_uri": "https://localhost:8080/",
     "height": 300
    },
    "id": "7VlGsXklCDQw",
    "outputId": "f309eafe-9a30-44b2-9fec-cdb2562f466c"
   },
   "outputs": [
    {
     "data": {
      "text/html": [
       "<div>\n",
       "<style scoped>\n",
       "    .dataframe tbody tr th:only-of-type {\n",
       "        vertical-align: middle;\n",
       "    }\n",
       "\n",
       "    .dataframe tbody tr th {\n",
       "        vertical-align: top;\n",
       "    }\n",
       "\n",
       "    .dataframe thead th {\n",
       "        text-align: right;\n",
       "    }\n",
       "</style>\n",
       "<table border=\"1\" class=\"dataframe\">\n",
       "  <thead>\n",
       "    <tr style=\"text-align: right;\">\n",
       "      <th></th>\n",
       "      <th>Unnamed: 0</th>\n",
       "      <th>country</th>\n",
       "      <th>country_isocode</th>\n",
       "      <th>year</th>\n",
       "      <th>pop</th>\n",
       "      <th>xrat</th>\n",
       "      <th>tcgdp</th>\n",
       "      <th>cc</th>\n",
       "      <th>cg</th>\n",
       "    </tr>\n",
       "  </thead>\n",
       "  <tbody>\n",
       "    <tr>\n",
       "      <th>0</th>\n",
       "      <td>0</td>\n",
       "      <td>Argentina</td>\n",
       "      <td>ARG</td>\n",
       "      <td>2000</td>\n",
       "      <td>37335.653</td>\n",
       "      <td>0.999500</td>\n",
       "      <td>2.950722e+05</td>\n",
       "      <td>75.716805</td>\n",
       "      <td>5.578804</td>\n",
       "    </tr>\n",
       "    <tr>\n",
       "      <th>1</th>\n",
       "      <td>1</td>\n",
       "      <td>Australia</td>\n",
       "      <td>AUS</td>\n",
       "      <td>2000</td>\n",
       "      <td>19053.186</td>\n",
       "      <td>1.724830</td>\n",
       "      <td>5.418047e+05</td>\n",
       "      <td>67.759026</td>\n",
       "      <td>6.720098</td>\n",
       "    </tr>\n",
       "    <tr>\n",
       "      <th>2</th>\n",
       "      <td>2</td>\n",
       "      <td>India</td>\n",
       "      <td>IND</td>\n",
       "      <td>2000</td>\n",
       "      <td>1006300.297</td>\n",
       "      <td>44.941600</td>\n",
       "      <td>1.728144e+06</td>\n",
       "      <td>64.575551</td>\n",
       "      <td>14.072206</td>\n",
       "    </tr>\n",
       "    <tr>\n",
       "      <th>3</th>\n",
       "      <td>3</td>\n",
       "      <td>Israel</td>\n",
       "      <td>ISR</td>\n",
       "      <td>2000</td>\n",
       "      <td>6114.570</td>\n",
       "      <td>4.077330</td>\n",
       "      <td>1.292539e+05</td>\n",
       "      <td>64.436451</td>\n",
       "      <td>10.266688</td>\n",
       "    </tr>\n",
       "    <tr>\n",
       "      <th>4</th>\n",
       "      <td>4</td>\n",
       "      <td>Malawi</td>\n",
       "      <td>MWI</td>\n",
       "      <td>2000</td>\n",
       "      <td>11801.505</td>\n",
       "      <td>59.543808</td>\n",
       "      <td>5.026222e+03</td>\n",
       "      <td>74.707624</td>\n",
       "      <td>11.658954</td>\n",
       "    </tr>\n",
       "    <tr>\n",
       "      <th>5</th>\n",
       "      <td>5</td>\n",
       "      <td>South Africa</td>\n",
       "      <td>ZAF</td>\n",
       "      <td>2000</td>\n",
       "      <td>45064.098</td>\n",
       "      <td>6.939830</td>\n",
       "      <td>2.272424e+05</td>\n",
       "      <td>72.718710</td>\n",
       "      <td>5.726546</td>\n",
       "    </tr>\n",
       "    <tr>\n",
       "      <th>6</th>\n",
       "      <td>6</td>\n",
       "      <td>United States</td>\n",
       "      <td>USA</td>\n",
       "      <td>2000</td>\n",
       "      <td>282171.957</td>\n",
       "      <td>1.000000</td>\n",
       "      <td>9.898700e+06</td>\n",
       "      <td>72.347054</td>\n",
       "      <td>6.032454</td>\n",
       "    </tr>\n",
       "    <tr>\n",
       "      <th>7</th>\n",
       "      <td>7</td>\n",
       "      <td>Uruguay</td>\n",
       "      <td>URY</td>\n",
       "      <td>2000</td>\n",
       "      <td>3219.793</td>\n",
       "      <td>12.099592</td>\n",
       "      <td>2.525596e+04</td>\n",
       "      <td>78.978740</td>\n",
       "      <td>5.108068</td>\n",
       "    </tr>\n",
       "  </tbody>\n",
       "</table>\n",
       "</div>"
      ],
      "text/plain": [
       "   Unnamed: 0        country  ...         cc         cg\n",
       "0           0      Argentina  ...  75.716805   5.578804\n",
       "1           1      Australia  ...  67.759026   6.720098\n",
       "2           2          India  ...  64.575551  14.072206\n",
       "3           3         Israel  ...  64.436451  10.266688\n",
       "4           4         Malawi  ...  74.707624  11.658954\n",
       "5           5   South Africa  ...  72.718710   5.726546\n",
       "6           6  United States  ...  72.347054   6.032454\n",
       "7           7        Uruguay  ...  78.978740   5.108068\n",
       "\n",
       "[8 rows x 9 columns]"
      ]
     },
     "execution_count": 15,
     "metadata": {},
     "output_type": "execute_result"
    }
   ],
   "source": [
    "#run this\n",
    "\n",
    "df.dropna(axis='rows')"
   ]
  },
  {
   "cell_type": "markdown",
   "metadata": {
    "id": "SfdLcPC5CDQw"
   },
   "source": [
    "##4k. Dealing with missing data by filling them up\n",
    "\n",
    "---\n",
    "\n",
    "* Fill with a standard value.\n",
    ">* df.fillna(0)\n",
    "\n",
    "* Forward filling means fill missing values with previous data. \n",
    ">* df.fillna(method='ffill')\n",
    "\n",
    "* Backward filling means fill missing values with next data point.\n",
    ">* df.fillna(method='bfill')"
   ]
  },
  {
   "cell_type": "code",
   "execution_count": 21,
   "metadata": {
    "colab": {
     "base_uri": "https://localhost:8080/",
     "height": 300
    },
    "id": "Jmn1aq7dCDQw",
    "outputId": "ff6cf22c-9e1c-4ea3-c78c-ee6dc485db15"
   },
   "outputs": [
    {
     "data": {
      "text/html": [
       "<div>\n",
       "<style scoped>\n",
       "    .dataframe tbody tr th:only-of-type {\n",
       "        vertical-align: middle;\n",
       "    }\n",
       "\n",
       "    .dataframe tbody tr th {\n",
       "        vertical-align: top;\n",
       "    }\n",
       "\n",
       "    .dataframe thead th {\n",
       "        text-align: right;\n",
       "    }\n",
       "</style>\n",
       "<table border=\"1\" class=\"dataframe\">\n",
       "  <thead>\n",
       "    <tr style=\"text-align: right;\">\n",
       "      <th></th>\n",
       "      <th>Unnamed: 0</th>\n",
       "      <th>country</th>\n",
       "      <th>country_isocode</th>\n",
       "      <th>year</th>\n",
       "      <th>pop</th>\n",
       "      <th>xrat</th>\n",
       "      <th>tcgdp</th>\n",
       "      <th>cc</th>\n",
       "      <th>cg</th>\n",
       "    </tr>\n",
       "  </thead>\n",
       "  <tbody>\n",
       "    <tr>\n",
       "      <th>0</th>\n",
       "      <td>0</td>\n",
       "      <td>Argentina</td>\n",
       "      <td>ARG</td>\n",
       "      <td>2000</td>\n",
       "      <td>37335.653</td>\n",
       "      <td>0.999500</td>\n",
       "      <td>2.950722e+05</td>\n",
       "      <td>75.716805</td>\n",
       "      <td>5.578804</td>\n",
       "    </tr>\n",
       "    <tr>\n",
       "      <th>1</th>\n",
       "      <td>1</td>\n",
       "      <td>Australia</td>\n",
       "      <td>AUS</td>\n",
       "      <td>2000</td>\n",
       "      <td>19053.186</td>\n",
       "      <td>1.724830</td>\n",
       "      <td>5.418047e+05</td>\n",
       "      <td>67.759026</td>\n",
       "      <td>6.720098</td>\n",
       "    </tr>\n",
       "    <tr>\n",
       "      <th>2</th>\n",
       "      <td>2</td>\n",
       "      <td>India</td>\n",
       "      <td>IND</td>\n",
       "      <td>2000</td>\n",
       "      <td>1006300.297</td>\n",
       "      <td>44.941600</td>\n",
       "      <td>1.728144e+06</td>\n",
       "      <td>64.575551</td>\n",
       "      <td>14.072206</td>\n",
       "    </tr>\n",
       "    <tr>\n",
       "      <th>3</th>\n",
       "      <td>3</td>\n",
       "      <td>Israel</td>\n",
       "      <td>ISR</td>\n",
       "      <td>2000</td>\n",
       "      <td>6114.570</td>\n",
       "      <td>4.077330</td>\n",
       "      <td>1.292539e+05</td>\n",
       "      <td>64.436451</td>\n",
       "      <td>10.266688</td>\n",
       "    </tr>\n",
       "    <tr>\n",
       "      <th>4</th>\n",
       "      <td>4</td>\n",
       "      <td>Malawi</td>\n",
       "      <td>MWI</td>\n",
       "      <td>2000</td>\n",
       "      <td>11801.505</td>\n",
       "      <td>59.543808</td>\n",
       "      <td>5.026222e+03</td>\n",
       "      <td>74.707624</td>\n",
       "      <td>11.658954</td>\n",
       "    </tr>\n",
       "    <tr>\n",
       "      <th>5</th>\n",
       "      <td>5</td>\n",
       "      <td>South Africa</td>\n",
       "      <td>ZAF</td>\n",
       "      <td>2000</td>\n",
       "      <td>45064.098</td>\n",
       "      <td>6.939830</td>\n",
       "      <td>2.272424e+05</td>\n",
       "      <td>72.718710</td>\n",
       "      <td>5.726546</td>\n",
       "    </tr>\n",
       "    <tr>\n",
       "      <th>6</th>\n",
       "      <td>6</td>\n",
       "      <td>United States</td>\n",
       "      <td>USA</td>\n",
       "      <td>2000</td>\n",
       "      <td>282171.957</td>\n",
       "      <td>1.000000</td>\n",
       "      <td>9.898700e+06</td>\n",
       "      <td>72.347054</td>\n",
       "      <td>6.032454</td>\n",
       "    </tr>\n",
       "    <tr>\n",
       "      <th>7</th>\n",
       "      <td>7</td>\n",
       "      <td>Uruguay</td>\n",
       "      <td>URY</td>\n",
       "      <td>2000</td>\n",
       "      <td>3219.793</td>\n",
       "      <td>12.099592</td>\n",
       "      <td>2.525596e+04</td>\n",
       "      <td>78.978740</td>\n",
       "      <td>5.108068</td>\n",
       "    </tr>\n",
       "  </tbody>\n",
       "</table>\n",
       "</div>"
      ],
      "text/plain": [
       "   Unnamed: 0        country  ...         cc         cg\n",
       "0           0      Argentina  ...  75.716805   5.578804\n",
       "1           1      Australia  ...  67.759026   6.720098\n",
       "2           2          India  ...  64.575551  14.072206\n",
       "3           3         Israel  ...  64.436451  10.266688\n",
       "4           4         Malawi  ...  74.707624  11.658954\n",
       "5           5   South Africa  ...  72.718710   5.726546\n",
       "6           6  United States  ...  72.347054   6.032454\n",
       "7           7        Uruguay  ...  78.978740   5.108068\n",
       "\n",
       "[8 rows x 9 columns]"
      ]
     },
     "execution_count": 21,
     "metadata": {},
     "output_type": "execute_result"
    }
   ],
   "source": [
    "#run this\n",
    "\n",
    "df = df.fillna(0)"
   ]
  },
  {
   "cell_type": "code",
   "execution_count": 17,
   "metadata": {
    "id": "lcxnCOrfCDQx"
   },
   "outputs": [],
   "source": [
    "#run this\n",
    "\n",
    "df = df.fillna(method='ffill')"
   ]
  },
  {
   "cell_type": "code",
   "execution_count": 18,
   "metadata": {
    "id": "97VfWKDMCDQx"
   },
   "outputs": [],
   "source": [
    "#run this\n",
    "\n",
    "df = df.fillna(method='bfill')"
   ]
  },
  {
   "cell_type": "markdown",
   "metadata": {
    "id": "-ysH0sVBCDQx"
   },
   "source": [
    "##4l. Changing the names of the columns\n",
    "\n",
    "---\n",
    "\n",
    "\n",
    "\n"
   ]
  },
  {
   "cell_type": "code",
   "execution_count": 19,
   "metadata": {
    "colab": {
     "base_uri": "https://localhost:8080/"
    },
    "id": "ukWi-6kHCDQx",
    "outputId": "c2d242b3-792c-485a-db0c-35281540f2ec"
   },
   "outputs": [
    {
     "data": {
      "text/plain": [
       "Index(['Unnamed: 0', 'country', 'country_isocode', 'year', 'pop', 'xrat',\n",
       "       'tcgdp', 'cc', 'cg'],\n",
       "      dtype='object')"
      ]
     },
     "execution_count": 19,
     "metadata": {},
     "output_type": "execute_result"
    }
   ],
   "source": [
    "df.columns"
   ]
  },
  {
   "cell_type": "code",
   "execution_count": 23,
   "metadata": {
    "id": "ZHMen8liCDQx"
   },
   "outputs": [],
   "source": [
    "df.columns = ['Unnamed: 0','country','country_isocode','year','pop','xrat','tcgdp','cc','cg']"
   ]
  },
  {
   "cell_type": "code",
   "execution_count": 26,
   "metadata": {
    "id": "k80N3DQ5CDQy"
   },
   "outputs": [],
   "source": [
    "df = df.rename(columns={\"country_isocode\": \"blablabla\"})"
   ]
  },
  {
   "cell_type": "code",
   "execution_count": 27,
   "metadata": {
    "colab": {
     "base_uri": "https://localhost:8080/"
    },
    "id": "8sLYtnzzBESp",
    "outputId": "542bcbe9-f2f2-44d0-a67f-30a66467cd9c"
   },
   "outputs": [
    {
     "data": {
      "text/plain": [
       "Index(['Unnamed: 0', 'country', 'blablabla', 'year', 'pop', 'xrat', 'tcgdp',\n",
       "       'cc', 'cg'],\n",
       "      dtype='object')"
      ]
     },
     "execution_count": 27,
     "metadata": {},
     "output_type": "execute_result"
    }
   ],
   "source": [
    "df.columns"
   ]
  },
  {
   "cell_type": "markdown",
   "metadata": {
    "id": "prP6znHTCDQy"
   },
   "source": [
    "##4m. Filtering a row\n",
    "\n",
    "---\n",
    "\n"
   ]
  },
  {
   "cell_type": "code",
   "execution_count": 28,
   "metadata": {
    "colab": {
     "base_uri": "https://localhost:8080/",
     "height": 81
    },
    "id": "J0pejqK6CDQy",
    "outputId": "59af9b6b-80c2-41ac-96c2-1cd0c7098dca"
   },
   "outputs": [
    {
     "data": {
      "text/html": [
       "<div>\n",
       "<style scoped>\n",
       "    .dataframe tbody tr th:only-of-type {\n",
       "        vertical-align: middle;\n",
       "    }\n",
       "\n",
       "    .dataframe tbody tr th {\n",
       "        vertical-align: top;\n",
       "    }\n",
       "\n",
       "    .dataframe thead th {\n",
       "        text-align: right;\n",
       "    }\n",
       "</style>\n",
       "<table border=\"1\" class=\"dataframe\">\n",
       "  <thead>\n",
       "    <tr style=\"text-align: right;\">\n",
       "      <th></th>\n",
       "      <th>Unnamed: 0</th>\n",
       "      <th>country</th>\n",
       "      <th>blablabla</th>\n",
       "      <th>year</th>\n",
       "      <th>pop</th>\n",
       "      <th>xrat</th>\n",
       "      <th>tcgdp</th>\n",
       "      <th>cc</th>\n",
       "      <th>cg</th>\n",
       "    </tr>\n",
       "  </thead>\n",
       "  <tbody>\n",
       "    <tr>\n",
       "      <th>6</th>\n",
       "      <td>6</td>\n",
       "      <td>United States</td>\n",
       "      <td>USA</td>\n",
       "      <td>2000</td>\n",
       "      <td>282171.957</td>\n",
       "      <td>1.0</td>\n",
       "      <td>9898700.0</td>\n",
       "      <td>72.347054</td>\n",
       "      <td>6.032454</td>\n",
       "    </tr>\n",
       "  </tbody>\n",
       "</table>\n",
       "</div>"
      ],
      "text/plain": [
       "   Unnamed: 0        country blablabla  ...      tcgdp         cc        cg\n",
       "6           6  United States       USA  ...  9898700.0  72.347054  6.032454\n",
       "\n",
       "[1 rows x 9 columns]"
      ]
     },
     "execution_count": 28,
     "metadata": {},
     "output_type": "execute_result"
    }
   ],
   "source": [
    "df[df['country'] == 'United States']"
   ]
  },
  {
   "cell_type": "code",
   "execution_count": 30,
   "metadata": {
    "colab": {
     "base_uri": "https://localhost:8080/",
     "height": 81
    },
    "id": "XMol74wRCDQy",
    "outputId": "b398d194-7ff5-4227-c2c9-ae5008980932"
   },
   "outputs": [
    {
     "data": {
      "text/html": [
       "<div>\n",
       "<style scoped>\n",
       "    .dataframe tbody tr th:only-of-type {\n",
       "        vertical-align: middle;\n",
       "    }\n",
       "\n",
       "    .dataframe tbody tr th {\n",
       "        vertical-align: top;\n",
       "    }\n",
       "\n",
       "    .dataframe thead th {\n",
       "        text-align: right;\n",
       "    }\n",
       "</style>\n",
       "<table border=\"1\" class=\"dataframe\">\n",
       "  <thead>\n",
       "    <tr style=\"text-align: right;\">\n",
       "      <th></th>\n",
       "      <th>Unnamed: 0</th>\n",
       "      <th>country</th>\n",
       "      <th>blablabla</th>\n",
       "      <th>year</th>\n",
       "      <th>pop</th>\n",
       "      <th>xrat</th>\n",
       "      <th>tcgdp</th>\n",
       "      <th>cc</th>\n",
       "      <th>cg</th>\n",
       "    </tr>\n",
       "  </thead>\n",
       "  <tbody>\n",
       "    <tr>\n",
       "      <th>1</th>\n",
       "      <td>1</td>\n",
       "      <td>Australia</td>\n",
       "      <td>AUS</td>\n",
       "      <td>2000</td>\n",
       "      <td>19053.186</td>\n",
       "      <td>1.72483</td>\n",
       "      <td>541804.6521</td>\n",
       "      <td>67.759026</td>\n",
       "      <td>6.720098</td>\n",
       "    </tr>\n",
       "  </tbody>\n",
       "</table>\n",
       "</div>"
      ],
      "text/plain": [
       "   Unnamed: 0    country blablabla  ...        tcgdp         cc        cg\n",
       "1           1  Australia       AUS  ...  541804.6521  67.759026  6.720098\n",
       "\n",
       "[1 rows x 9 columns]"
      ]
     },
     "execution_count": 30,
     "metadata": {},
     "output_type": "execute_result"
    }
   ],
   "source": [
    "df[df['country'] == 'Australia']"
   ]
  },
  {
   "cell_type": "markdown",
   "metadata": {
    "id": "FRk3gLYlCDQy"
   },
   "source": [
    "##4n. Filtering a column\n",
    "\n",
    "---"
   ]
  },
  {
   "cell_type": "code",
   "execution_count": 31,
   "metadata": {
    "colab": {
     "base_uri": "https://localhost:8080/",
     "height": 300
    },
    "id": "_Wlw-gpFCDQy",
    "outputId": "86df6e08-daf1-4f94-fdd0-400211b834cb"
   },
   "outputs": [
    {
     "data": {
      "text/html": [
       "<div>\n",
       "<style scoped>\n",
       "    .dataframe tbody tr th:only-of-type {\n",
       "        vertical-align: middle;\n",
       "    }\n",
       "\n",
       "    .dataframe tbody tr th {\n",
       "        vertical-align: top;\n",
       "    }\n",
       "\n",
       "    .dataframe thead th {\n",
       "        text-align: right;\n",
       "    }\n",
       "</style>\n",
       "<table border=\"1\" class=\"dataframe\">\n",
       "  <thead>\n",
       "    <tr style=\"text-align: right;\">\n",
       "      <th></th>\n",
       "      <th>country</th>\n",
       "      <th>year</th>\n",
       "    </tr>\n",
       "  </thead>\n",
       "  <tbody>\n",
       "    <tr>\n",
       "      <th>0</th>\n",
       "      <td>Argentina</td>\n",
       "      <td>2000</td>\n",
       "    </tr>\n",
       "    <tr>\n",
       "      <th>1</th>\n",
       "      <td>Australia</td>\n",
       "      <td>2000</td>\n",
       "    </tr>\n",
       "    <tr>\n",
       "      <th>2</th>\n",
       "      <td>India</td>\n",
       "      <td>2000</td>\n",
       "    </tr>\n",
       "    <tr>\n",
       "      <th>3</th>\n",
       "      <td>Israel</td>\n",
       "      <td>2000</td>\n",
       "    </tr>\n",
       "    <tr>\n",
       "      <th>4</th>\n",
       "      <td>Malawi</td>\n",
       "      <td>2000</td>\n",
       "    </tr>\n",
       "    <tr>\n",
       "      <th>5</th>\n",
       "      <td>South Africa</td>\n",
       "      <td>2000</td>\n",
       "    </tr>\n",
       "    <tr>\n",
       "      <th>6</th>\n",
       "      <td>United States</td>\n",
       "      <td>2000</td>\n",
       "    </tr>\n",
       "    <tr>\n",
       "      <th>7</th>\n",
       "      <td>Uruguay</td>\n",
       "      <td>2000</td>\n",
       "    </tr>\n",
       "  </tbody>\n",
       "</table>\n",
       "</div>"
      ],
      "text/plain": [
       "         country  year\n",
       "0      Argentina  2000\n",
       "1      Australia  2000\n",
       "2          India  2000\n",
       "3         Israel  2000\n",
       "4         Malawi  2000\n",
       "5   South Africa  2000\n",
       "6  United States  2000\n",
       "7        Uruguay  2000"
      ]
     },
     "execution_count": 31,
     "metadata": {},
     "output_type": "execute_result"
    }
   ],
   "source": [
    "df.filter(items=['country', 'year'])"
   ]
  },
  {
   "cell_type": "code",
   "execution_count": 32,
   "metadata": {
    "colab": {
     "base_uri": "https://localhost:8080/",
     "height": 300
    },
    "id": "B1W_gagHCDQz",
    "outputId": "d8a7bcb0-57a0-4040-bf90-0f192805143c"
   },
   "outputs": [
    {
     "data": {
      "text/html": [
       "<div>\n",
       "<style scoped>\n",
       "    .dataframe tbody tr th:only-of-type {\n",
       "        vertical-align: middle;\n",
       "    }\n",
       "\n",
       "    .dataframe tbody tr th {\n",
       "        vertical-align: top;\n",
       "    }\n",
       "\n",
       "    .dataframe thead th {\n",
       "        text-align: right;\n",
       "    }\n",
       "</style>\n",
       "<table border=\"1\" class=\"dataframe\">\n",
       "  <thead>\n",
       "    <tr style=\"text-align: right;\">\n",
       "      <th></th>\n",
       "      <th>year</th>\n",
       "      <th>country</th>\n",
       "    </tr>\n",
       "  </thead>\n",
       "  <tbody>\n",
       "    <tr>\n",
       "      <th>0</th>\n",
       "      <td>2000</td>\n",
       "      <td>Argentina</td>\n",
       "    </tr>\n",
       "    <tr>\n",
       "      <th>1</th>\n",
       "      <td>2000</td>\n",
       "      <td>Australia</td>\n",
       "    </tr>\n",
       "    <tr>\n",
       "      <th>2</th>\n",
       "      <td>2000</td>\n",
       "      <td>India</td>\n",
       "    </tr>\n",
       "    <tr>\n",
       "      <th>3</th>\n",
       "      <td>2000</td>\n",
       "      <td>Israel</td>\n",
       "    </tr>\n",
       "    <tr>\n",
       "      <th>4</th>\n",
       "      <td>2000</td>\n",
       "      <td>Malawi</td>\n",
       "    </tr>\n",
       "    <tr>\n",
       "      <th>5</th>\n",
       "      <td>2000</td>\n",
       "      <td>South Africa</td>\n",
       "    </tr>\n",
       "    <tr>\n",
       "      <th>6</th>\n",
       "      <td>2000</td>\n",
       "      <td>United States</td>\n",
       "    </tr>\n",
       "    <tr>\n",
       "      <th>7</th>\n",
       "      <td>2000</td>\n",
       "      <td>Uruguay</td>\n",
       "    </tr>\n",
       "  </tbody>\n",
       "</table>\n",
       "</div>"
      ],
      "text/plain": [
       "   year        country\n",
       "0  2000      Argentina\n",
       "1  2000      Australia\n",
       "2  2000          India\n",
       "3  2000         Israel\n",
       "4  2000         Malawi\n",
       "5  2000   South Africa\n",
       "6  2000  United States\n",
       "7  2000        Uruguay"
      ]
     },
     "execution_count": 32,
     "metadata": {},
     "output_type": "execute_result"
    }
   ],
   "source": [
    "df[['year','country']]"
   ]
  },
  {
   "cell_type": "markdown",
   "metadata": {
    "id": "BMJ4Tsn9CDQz"
   },
   "source": [
    "##4o. Searching\n",
    "---\n",
    "Two kinds of searching via\n",
    "* Regex\n",
    "* like \n",
    "\n",
    "Axis means\n",
    "* axis = 1 --> search via column \n",
    "\n",
    "* axis = 0 --> search via row (index)"
   ]
  },
  {
   "cell_type": "code",
   "execution_count": 50,
   "metadata": {
    "colab": {
     "base_uri": "https://localhost:8080/",
     "height": 300
    },
    "id": "zhGyc4qKCDQz",
    "outputId": "4ec2ce98-10aa-4286-e18c-a712d6d56490"
   },
   "outputs": [
    {
     "data": {
      "text/html": [
       "<div>\n",
       "<style scoped>\n",
       "    .dataframe tbody tr th:only-of-type {\n",
       "        vertical-align: middle;\n",
       "    }\n",
       "\n",
       "    .dataframe tbody tr th {\n",
       "        vertical-align: top;\n",
       "    }\n",
       "\n",
       "    .dataframe thead th {\n",
       "        text-align: right;\n",
       "    }\n",
       "</style>\n",
       "<table border=\"1\" class=\"dataframe\">\n",
       "  <thead>\n",
       "    <tr style=\"text-align: right;\">\n",
       "      <th></th>\n",
       "      <th>year</th>\n",
       "    </tr>\n",
       "  </thead>\n",
       "  <tbody>\n",
       "    <tr>\n",
       "      <th>0</th>\n",
       "      <td>2000</td>\n",
       "    </tr>\n",
       "    <tr>\n",
       "      <th>1</th>\n",
       "      <td>2000</td>\n",
       "    </tr>\n",
       "    <tr>\n",
       "      <th>2</th>\n",
       "      <td>2000</td>\n",
       "    </tr>\n",
       "    <tr>\n",
       "      <th>3</th>\n",
       "      <td>2000</td>\n",
       "    </tr>\n",
       "    <tr>\n",
       "      <th>4</th>\n",
       "      <td>2000</td>\n",
       "    </tr>\n",
       "    <tr>\n",
       "      <th>5</th>\n",
       "      <td>2000</td>\n",
       "    </tr>\n",
       "    <tr>\n",
       "      <th>6</th>\n",
       "      <td>2000</td>\n",
       "    </tr>\n",
       "    <tr>\n",
       "      <th>7</th>\n",
       "      <td>2000</td>\n",
       "    </tr>\n",
       "  </tbody>\n",
       "</table>\n",
       "</div>"
      ],
      "text/plain": [
       "   year\n",
       "0  2000\n",
       "1  2000\n",
       "2  2000\n",
       "3  2000\n",
       "4  2000\n",
       "5  2000\n",
       "6  2000\n",
       "7  2000"
      ]
     },
     "execution_count": 50,
     "metadata": {},
     "output_type": "execute_result"
    }
   ],
   "source": [
    "#run this\n",
    "\n",
    "df.filter(regex='r$', axis=1)\n",
    "\n",
    "#regex = Regular Expression\n",
    "#regex is a string of text that allows you to create patterns that \n",
    "#help search and match text.\n",
    "\n",
    "#the $ means Matches end of line\n",
    "#so r$ means that 'r' has to match at the end of the line (in this case, yea'r')\n",
    "\n",
    "#if you put regex='y$', it will search out 'country' because that's the only \n",
    "#column name with ending 'y'"
   ]
  },
  {
   "cell_type": "code",
   "execution_count": 52,
   "metadata": {
    "colab": {
     "base_uri": "https://localhost:8080/",
     "height": 300
    },
    "id": "4KFe5esqCDQz",
    "outputId": "c57a375c-44bb-407e-dcf0-cec569b16de0"
   },
   "outputs": [
    {
     "data": {
      "text/html": [
       "<div>\n",
       "<style scoped>\n",
       "    .dataframe tbody tr th:only-of-type {\n",
       "        vertical-align: middle;\n",
       "    }\n",
       "\n",
       "    .dataframe tbody tr th {\n",
       "        vertical-align: top;\n",
       "    }\n",
       "\n",
       "    .dataframe thead th {\n",
       "        text-align: right;\n",
       "    }\n",
       "</style>\n",
       "<table border=\"1\" class=\"dataframe\">\n",
       "  <thead>\n",
       "    <tr style=\"text-align: right;\">\n",
       "      <th></th>\n",
       "      <th>pop</th>\n",
       "      <th>tcgdp</th>\n",
       "    </tr>\n",
       "  </thead>\n",
       "  <tbody>\n",
       "    <tr>\n",
       "      <th>0</th>\n",
       "      <td>37335.653</td>\n",
       "      <td>2.950722e+05</td>\n",
       "    </tr>\n",
       "    <tr>\n",
       "      <th>1</th>\n",
       "      <td>19053.186</td>\n",
       "      <td>5.418047e+05</td>\n",
       "    </tr>\n",
       "    <tr>\n",
       "      <th>2</th>\n",
       "      <td>1006300.297</td>\n",
       "      <td>1.728144e+06</td>\n",
       "    </tr>\n",
       "    <tr>\n",
       "      <th>3</th>\n",
       "      <td>6114.570</td>\n",
       "      <td>1.292539e+05</td>\n",
       "    </tr>\n",
       "    <tr>\n",
       "      <th>4</th>\n",
       "      <td>11801.505</td>\n",
       "      <td>5.026222e+03</td>\n",
       "    </tr>\n",
       "    <tr>\n",
       "      <th>5</th>\n",
       "      <td>45064.098</td>\n",
       "      <td>2.272424e+05</td>\n",
       "    </tr>\n",
       "    <tr>\n",
       "      <th>6</th>\n",
       "      <td>282171.957</td>\n",
       "      <td>9.898700e+06</td>\n",
       "    </tr>\n",
       "    <tr>\n",
       "      <th>7</th>\n",
       "      <td>3219.793</td>\n",
       "      <td>2.525596e+04</td>\n",
       "    </tr>\n",
       "  </tbody>\n",
       "</table>\n",
       "</div>"
      ],
      "text/plain": [
       "           pop         tcgdp\n",
       "0    37335.653  2.950722e+05\n",
       "1    19053.186  5.418047e+05\n",
       "2  1006300.297  1.728144e+06\n",
       "3     6114.570  1.292539e+05\n",
       "4    11801.505  5.026222e+03\n",
       "5    45064.098  2.272424e+05\n",
       "6   282171.957  9.898700e+06\n",
       "7     3219.793  2.525596e+04"
      ]
     },
     "execution_count": 52,
     "metadata": {},
     "output_type": "execute_result"
    }
   ],
   "source": [
    "#run this\n",
    "\n",
    "df.filter(like='p', axis=1)\n",
    "\n",
    "#like='p' means to search for any column name that has 'p' in it "
   ]
  },
  {
   "cell_type": "markdown",
   "metadata": {
    "id": "tjQU7r74A7Fx"
   },
   "source": [
    "#Topic 5: Applying Pandas to Yahoo Finance\n",
    "\n",
    "---\n",
    "\n"
   ]
  },
  {
   "cell_type": "code",
   "execution_count": 21,
   "metadata": {
    "colab": {
     "base_uri": "https://localhost:8080/",
     "height": 1000
    },
    "id": "F17xTYeLCDQr",
    "outputId": "487222ea-9aec-4648-ac13-4087aeb45582"
   },
   "outputs": [
    {
     "name": "stdout",
     "output_type": "stream",
     "text": [
      "Requirement already satisfied: pandas in c:\\users\\celin\\anaconda3\\lib\\site-packages (1.3.4)\n",
      "Requirement already satisfied: numpy>=1.17.3 in c:\\users\\celin\\anaconda3\\lib\\site-packages (from pandas) (1.20.3)\n",
      "Requirement already satisfied: pytz>=2017.3 in c:\\users\\celin\\anaconda3\\lib\\site-packages (from pandas) (2021.3)\n",
      "Requirement already satisfied: python-dateutil>=2.7.3 in c:\\users\\celin\\anaconda3\\lib\\site-packages (from pandas) (2.8.2)\n",
      "Requirement already satisfied: six>=1.5 in c:\\users\\celin\\anaconda3\\lib\\site-packages (from python-dateutil>=2.7.3->pandas) (1.16.0)\n",
      "Collecting pandas-datareader\n",
      "  Downloading pandas_datareader-0.10.0-py3-none-any.whl (109 kB)\n",
      "Requirement already satisfied: lxml in c:\\users\\celin\\anaconda3\\lib\\site-packages (from pandas-datareader) (4.6.3)\n",
      "Requirement already satisfied: requests>=2.19.0 in c:\\users\\celin\\anaconda3\\lib\\site-packages (from pandas-datareader) (2.26.0)\n",
      "Requirement already satisfied: pandas>=0.23 in c:\\users\\celin\\anaconda3\\lib\\site-packages (from pandas-datareader) (1.3.4)\n",
      "Requirement already satisfied: python-dateutil>=2.7.3 in c:\\users\\celin\\anaconda3\\lib\\site-packages (from pandas>=0.23->pandas-datareader) (2.8.2)\n",
      "Requirement already satisfied: pytz>=2017.3 in c:\\users\\celin\\anaconda3\\lib\\site-packages (from pandas>=0.23->pandas-datareader) (2021.3)\n",
      "Requirement already satisfied: numpy>=1.17.3 in c:\\users\\celin\\anaconda3\\lib\\site-packages (from pandas>=0.23->pandas-datareader) (1.20.3)\n",
      "Requirement already satisfied: six>=1.5 in c:\\users\\celin\\anaconda3\\lib\\site-packages (from python-dateutil>=2.7.3->pandas>=0.23->pandas-datareader) (1.16.0)\n",
      "Requirement already satisfied: idna<4,>=2.5 in c:\\users\\celin\\anaconda3\\lib\\site-packages (from requests>=2.19.0->pandas-datareader) (3.2)\n",
      "Requirement already satisfied: certifi>=2017.4.17 in c:\\users\\celin\\anaconda3\\lib\\site-packages (from requests>=2.19.0->pandas-datareader) (2021.10.8)\n",
      "Requirement already satisfied: charset-normalizer~=2.0.0 in c:\\users\\celin\\anaconda3\\lib\\site-packages (from requests>=2.19.0->pandas-datareader) (2.0.4)\n",
      "Requirement already satisfied: urllib3<1.27,>=1.21.1 in c:\\users\\celin\\anaconda3\\lib\\site-packages (from requests>=2.19.0->pandas-datareader) (1.26.7)\n",
      "Installing collected packages: pandas-datareader\n",
      "Successfully installed pandas-datareader-0.10.0\n"
     ]
    },
    {
     "data": {
      "text/html": [
       "<div>\n",
       "<style scoped>\n",
       "    .dataframe tbody tr th:only-of-type {\n",
       "        vertical-align: middle;\n",
       "    }\n",
       "\n",
       "    .dataframe tbody tr th {\n",
       "        vertical-align: top;\n",
       "    }\n",
       "\n",
       "    .dataframe thead th {\n",
       "        text-align: right;\n",
       "    }\n",
       "</style>\n",
       "<table border=\"1\" class=\"dataframe\">\n",
       "  <thead>\n",
       "    <tr style=\"text-align: right;\">\n",
       "      <th></th>\n",
       "      <th>High</th>\n",
       "      <th>Low</th>\n",
       "      <th>Open</th>\n",
       "      <th>Close</th>\n",
       "      <th>Volume</th>\n",
       "      <th>Adj Close</th>\n",
       "    </tr>\n",
       "    <tr>\n",
       "      <th>Date</th>\n",
       "      <th></th>\n",
       "      <th></th>\n",
       "      <th></th>\n",
       "      <th></th>\n",
       "      <th></th>\n",
       "      <th></th>\n",
       "    </tr>\n",
       "  </thead>\n",
       "  <tbody>\n",
       "    <tr>\n",
       "      <th>2017-01-05</th>\n",
       "      <td>29.215000</td>\n",
       "      <td>28.952499</td>\n",
       "      <td>28.980000</td>\n",
       "      <td>29.152500</td>\n",
       "      <td>88774400.0</td>\n",
       "      <td>27.440720</td>\n",
       "    </tr>\n",
       "    <tr>\n",
       "      <th>2017-01-06</th>\n",
       "      <td>29.540001</td>\n",
       "      <td>29.117500</td>\n",
       "      <td>29.195000</td>\n",
       "      <td>29.477501</td>\n",
       "      <td>127007600.0</td>\n",
       "      <td>27.746634</td>\n",
       "    </tr>\n",
       "    <tr>\n",
       "      <th>2017-01-09</th>\n",
       "      <td>29.857500</td>\n",
       "      <td>29.485001</td>\n",
       "      <td>29.487499</td>\n",
       "      <td>29.747499</td>\n",
       "      <td>134247600.0</td>\n",
       "      <td>28.000784</td>\n",
       "    </tr>\n",
       "    <tr>\n",
       "      <th>2017-01-10</th>\n",
       "      <td>29.844999</td>\n",
       "      <td>29.575001</td>\n",
       "      <td>29.692499</td>\n",
       "      <td>29.777500</td>\n",
       "      <td>97848400.0</td>\n",
       "      <td>28.029020</td>\n",
       "    </tr>\n",
       "    <tr>\n",
       "      <th>2017-01-11</th>\n",
       "      <td>29.982500</td>\n",
       "      <td>29.650000</td>\n",
       "      <td>29.684999</td>\n",
       "      <td>29.937500</td>\n",
       "      <td>110354400.0</td>\n",
       "      <td>28.179626</td>\n",
       "    </tr>\n",
       "  </tbody>\n",
       "</table>\n",
       "</div>"
      ],
      "text/plain": [
       "                 High        Low       Open      Close       Volume  Adj Close\n",
       "Date                                                                          \n",
       "2017-01-05  29.215000  28.952499  28.980000  29.152500   88774400.0  27.440720\n",
       "2017-01-06  29.540001  29.117500  29.195000  29.477501  127007600.0  27.746634\n",
       "2017-01-09  29.857500  29.485001  29.487499  29.747499  134247600.0  28.000784\n",
       "2017-01-10  29.844999  29.575001  29.692499  29.777500   97848400.0  28.029020\n",
       "2017-01-11  29.982500  29.650000  29.684999  29.937500  110354400.0  28.179626"
      ]
     },
     "execution_count": 21,
     "metadata": {},
     "output_type": "execute_result"
    }
   ],
   "source": [
    "!pip install --upgrade pandas\n",
    "!pip install --upgrade pandas-datareader\n",
    "\n",
    "import pandas as pd\n",
    "import datetime\n",
    "import pandas_datareader.data as web\n",
    "from pandas import Series, DataFrame\n",
    "\n",
    "\n",
    "start = datetime.datetime(2010, 1, 1)\n",
    "end = datetime.datetime(2017, 1, 11)\n",
    "\n",
    "df = web.DataReader(\"AAPL\", 'yahoo', start, end)\n",
    "df.tail()"
   ]
  },
  {
   "cell_type": "markdown",
   "metadata": {
    "id": "oWL4Xg7NCDQr"
   },
   "source": [
    "https://pandas-datareader.readthedocs.io/en/latest/remote_data.html#remote-data-tiingo"
   ]
  }
 ],
 "metadata": {
  "colab": {
   "name": "Lesson 3 by Dr. Alvin.ipynb",
   "provenance": [],
   "toc_visible": true
  },
  "kernelspec": {
   "display_name": "Python 3 (ipykernel)",
   "language": "python",
   "name": "python3"
  },
  "language_info": {
   "codemirror_mode": {
    "name": "ipython",
    "version": 3
   },
   "file_extension": ".py",
   "mimetype": "text/x-python",
   "name": "python",
   "nbconvert_exporter": "python",
   "pygments_lexer": "ipython3",
   "version": "3.9.7"
  }
 },
 "nbformat": 4,
 "nbformat_minor": 1
}
