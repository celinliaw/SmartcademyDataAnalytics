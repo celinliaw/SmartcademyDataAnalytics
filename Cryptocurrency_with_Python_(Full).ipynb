{
  "nbformat": 4,
  "nbformat_minor": 0,
  "metadata": {
    "colab": {
      "name": "Cryptocurrency with Python (Full).ipynb",
      "provenance": [],
      "toc_visible": true
    },
    "kernelspec": {
      "name": "python3",
      "display_name": "Python 3"
    },
    "language_info": {
      "name": "python"
    }
  },
  "cells": [
    {
      "cell_type": "markdown",
      "metadata": {
        "id": "4yKrwIINrXR3"
      },
      "source": [
        "---\n",
        "<br>\n",
        "\n",
        "## Python Review with Crypto Market Data\n",
        "\n",
        "\n",
        "\n",
        "---\n",
        "\n",
        "In the 2nd part of this take-home assignment, you'll be using a randomly generated `crypto_coin` list below as your dataset. \n",
        "\n",
        "This assignment is designed to practice iteration and functions in particular. The normal questions are more gentle, and the challenge questions are suitable for advanced/expert python or programming-experienced students. \n",
        "\n",
        "All the questions require writing functions and also use iteration to solve. You should print out a test of each function you write.\n",
        "\n",
        "\n",
        "### 1. Load the provided list of cryptocurrency coins dictionaries."
      ]
    },
    {
      "cell_type": "code",
      "metadata": {
        "id": "X-349dO5rXR3"
      },
      "source": [
        "# List of cryptocurrency coins dictionaries:\n",
        "\n",
        "crypto_coin = [\n",
        "{\n",
        "\"name\": \"Bitcoin\", \n",
        "\"ticker\": 'BTC',\n",
        "\"price\": 35870.86,\n",
        "\"24h_change\": 1.48,\n",
        "\"volume\": 670552492185,\n",
        "\"supply\": 18721781,\n",
        "\"category\": 'CURRENCY'\n",
        "},\n",
        "    \n",
        "{\n",
        "\"name\": \"Ethereum\", \n",
        "\"ticker\": 'ETH',\n",
        "\"price\": 2422.80,\n",
        "\"24h_change\": 0.05,\n",
        "\"volume\": 281073942766,\n",
        "\"supply\": 116083174,\n",
        "\"category\": 'PLATFORM'\n",
        "},\n",
        "    \n",
        "{\n",
        "\"name\": \"Cardano\", \n",
        "\"ticker\": 'ADA',\n",
        "\"price\": 1.63,\n",
        "\"24h_change\": 10.26,\n",
        "\"volume\": 51951358766,\n",
        "\"supply\": 31948309441,\n",
        "\"category\": 'PLATFORM'\n",
        "},\n",
        "    \n",
        "{\n",
        "\"name\": \"Binance Coin\", \n",
        "\"ticker\": 'BNB',\n",
        "\"price\": 331.21,\n",
        "\"24h_change\": 6.08,\n",
        "\"volume\": 50829735875,\n",
        "\"supply\": 153432897,\n",
        "\"category\": 'EXCHANGE'\n",
        "},\n",
        "    \n",
        "{\n",
        "\"name\": \"XRP\", \n",
        "\"ticker\": 'XRP',\n",
        "\"price\": 5.00,\n",
        "\"24h_change\": 7.39,\n",
        "\"volume\": 40594034312,\n",
        "\"supply\": 46143602688,\n",
        "\"category\": 'CURRENCY'\n",
        "},\n",
        "    \n",
        "{\n",
        "\"name\": \"Dogecoin\", \n",
        "\"ticker\": 'DOGE',\n",
        "\"price\": 0.31,\n",
        "\"24h_change\": 2.11,\n",
        "\"volume\": 39593068555,\n",
        "\"supply\": 129813129789,\n",
        "\"category\": 'CURRENCY'\n",
        "}\n",
        "]"
      ],
      "execution_count": null,
      "outputs": []
    },
    {
      "cell_type": "markdown",
      "metadata": {
        "id": "7cnboXCmrXR4"
      },
      "source": [
        "### Description of Fields Used\n",
        "\n",
        "- \"name\" - Name of Cryptocurrency\n",
        "- \"ticker\" - Ticker Symbol of Cryptocurrency\n",
        "- \"price\" - Price of Cryptocurrency\n",
        "- \"24h_change\" - Difference between Current Price and the Price 24hours Ago (in <b>Percentage</b>)\n",
        "- \"volume\" - Measure of how much the currency was traded in the last 24 hours\n",
        "- \"supply\" - Circulating Supply of Coins in the Market\n",
        "- \"category\" - User-defined Category of what type of Coin it is\n"
      ]
    },
    {
      "cell_type": "markdown",
      "metadata": {
        "id": "95ZOBfm-rXR4"
      },
      "source": [
        "---\n",
        "\n",
        "### 2. Searching cryptocurrencies\n",
        "\n",
        "#### 2.1 \n",
        "\n",
        "Write a function that:\n",
        "\n",
        "1. Accepts a single coin from the `crypto_coin` list as an argument.\n",
        "2. Compares the name of the coin with your keyword.\n",
        "3. If keyword exists in the coin name, return True.\n",
        "   Else, return False.\n",
        "   \n",
        "   (For this first part, you do not need to consider about lower/upper case when comparing the keyword and coin name)\n",
        "\n",
        "#### 2.2\n",
        "\n",
        "Write a function that:\n",
        "\n",
        "1. Accepts the list `crypto_coin` as an argument.\n",
        "2. Searches through all the <b> case sensitive </b> names in the list and checks how many coins fulfill the keyword criteria.\n",
        "3. Prints out the number of coins that fulfill the keyword criteria.\n",
        "\n",
        "#### 2.3 [Expert]\n",
        "\n",
        "Write a function that:\n",
        "\n",
        "1. Accepts the list `crypto_coin` as an argument.\n",
        "2. Keyword criteria can now be jumbled up and need not be in its current format. \n",
        "    e.g. if keyword criteria is \"mute\", we will count <i>Ethereum</i> to have fulfilled the keyword criteria, as each character <b>m, u, t, e</b> exists in the word <i>Ethereum</i>.\n",
        "    "
      ]
    },
    {
      "cell_type": "code",
      "metadata": {
        "id": "KHuO39sdrXR5",
        "colab": {
          "base_uri": "https://localhost:8080/"
        },
        "outputId": "75289a1c-701d-4431-c9ef-4e4e58a4c40f"
      },
      "source": [
        "dogecoin = crypto_coin[5]\n",
        "print(dogecoin)"
      ],
      "execution_count": null,
      "outputs": [
        {
          "output_type": "stream",
          "name": "stdout",
          "text": [
            "{'name': 'Dogecoin', 'ticker': 'DOGE', 'price': 0.31, '24h_change': 2.11, 'volume': 39593068555, 'supply': 129813129789, 'category': 'CURRENCY'}\n"
          ]
        }
      ]
    },
    {
      "cell_type": "code",
      "metadata": {
        "id": "JH8DuQPyrXR5",
        "colab": {
          "base_uri": "https://localhost:8080/"
        },
        "outputId": "5607bcf6-b476-4fe8-ca79-284dc842059d"
      },
      "source": [
        "# 2.1\n",
        "def search_coin_names(coin, keyword):\n",
        "    current_coin_name = coin['name']\n",
        "    if keyword in current_coin_name: \n",
        "        return True\n",
        "    else:\n",
        "        return False\n",
        "    \n",
        "search_coin_names(dogecoin, 'coin')"
      ],
      "execution_count": null,
      "outputs": [
        {
          "output_type": "execute_result",
          "data": {
            "text/plain": [
              "True"
            ]
          },
          "metadata": {},
          "execution_count": 3
        }
      ]
    },
    {
      "cell_type": "code",
      "metadata": {
        "id": "SofQFd_irXR6",
        "colab": {
          "base_uri": "https://localhost:8080/"
        },
        "outputId": "c2e2a749-3530-48ab-8a98-26aad2cf3745"
      },
      "source": [
        "# 2.2\n",
        "def search_coin_names_case_sensitive(coins, keyword):\n",
        "    total_count = 0\n",
        "    \n",
        "    for coin in coins:\n",
        "        current_coin_name = coin['name']\n",
        "        # Lowercase for both\n",
        "        keyword_lowercase = keyword.lower()\n",
        "        current_coin_name_lowercase = current_coin_name.lower()\n",
        "        \n",
        "        if keyword_lowercase in current_coin_name_lowercase: \n",
        "            total_count += 1\n",
        "    \n",
        "    print(total_count) \n",
        "    \n",
        "search_coin_names_case_sensitive(crypto_coin, 'coin')\n",
        "search_coin_names_case_sensitive(crypto_coin, 'xrp')\n",
        "search_coin_names_case_sensitive(crypto_coin, 'biT')"
      ],
      "execution_count": null,
      "outputs": [
        {
          "output_type": "stream",
          "name": "stdout",
          "text": [
            "3\n",
            "1\n",
            "1\n"
          ]
        }
      ]
    },
    {
      "cell_type": "code",
      "metadata": {
        "id": "kIMQTbtarXR6",
        "colab": {
          "base_uri": "https://localhost:8080/"
        },
        "outputId": "2350a57f-5d55-49d2-ff2d-af3b69f5bb37"
      },
      "source": [
        "# 2.3 \n",
        "def search_coin_names_jumbled(coins, keyword):\n",
        "    total_count = 0\n",
        "    keyword_lower = keyword.lower()\n",
        "    \n",
        "    for coin in coins:\n",
        "        current_coin_name = coin['name']\n",
        "        # Lowercase for both\n",
        "        keyword_lowercase = keyword.lower()\n",
        "        current_coin_name_lowercase = current_coin_name.lower()\n",
        "        \n",
        "        if set(keyword_lowercase).issubset(current_coin_name_lowercase):\n",
        "            total_count+= 1\n",
        "\n",
        "    print(total_count) \n",
        "\n",
        "search_coin_names_case_sensitive(crypto_coin, 'ada')\n",
        "search_coin_names_case_sensitive(crypto_coin, 'muteeee')\n",
        "search_coin_names_jumbled(crypto_coin, 'ada') \n",
        "search_coin_names_jumbled(crypto_coin, 'muteeee')"
      ],
      "execution_count": null,
      "outputs": [
        {
          "output_type": "stream",
          "name": "stdout",
          "text": [
            "0\n",
            "0\n",
            "1\n",
            "1\n"
          ]
        }
      ]
    },
    {
      "cell_type": "markdown",
      "metadata": {
        "id": "4G_ID7SPrXR6"
      },
      "source": [
        "---\n",
        "\n",
        "### 3. Filtering cryptocurrencies\n",
        "\n",
        "#### 3.1 \n",
        "\n",
        "Write a function that:\n",
        "\n",
        "1. Accepts a single coin from the `crypto_coin` list as an argument.\n",
        "2. Returns True if the 24H price change is above 5%. If False, it prints \"Do not buy! Not volatile enough!\".\n",
        "\n",
        "#### 3.2 [Challenge] \n",
        "\n",
        "Write a function that:\n",
        "\n",
        "1. Accepts the list `crypto_coin` and a specified category.\n",
        "2. Returns True if the average 24H change of the category is higher or equal than the average 24H change of all coins.\n",
        "   If False, print \"The category is less volatile than all of the other coins!\"."
      ]
    },
    {
      "cell_type": "code",
      "metadata": {
        "id": "0w7FJQKArXR6",
        "colab": {
          "base_uri": "https://localhost:8080/"
        },
        "outputId": "b43d3369-cd04-4655-942b-fc485d01d650"
      },
      "source": [
        "#3.1 \n",
        "def filter_by_24h(coin):\n",
        "    if dogecoin['24h_change'] > 5:\n",
        "        return True\n",
        "    else:\n",
        "        print (\"Do not buy! Not volatile enough!\")\n",
        "    \n",
        "filter_by_24h(dogecoin)"
      ],
      "execution_count": null,
      "outputs": [
        {
          "output_type": "stream",
          "name": "stdout",
          "text": [
            "Do not buy! Not volatile enough!\n"
          ]
        }
      ]
    },
    {
      "cell_type": "code",
      "metadata": {
        "id": "U76u8q01rXR7",
        "colab": {
          "base_uri": "https://localhost:8080/"
        },
        "outputId": "c2413405-ca35-4678-be7e-ba2eee2ac30b"
      },
      "source": [
        "#3.2\n",
        "def filter_by_24h_average(coins, specified_category):\n",
        "    total_sum_24h_of_all_coins = 0\n",
        "    total_sum_24h_of_category_coins = 0\n",
        "    \n",
        "    count_24h_of_all_coins = 0\n",
        "    count_24h_of_category_coins = 0\n",
        "    \n",
        "    for coin in coins:\n",
        "        # Variables for the current coin in the loop\n",
        "        current_coin_24h_percent = coin['24h_change']\n",
        "        current_coin_category = coin['category']\n",
        "        \n",
        "        # Counting the average 24H change for all coins\n",
        "        count_24h_of_all_coins += 1\n",
        "        total_sum_24h_of_all_coins += current_coin_24h_percent\n",
        "        \n",
        "        # Counting the average 24H change for coins in specified_category\n",
        "        if current_coin_category == specified_category:\n",
        "            count_24h_of_category_coins += 1\n",
        "            total_sum_24h_of_category_coins += current_coin_24h_percent\n",
        "            \n",
        "    avg_24h_all_coins = total_sum_24h_of_all_coins / count_24h_of_all_coins\n",
        "    avg_24h_category_coins = total_sum_24h_of_category_coins / count_24h_of_category_coins\n",
        "    \n",
        "    # Tests\n",
        "    #print(total_sum_24h_of_all_coins); print(count_24h_of_all_coins); print(\"Average of 24H for all coins: \", avg_24h_all_coins)\n",
        "    #print('')\n",
        "    #print(total_sum_24h_of_category_coins); print(count_24h_of_category_coins); print(\"Average of 24H for category coins: \", avg_24h_category_coins)\n",
        "    \n",
        "    if avg_24h_category_coins >= avg_24h_all_coins:\n",
        "        return True\n",
        "    else:\n",
        "        print (\"The category is less volatile than all of the other coins!\")\n",
        "\n",
        "filter_by_24h_average(crypto_coin, 'EXCHANGE')"
      ],
      "execution_count": null,
      "outputs": [
        {
          "output_type": "execute_result",
          "data": {
            "text/plain": [
              "True"
            ]
          },
          "metadata": {},
          "execution_count": 7
        }
      ]
    }
  ]
}