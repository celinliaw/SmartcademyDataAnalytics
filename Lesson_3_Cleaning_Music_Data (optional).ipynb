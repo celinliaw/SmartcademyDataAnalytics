{
 "cells": [
  {
   "cell_type": "markdown",
   "metadata": {
    "id": "9hy6q9OBVz1W"
   },
   "source": [
    "\n",
    "\n",
    "#Data Cleansing: Music Data\n",
    "---"
   ]
  },
  {
   "cell_type": "markdown",
   "metadata": {
    "id": "5PXbRqLlVz1k"
   },
   "source": [
    "#Step 1. Load rock.csv.\n",
    "\n",
    "---\n",
    "*Drag and drop the rock.csv file into the left panel (into /content)"
   ]
  },
  {
   "cell_type": "markdown",
   "metadata": {
    "id": "-7WCAkRaa0Sa"
   },
   "source": [
    "##1a. Import all the libraries needed\n",
    "\n",
    "---\n",
    "\n"
   ]
  },
  {
   "cell_type": "code",
   "execution_count": 1,
   "metadata": {
    "id": "j22uN7AWVz1m"
   },
   "outputs": [],
   "source": [
    "import pandas as pd\n",
    "import numpy as np \n",
    "import seaborn as sns"
   ]
  },
  {
   "cell_type": "markdown",
   "metadata": {
    "id": "wMCZMBh0bAXs"
   },
   "source": [
    "##1b. Assign a name\n",
    "---"
   ]
  },
  {
   "cell_type": "code",
   "execution_count": 2,
   "metadata": {
    "id": "hafAv__OVz1r"
   },
   "outputs": [],
   "source": [
    "rockfile = \"rock.csv\"\n",
    "df = pd.read_csv(rockfile)"
   ]
  },
  {
   "cell_type": "markdown",
   "metadata": {
    "id": "lHDi58rXbjNN"
   },
   "source": [
    "##1c. View the first 5 rows\n",
    "\n",
    "---\n",
    "\n"
   ]
  },
  {
   "cell_type": "code",
   "execution_count": 4,
   "metadata": {
    "colab": {
     "base_uri": "https://localhost:8080/",
     "height": 0
    },
    "id": "4H4pq4BzVz1u",
    "outputId": "21fcccbb-6720-42dd-f930-ade639e1991a"
   },
   "outputs": [
    {
     "data": {
      "text/html": [
       "<div>\n",
       "<style scoped>\n",
       "    .dataframe tbody tr th:only-of-type {\n",
       "        vertical-align: middle;\n",
       "    }\n",
       "\n",
       "    .dataframe tbody tr th {\n",
       "        vertical-align: top;\n",
       "    }\n",
       "\n",
       "    .dataframe thead th {\n",
       "        text-align: right;\n",
       "    }\n",
       "</style>\n",
       "<table border=\"1\" class=\"dataframe\">\n",
       "  <thead>\n",
       "    <tr style=\"text-align: right;\">\n",
       "      <th></th>\n",
       "      <th>Song Clean</th>\n",
       "      <th>ARTIST CLEAN</th>\n",
       "      <th>Release Year</th>\n",
       "      <th>COMBINED</th>\n",
       "      <th>First?</th>\n",
       "      <th>Year?</th>\n",
       "      <th>PlayCount</th>\n",
       "      <th>F*G</th>\n",
       "    </tr>\n",
       "  </thead>\n",
       "  <tbody>\n",
       "    <tr>\n",
       "      <th>0</th>\n",
       "      <td>Caught Up in You</td>\n",
       "      <td>.38 Special</td>\n",
       "      <td>1982</td>\n",
       "      <td>Caught Up in You by .38 Special</td>\n",
       "      <td>1</td>\n",
       "      <td>1</td>\n",
       "      <td>82</td>\n",
       "      <td>82</td>\n",
       "    </tr>\n",
       "    <tr>\n",
       "      <th>1</th>\n",
       "      <td>Fantasy Girl</td>\n",
       "      <td>.38 Special</td>\n",
       "      <td>NaN</td>\n",
       "      <td>Fantasy Girl by .38 Special</td>\n",
       "      <td>1</td>\n",
       "      <td>0</td>\n",
       "      <td>3</td>\n",
       "      <td>0</td>\n",
       "    </tr>\n",
       "    <tr>\n",
       "      <th>2</th>\n",
       "      <td>Hold On Loosely</td>\n",
       "      <td>.38 Special</td>\n",
       "      <td>1981</td>\n",
       "      <td>Hold On Loosely by .38 Special</td>\n",
       "      <td>1</td>\n",
       "      <td>1</td>\n",
       "      <td>85</td>\n",
       "      <td>85</td>\n",
       "    </tr>\n",
       "    <tr>\n",
       "      <th>3</th>\n",
       "      <td>Rockin' Into the Night</td>\n",
       "      <td>.38 Special</td>\n",
       "      <td>1980</td>\n",
       "      <td>Rockin' Into the Night by .38 Special</td>\n",
       "      <td>1</td>\n",
       "      <td>1</td>\n",
       "      <td>18</td>\n",
       "      <td>18</td>\n",
       "    </tr>\n",
       "    <tr>\n",
       "      <th>4</th>\n",
       "      <td>Art For Arts Sake</td>\n",
       "      <td>10cc</td>\n",
       "      <td>1975</td>\n",
       "      <td>Art For Arts Sake by 10cc</td>\n",
       "      <td>1</td>\n",
       "      <td>1</td>\n",
       "      <td>1</td>\n",
       "      <td>1</td>\n",
       "    </tr>\n",
       "  </tbody>\n",
       "</table>\n",
       "</div>"
      ],
      "text/plain": [
       "               Song Clean ARTIST CLEAN Release Year  \\\n",
       "0        Caught Up in You  .38 Special         1982   \n",
       "1            Fantasy Girl  .38 Special          NaN   \n",
       "2         Hold On Loosely  .38 Special         1981   \n",
       "3  Rockin' Into the Night  .38 Special         1980   \n",
       "4       Art For Arts Sake         10cc         1975   \n",
       "\n",
       "                                COMBINED  First?  Year?  PlayCount  F*G  \n",
       "0        Caught Up in You by .38 Special       1      1         82   82  \n",
       "1            Fantasy Girl by .38 Special       1      0          3    0  \n",
       "2         Hold On Loosely by .38 Special       1      1         85   85  \n",
       "3  Rockin' Into the Night by .38 Special       1      1         18   18  \n",
       "4              Art For Arts Sake by 10cc       1      1          1    1  "
      ]
     },
     "execution_count": 4,
     "metadata": {},
     "output_type": "execute_result"
    }
   ],
   "source": [
    "df.head()\n",
    "\n",
    "#note that the names of the columns look weird..."
   ]
  },
  {
   "cell_type": "markdown",
   "metadata": {
    "id": "NW0kSLC5bxdY"
   },
   "source": [
    "##1d. Check out the columns info\n",
    "\n",
    "---\n",
    "\n"
   ]
  },
  {
   "cell_type": "code",
   "execution_count": 5,
   "metadata": {
    "colab": {
     "base_uri": "https://localhost:8080/"
    },
    "id": "T49LGT5nVz3A",
    "outputId": "04917781-85a8-4ce8-d600-5d25c1497515"
   },
   "outputs": [
    {
     "name": "stdout",
     "output_type": "stream",
     "text": [
      "<class 'pandas.core.frame.DataFrame'>\n",
      "RangeIndex: 2230 entries, 0 to 2229\n",
      "Data columns (total 8 columns):\n",
      " #   Column        Non-Null Count  Dtype \n",
      "---  ------        --------------  ----- \n",
      " 0   Song Clean    2230 non-null   object\n",
      " 1   ARTIST CLEAN  2230 non-null   object\n",
      " 2   Release Year  1653 non-null   object\n",
      " 3   COMBINED      2230 non-null   object\n",
      " 4   First?        2230 non-null   int64 \n",
      " 5   Year?         2230 non-null   int64 \n",
      " 6   PlayCount     2230 non-null   int64 \n",
      " 7   F*G           2230 non-null   int64 \n",
      "dtypes: int64(4), object(4)\n",
      "memory usage: 139.5+ KB\n"
     ]
    }
   ],
   "source": [
    "df.info()"
   ]
  },
  {
   "cell_type": "markdown",
   "metadata": {
    "id": "NiA5leMfVz3C"
   },
   "source": [
    "# Step 2.  Give Proper Column Names\n",
    "\n",
    "---"
   ]
  },
  {
   "cell_type": "markdown",
   "metadata": {
    "id": "UEqd227XdQQD"
   },
   "source": [
    "Two methods to rename column names:\n",
    "\n",
    "* Method 1 = During importing of data\n",
    "* Method 2 = Using the .rename() function"
   ]
  },
  {
   "cell_type": "markdown",
   "metadata": {
    "id": "ny9kmoU8d0fC"
   },
   "source": [
    "### 2a. Method 1 = Changing Column Names During Importing\n",
    "\n",
    "---"
   ]
  },
  {
   "cell_type": "code",
   "execution_count": 6,
   "metadata": {
    "colab": {
     "base_uri": "https://localhost:8080/",
     "height": 206
    },
    "id": "XoRjrdU6Vz3E",
    "outputId": "676c23b7-71eb-473f-bcfd-8f58d885b1d9"
   },
   "outputs": [
    {
     "data": {
      "text/html": [
       "<div>\n",
       "<style scoped>\n",
       "    .dataframe tbody tr th:only-of-type {\n",
       "        vertical-align: middle;\n",
       "    }\n",
       "\n",
       "    .dataframe tbody tr th {\n",
       "        vertical-align: top;\n",
       "    }\n",
       "\n",
       "    .dataframe thead th {\n",
       "        text-align: right;\n",
       "    }\n",
       "</style>\n",
       "<table border=\"1\" class=\"dataframe\">\n",
       "  <thead>\n",
       "    <tr style=\"text-align: right;\">\n",
       "      <th></th>\n",
       "      <th>song</th>\n",
       "      <th>artist</th>\n",
       "      <th>release</th>\n",
       "      <th>song_artist</th>\n",
       "      <th>first</th>\n",
       "      <th>year</th>\n",
       "      <th>playcount</th>\n",
       "      <th>fg</th>\n",
       "    </tr>\n",
       "  </thead>\n",
       "  <tbody>\n",
       "    <tr>\n",
       "      <th>0</th>\n",
       "      <td>Caught Up in You</td>\n",
       "      <td>.38 Special</td>\n",
       "      <td>1982</td>\n",
       "      <td>Caught Up in You by .38 Special</td>\n",
       "      <td>1</td>\n",
       "      <td>1</td>\n",
       "      <td>82</td>\n",
       "      <td>82</td>\n",
       "    </tr>\n",
       "    <tr>\n",
       "      <th>1</th>\n",
       "      <td>Fantasy Girl</td>\n",
       "      <td>.38 Special</td>\n",
       "      <td>NaN</td>\n",
       "      <td>Fantasy Girl by .38 Special</td>\n",
       "      <td>1</td>\n",
       "      <td>0</td>\n",
       "      <td>3</td>\n",
       "      <td>0</td>\n",
       "    </tr>\n",
       "    <tr>\n",
       "      <th>2</th>\n",
       "      <td>Hold On Loosely</td>\n",
       "      <td>.38 Special</td>\n",
       "      <td>1981</td>\n",
       "      <td>Hold On Loosely by .38 Special</td>\n",
       "      <td>1</td>\n",
       "      <td>1</td>\n",
       "      <td>85</td>\n",
       "      <td>85</td>\n",
       "    </tr>\n",
       "    <tr>\n",
       "      <th>3</th>\n",
       "      <td>Rockin' Into the Night</td>\n",
       "      <td>.38 Special</td>\n",
       "      <td>1980</td>\n",
       "      <td>Rockin' Into the Night by .38 Special</td>\n",
       "      <td>1</td>\n",
       "      <td>1</td>\n",
       "      <td>18</td>\n",
       "      <td>18</td>\n",
       "    </tr>\n",
       "    <tr>\n",
       "      <th>4</th>\n",
       "      <td>Art For Arts Sake</td>\n",
       "      <td>10cc</td>\n",
       "      <td>1975</td>\n",
       "      <td>Art For Arts Sake by 10cc</td>\n",
       "      <td>1</td>\n",
       "      <td>1</td>\n",
       "      <td>1</td>\n",
       "      <td>1</td>\n",
       "    </tr>\n",
       "  </tbody>\n",
       "</table>\n",
       "</div>"
      ],
      "text/plain": [
       "                     song       artist release  \\\n",
       "0        Caught Up in You  .38 Special    1982   \n",
       "1            Fantasy Girl  .38 Special     NaN   \n",
       "2         Hold On Loosely  .38 Special    1981   \n",
       "3  Rockin' Into the Night  .38 Special    1980   \n",
       "4       Art For Arts Sake         10cc    1975   \n",
       "\n",
       "                             song_artist  first  year  playcount  fg  \n",
       "0        Caught Up in You by .38 Special      1     1         82  82  \n",
       "1            Fantasy Girl by .38 Special      1     0          3   0  \n",
       "2         Hold On Loosely by .38 Special      1     1         85  85  \n",
       "3  Rockin' Into the Night by .38 Special      1     1         18  18  \n",
       "4              Art For Arts Sake by 10cc      1     1          1   1  "
      ]
     },
     "execution_count": 6,
     "metadata": {},
     "output_type": "execute_result"
    }
   ],
   "source": [
    "column_names = ['song', 'artist', 'release', 'song_artist', 'first', 'year', 'playcount', 'fg']\n",
    "\n",
    "df = pd.read_csv(rockfile, names=column_names, skiprows=1)\n",
    "\n",
    "df.head()\n",
    "\n",
    "#The skiprows=1 skips the first row of the .csv.\n",
    "#This is because the 1st row is the header row.\n",
    "#You need to skip it else it will add another header row onto the existing .csv"
   ]
  },
  {
   "cell_type": "markdown",
   "metadata": {
    "id": "BAT-v60QVz3F"
   },
   "source": [
    "##2b. Method 2 = Changing Column Names using .rename()\n",
    "\n",
    "---"
   ]
  },
  {
   "cell_type": "code",
   "execution_count": 8,
   "metadata": {
    "colab": {
     "base_uri": "https://localhost:8080/",
     "height": 206
    },
    "id": "YPJlBJzNVz3G",
    "outputId": "5eda2ad5-b85a-40b7-f23f-8adccb46f958"
   },
   "outputs": [
    {
     "data": {
      "text/html": [
       "<div>\n",
       "<style scoped>\n",
       "    .dataframe tbody tr th:only-of-type {\n",
       "        vertical-align: middle;\n",
       "    }\n",
       "\n",
       "    .dataframe tbody tr th {\n",
       "        vertical-align: top;\n",
       "    }\n",
       "\n",
       "    .dataframe thead th {\n",
       "        text-align: right;\n",
       "    }\n",
       "</style>\n",
       "<table border=\"1\" class=\"dataframe\">\n",
       "  <thead>\n",
       "    <tr style=\"text-align: right;\">\n",
       "      <th></th>\n",
       "      <th>song</th>\n",
       "      <th>artist</th>\n",
       "      <th>release</th>\n",
       "      <th>song_artist</th>\n",
       "      <th>first</th>\n",
       "      <th>year</th>\n",
       "      <th>playcount</th>\n",
       "      <th>fg</th>\n",
       "    </tr>\n",
       "  </thead>\n",
       "  <tbody>\n",
       "    <tr>\n",
       "      <th>0</th>\n",
       "      <td>Caught Up in You</td>\n",
       "      <td>.38 Special</td>\n",
       "      <td>1982</td>\n",
       "      <td>Caught Up in You by .38 Special</td>\n",
       "      <td>1</td>\n",
       "      <td>1</td>\n",
       "      <td>82</td>\n",
       "      <td>82</td>\n",
       "    </tr>\n",
       "    <tr>\n",
       "      <th>1</th>\n",
       "      <td>Fantasy Girl</td>\n",
       "      <td>.38 Special</td>\n",
       "      <td>NaN</td>\n",
       "      <td>Fantasy Girl by .38 Special</td>\n",
       "      <td>1</td>\n",
       "      <td>0</td>\n",
       "      <td>3</td>\n",
       "      <td>0</td>\n",
       "    </tr>\n",
       "    <tr>\n",
       "      <th>2</th>\n",
       "      <td>Hold On Loosely</td>\n",
       "      <td>.38 Special</td>\n",
       "      <td>1981</td>\n",
       "      <td>Hold On Loosely by .38 Special</td>\n",
       "      <td>1</td>\n",
       "      <td>1</td>\n",
       "      <td>85</td>\n",
       "      <td>85</td>\n",
       "    </tr>\n",
       "    <tr>\n",
       "      <th>3</th>\n",
       "      <td>Rockin' Into the Night</td>\n",
       "      <td>.38 Special</td>\n",
       "      <td>1980</td>\n",
       "      <td>Rockin' Into the Night by .38 Special</td>\n",
       "      <td>1</td>\n",
       "      <td>1</td>\n",
       "      <td>18</td>\n",
       "      <td>18</td>\n",
       "    </tr>\n",
       "    <tr>\n",
       "      <th>4</th>\n",
       "      <td>Art For Arts Sake</td>\n",
       "      <td>10cc</td>\n",
       "      <td>1975</td>\n",
       "      <td>Art For Arts Sake by 10cc</td>\n",
       "      <td>1</td>\n",
       "      <td>1</td>\n",
       "      <td>1</td>\n",
       "      <td>1</td>\n",
       "    </tr>\n",
       "  </tbody>\n",
       "</table>\n",
       "</div>"
      ],
      "text/plain": [
       "                     song       artist release  \\\n",
       "0        Caught Up in You  .38 Special    1982   \n",
       "1            Fantasy Girl  .38 Special     NaN   \n",
       "2         Hold On Loosely  .38 Special    1981   \n",
       "3  Rockin' Into the Night  .38 Special    1980   \n",
       "4       Art For Arts Sake         10cc    1975   \n",
       "\n",
       "                             song_artist  first  year  playcount  fg  \n",
       "0        Caught Up in You by .38 Special      1     1         82  82  \n",
       "1            Fantasy Girl by .38 Special      1     0          3   0  \n",
       "2         Hold On Loosely by .38 Special      1     1         85  85  \n",
       "3  Rockin' Into the Night by .38 Special      1     1         18  18  \n",
       "4              Art For Arts Sake by 10cc      1     1          1   1  "
      ]
     },
     "execution_count": 8,
     "metadata": {},
     "output_type": "execute_result"
    }
   ],
   "source": [
    "df = pd.read_csv(rockfile)\n",
    "\n",
    "rename_map = {\n",
    "#Original column: renamed column\n",
    "    'Song Clean':    'song', \n",
    "    'ARTIST CLEAN':  'artist', \n",
    "    'Release Year':  'release', \n",
    "    'COMBINED':      'song_artist', \n",
    "    'First?':        'first', \n",
    "    'Year?':         'year', \n",
    "    'PlayCount':     'playcount', \n",
    "    'F*G':           'fg'\n",
    "}\n",
    "\n",
    "df.rename(columns=rename_map, inplace=True)\n",
    "\n",
    "df.head()\n",
    "\n",
    "#When inplace = True, the data is modified as is, which means it will return nothing \n",
    "#and the dataframe is updated. \n",
    "\n",
    "#When inplace = False, which is the default, then the operation is performed \n",
    "#and it returns a copy of the object (which u dun need). \n",
    "#You then need to save that copy to some place else (which u don't want to)."
   ]
  },
  {
   "cell_type": "markdown",
   "metadata": {
    "id": "7FcuIkYHVz3K"
   },
   "source": [
    "#Step 3. Searching for NaN (or null) values within the DataFrame.\n",
    "---"
   ]
  },
  {
   "cell_type": "markdown",
   "metadata": {
    "id": "9qu4bsQ1lCA9"
   },
   "source": [
    "##3a. Take a peek at .info()\n",
    "\n",
    "---\n",
    "\n"
   ]
  },
  {
   "cell_type": "code",
   "execution_count": 9,
   "metadata": {
    "colab": {
     "base_uri": "https://localhost:8080/"
    },
    "id": "b2eF4ZHsVz3L",
    "outputId": "76f4d654-d8ff-47fd-bac3-a55eba46c982"
   },
   "outputs": [
    {
     "name": "stdout",
     "output_type": "stream",
     "text": [
      "<class 'pandas.core.frame.DataFrame'>\n",
      "RangeIndex: 2230 entries, 0 to 2229\n",
      "Data columns (total 8 columns):\n",
      " #   Column       Non-Null Count  Dtype \n",
      "---  ------       --------------  ----- \n",
      " 0   song         2230 non-null   object\n",
      " 1   artist       2230 non-null   object\n",
      " 2   release      1653 non-null   object\n",
      " 3   song_artist  2230 non-null   object\n",
      " 4   first        2230 non-null   int64 \n",
      " 5   year         2230 non-null   int64 \n",
      " 6   playcount    2230 non-null   int64 \n",
      " 7   fg           2230 non-null   int64 \n",
      "dtypes: int64(4), object(4)\n",
      "memory usage: 139.5+ KB\n"
     ]
    }
   ],
   "source": [
    "#run this\n",
    "\n",
    "df.info()\n",
    "\n",
    "#you see that 'release' has alot of NaN --> 1653 non-null rows"
   ]
  },
  {
   "cell_type": "markdown",
   "metadata": {
    "id": "BmXW1mCiNGIq"
   },
   "source": [
    "##3b. Sum up all the 'release' NaNs\n",
    "\n",
    "---\n",
    "\n"
   ]
  },
  {
   "cell_type": "code",
   "execution_count": 10,
   "metadata": {
    "colab": {
     "base_uri": "https://localhost:8080/"
    },
    "id": "Vl4mhw2UVz3L",
    "outputId": "cc42ebcb-0172-4beb-b99b-6443c7410377"
   },
   "outputs": [
    {
     "data": {
      "text/plain": [
       "song             0\n",
       "artist           0\n",
       "release        577\n",
       "song_artist      0\n",
       "first            0\n",
       "year             0\n",
       "playcount        0\n",
       "fg               0\n",
       "dtype: int64"
      ]
     },
     "execution_count": 10,
     "metadata": {},
     "output_type": "execute_result"
    }
   ],
   "source": [
    "#run this\n",
    "\n",
    "df.isnull().sum()\n",
    "\n",
    "#you see that 'release' has 577 rows of NaN"
   ]
  },
  {
   "cell_type": "markdown",
   "metadata": {
    "id": "qcyMXheTNUlX"
   },
   "source": [
    "##3c. Store and Display the df of all the 'release' NaN\n",
    "\n",
    "---\n",
    "\n"
   ]
  },
  {
   "cell_type": "code",
   "execution_count": 12,
   "metadata": {
    "colab": {
     "base_uri": "https://localhost:8080/",
     "height": 0
    },
    "id": "YveKeZfFVz3M",
    "outputId": "58a8e68d-bf61-4376-dd9f-15176afdd4e7"
   },
   "outputs": [
    {
     "data": {
      "text/html": [
       "<div>\n",
       "<style scoped>\n",
       "    .dataframe tbody tr th:only-of-type {\n",
       "        vertical-align: middle;\n",
       "    }\n",
       "\n",
       "    .dataframe tbody tr th {\n",
       "        vertical-align: top;\n",
       "    }\n",
       "\n",
       "    .dataframe thead th {\n",
       "        text-align: right;\n",
       "    }\n",
       "</style>\n",
       "<table border=\"1\" class=\"dataframe\">\n",
       "  <thead>\n",
       "    <tr style=\"text-align: right;\">\n",
       "      <th></th>\n",
       "      <th>song</th>\n",
       "      <th>artist</th>\n",
       "      <th>release</th>\n",
       "      <th>song_artist</th>\n",
       "      <th>first</th>\n",
       "      <th>year</th>\n",
       "      <th>playcount</th>\n",
       "      <th>fg</th>\n",
       "    </tr>\n",
       "  </thead>\n",
       "  <tbody>\n",
       "    <tr>\n",
       "      <th>1</th>\n",
       "      <td>Fantasy Girl</td>\n",
       "      <td>.38 Special</td>\n",
       "      <td>NaN</td>\n",
       "      <td>Fantasy Girl by .38 Special</td>\n",
       "      <td>1</td>\n",
       "      <td>0</td>\n",
       "      <td>3</td>\n",
       "      <td>0</td>\n",
       "    </tr>\n",
       "    <tr>\n",
       "      <th>10</th>\n",
       "      <td>Baby, Please Don't Go</td>\n",
       "      <td>AC/DC</td>\n",
       "      <td>NaN</td>\n",
       "      <td>Baby, Please Don't Go by AC/DC</td>\n",
       "      <td>1</td>\n",
       "      <td>0</td>\n",
       "      <td>1</td>\n",
       "      <td>0</td>\n",
       "    </tr>\n",
       "    <tr>\n",
       "      <th>13</th>\n",
       "      <td>CAN'T STOP ROCK'N'ROLL</td>\n",
       "      <td>AC/DC</td>\n",
       "      <td>NaN</td>\n",
       "      <td>CAN'T STOP ROCK'N'ROLL by AC/DC</td>\n",
       "      <td>1</td>\n",
       "      <td>0</td>\n",
       "      <td>5</td>\n",
       "      <td>0</td>\n",
       "    </tr>\n",
       "    <tr>\n",
       "      <th>16</th>\n",
       "      <td>Girls Got Rhythm</td>\n",
       "      <td>AC/DC</td>\n",
       "      <td>NaN</td>\n",
       "      <td>Girls Got Rhythm by AC/DC</td>\n",
       "      <td>1</td>\n",
       "      <td>0</td>\n",
       "      <td>24</td>\n",
       "      <td>0</td>\n",
       "    </tr>\n",
       "    <tr>\n",
       "      <th>24</th>\n",
       "      <td>Let's Get It Up</td>\n",
       "      <td>AC/DC</td>\n",
       "      <td>NaN</td>\n",
       "      <td>Let's Get It Up by AC/DC</td>\n",
       "      <td>1</td>\n",
       "      <td>0</td>\n",
       "      <td>4</td>\n",
       "      <td>0</td>\n",
       "    </tr>\n",
       "    <tr>\n",
       "      <th>...</th>\n",
       "      <td>...</td>\n",
       "      <td>...</td>\n",
       "      <td>...</td>\n",
       "      <td>...</td>\n",
       "      <td>...</td>\n",
       "      <td>...</td>\n",
       "      <td>...</td>\n",
       "      <td>...</td>\n",
       "    </tr>\n",
       "    <tr>\n",
       "      <th>2216</th>\n",
       "      <td>I'm Bad, I'm Nationwide</td>\n",
       "      <td>ZZ Top</td>\n",
       "      <td>NaN</td>\n",
       "      <td>I'm Bad, I'm Nationwide by ZZ Top</td>\n",
       "      <td>1</td>\n",
       "      <td>0</td>\n",
       "      <td>10</td>\n",
       "      <td>0</td>\n",
       "    </tr>\n",
       "    <tr>\n",
       "      <th>2218</th>\n",
       "      <td>Just Got Paid</td>\n",
       "      <td>ZZ Top</td>\n",
       "      <td>NaN</td>\n",
       "      <td>Just Got Paid by ZZ Top</td>\n",
       "      <td>1</td>\n",
       "      <td>0</td>\n",
       "      <td>2</td>\n",
       "      <td>0</td>\n",
       "    </tr>\n",
       "    <tr>\n",
       "      <th>2221</th>\n",
       "      <td>My Head's In Mississippi</td>\n",
       "      <td>ZZ Top</td>\n",
       "      <td>NaN</td>\n",
       "      <td>My Head's In Mississippi by ZZ Top</td>\n",
       "      <td>1</td>\n",
       "      <td>0</td>\n",
       "      <td>1</td>\n",
       "      <td>0</td>\n",
       "    </tr>\n",
       "    <tr>\n",
       "      <th>2222</th>\n",
       "      <td>Party On The Patio</td>\n",
       "      <td>ZZ Top</td>\n",
       "      <td>NaN</td>\n",
       "      <td>Party On The Patio by ZZ Top</td>\n",
       "      <td>1</td>\n",
       "      <td>0</td>\n",
       "      <td>14</td>\n",
       "      <td>0</td>\n",
       "    </tr>\n",
       "    <tr>\n",
       "      <th>2225</th>\n",
       "      <td>She Loves My Automobile</td>\n",
       "      <td>ZZ Top</td>\n",
       "      <td>NaN</td>\n",
       "      <td>She Loves My Automobile by ZZ Top</td>\n",
       "      <td>1</td>\n",
       "      <td>0</td>\n",
       "      <td>1</td>\n",
       "      <td>0</td>\n",
       "    </tr>\n",
       "  </tbody>\n",
       "</table>\n",
       "<p>577 rows × 8 columns</p>\n",
       "</div>"
      ],
      "text/plain": [
       "                          song       artist release  \\\n",
       "1                 Fantasy Girl  .38 Special     NaN   \n",
       "10       Baby, Please Don't Go        AC/DC     NaN   \n",
       "13      CAN'T STOP ROCK'N'ROLL        AC/DC     NaN   \n",
       "16            Girls Got Rhythm        AC/DC     NaN   \n",
       "24             Let's Get It Up        AC/DC     NaN   \n",
       "...                        ...          ...     ...   \n",
       "2216   I'm Bad, I'm Nationwide       ZZ Top     NaN   \n",
       "2218             Just Got Paid       ZZ Top     NaN   \n",
       "2221  My Head's In Mississippi       ZZ Top     NaN   \n",
       "2222        Party On The Patio       ZZ Top     NaN   \n",
       "2225   She Loves My Automobile       ZZ Top     NaN   \n",
       "\n",
       "                             song_artist  first  year  playcount  fg  \n",
       "1            Fantasy Girl by .38 Special      1     0          3   0  \n",
       "10        Baby, Please Don't Go by AC/DC      1     0          1   0  \n",
       "13       CAN'T STOP ROCK'N'ROLL by AC/DC      1     0          5   0  \n",
       "16             Girls Got Rhythm by AC/DC      1     0         24   0  \n",
       "24              Let's Get It Up by AC/DC      1     0          4   0  \n",
       "...                                  ...    ...   ...        ...  ..  \n",
       "2216   I'm Bad, I'm Nationwide by ZZ Top      1     0         10   0  \n",
       "2218             Just Got Paid by ZZ Top      1     0          2   0  \n",
       "2221  My Head's In Mississippi by ZZ Top      1     0          1   0  \n",
       "2222        Party On The Patio by ZZ Top      1     0         14   0  \n",
       "2225   She Loves My Automobile by ZZ Top      1     0          1   0  \n",
       "\n",
       "[577 rows x 8 columns]"
      ]
     },
     "execution_count": 12,
     "metadata": {},
     "output_type": "execute_result"
    }
   ],
   "source": [
    "# run this\n",
    "\n",
    "release_column_nulls = df['release'].isnull()\n",
    "\n",
    "df[release_column_nulls]\n",
    "\n",
    "# This displays the df of all the 'release' NaN."
   ]
  },
  {
   "cell_type": "markdown",
   "metadata": {
    "id": "r4yHZ3eQVz3N"
   },
   "source": [
    "#Step 4. Replace NaN with 0s.\n",
    "\n",
    "---"
   ]
  },
  {
   "cell_type": "markdown",
   "metadata": {
    "id": "vf5rNAnMP-5A"
   },
   "source": [
    "##4a. Replacing all 'release' NaN rows with 0s\n",
    "\n",
    "---"
   ]
  },
  {
   "cell_type": "code",
   "execution_count": 13,
   "metadata": {
    "colab": {
     "base_uri": "https://localhost:8080/",
     "height": 0
    },
    "id": "laAE1XptVz3O",
    "outputId": "e9ca493f-7749-4926-fb25-16bbc702cf64"
   },
   "outputs": [
    {
     "data": {
      "text/html": [
       "<div>\n",
       "<style scoped>\n",
       "    .dataframe tbody tr th:only-of-type {\n",
       "        vertical-align: middle;\n",
       "    }\n",
       "\n",
       "    .dataframe tbody tr th {\n",
       "        vertical-align: top;\n",
       "    }\n",
       "\n",
       "    .dataframe thead th {\n",
       "        text-align: right;\n",
       "    }\n",
       "</style>\n",
       "<table border=\"1\" class=\"dataframe\">\n",
       "  <thead>\n",
       "    <tr style=\"text-align: right;\">\n",
       "      <th></th>\n",
       "      <th>song</th>\n",
       "      <th>artist</th>\n",
       "      <th>release</th>\n",
       "      <th>song_artist</th>\n",
       "      <th>first</th>\n",
       "      <th>year</th>\n",
       "      <th>playcount</th>\n",
       "      <th>fg</th>\n",
       "    </tr>\n",
       "  </thead>\n",
       "  <tbody>\n",
       "    <tr>\n",
       "      <th>0</th>\n",
       "      <td>Caught Up in You</td>\n",
       "      <td>.38 Special</td>\n",
       "      <td>1982</td>\n",
       "      <td>Caught Up in You by .38 Special</td>\n",
       "      <td>1</td>\n",
       "      <td>1</td>\n",
       "      <td>82</td>\n",
       "      <td>82</td>\n",
       "    </tr>\n",
       "    <tr>\n",
       "      <th>1</th>\n",
       "      <td>Fantasy Girl</td>\n",
       "      <td>.38 Special</td>\n",
       "      <td>0</td>\n",
       "      <td>Fantasy Girl by .38 Special</td>\n",
       "      <td>1</td>\n",
       "      <td>0</td>\n",
       "      <td>3</td>\n",
       "      <td>0</td>\n",
       "    </tr>\n",
       "    <tr>\n",
       "      <th>2</th>\n",
       "      <td>Hold On Loosely</td>\n",
       "      <td>.38 Special</td>\n",
       "      <td>1981</td>\n",
       "      <td>Hold On Loosely by .38 Special</td>\n",
       "      <td>1</td>\n",
       "      <td>1</td>\n",
       "      <td>85</td>\n",
       "      <td>85</td>\n",
       "    </tr>\n",
       "    <tr>\n",
       "      <th>3</th>\n",
       "      <td>Rockin' Into the Night</td>\n",
       "      <td>.38 Special</td>\n",
       "      <td>1980</td>\n",
       "      <td>Rockin' Into the Night by .38 Special</td>\n",
       "      <td>1</td>\n",
       "      <td>1</td>\n",
       "      <td>18</td>\n",
       "      <td>18</td>\n",
       "    </tr>\n",
       "    <tr>\n",
       "      <th>4</th>\n",
       "      <td>Art For Arts Sake</td>\n",
       "      <td>10cc</td>\n",
       "      <td>1975</td>\n",
       "      <td>Art For Arts Sake by 10cc</td>\n",
       "      <td>1</td>\n",
       "      <td>1</td>\n",
       "      <td>1</td>\n",
       "      <td>1</td>\n",
       "    </tr>\n",
       "    <tr>\n",
       "      <th>5</th>\n",
       "      <td>Kryptonite</td>\n",
       "      <td>3 Doors Down</td>\n",
       "      <td>2000</td>\n",
       "      <td>Kryptonite by 3 Doors Down</td>\n",
       "      <td>1</td>\n",
       "      <td>1</td>\n",
       "      <td>13</td>\n",
       "      <td>13</td>\n",
       "    </tr>\n",
       "    <tr>\n",
       "      <th>6</th>\n",
       "      <td>Loser</td>\n",
       "      <td>3 Doors Down</td>\n",
       "      <td>2000</td>\n",
       "      <td>Loser by 3 Doors Down</td>\n",
       "      <td>1</td>\n",
       "      <td>1</td>\n",
       "      <td>1</td>\n",
       "      <td>1</td>\n",
       "    </tr>\n",
       "    <tr>\n",
       "      <th>7</th>\n",
       "      <td>When I'm Gone</td>\n",
       "      <td>3 Doors Down</td>\n",
       "      <td>2002</td>\n",
       "      <td>When I'm Gone by 3 Doors Down</td>\n",
       "      <td>1</td>\n",
       "      <td>1</td>\n",
       "      <td>6</td>\n",
       "      <td>6</td>\n",
       "    </tr>\n",
       "    <tr>\n",
       "      <th>8</th>\n",
       "      <td>What's Up?</td>\n",
       "      <td>4 Non Blondes</td>\n",
       "      <td>1992</td>\n",
       "      <td>What's Up? by 4 Non Blondes</td>\n",
       "      <td>1</td>\n",
       "      <td>1</td>\n",
       "      <td>3</td>\n",
       "      <td>3</td>\n",
       "    </tr>\n",
       "    <tr>\n",
       "      <th>9</th>\n",
       "      <td>Take On Me</td>\n",
       "      <td>a-ha</td>\n",
       "      <td>1985</td>\n",
       "      <td>Take On Me by a-ha</td>\n",
       "      <td>1</td>\n",
       "      <td>1</td>\n",
       "      <td>1</td>\n",
       "      <td>1</td>\n",
       "    </tr>\n",
       "    <tr>\n",
       "      <th>10</th>\n",
       "      <td>Baby, Please Don't Go</td>\n",
       "      <td>AC/DC</td>\n",
       "      <td>0</td>\n",
       "      <td>Baby, Please Don't Go by AC/DC</td>\n",
       "      <td>1</td>\n",
       "      <td>0</td>\n",
       "      <td>1</td>\n",
       "      <td>0</td>\n",
       "    </tr>\n",
       "    <tr>\n",
       "      <th>11</th>\n",
       "      <td>Back In Black</td>\n",
       "      <td>AC/DC</td>\n",
       "      <td>1980</td>\n",
       "      <td>Back In Black by AC/DC</td>\n",
       "      <td>1</td>\n",
       "      <td>1</td>\n",
       "      <td>97</td>\n",
       "      <td>97</td>\n",
       "    </tr>\n",
       "    <tr>\n",
       "      <th>12</th>\n",
       "      <td>Big Gun</td>\n",
       "      <td>AC/DC</td>\n",
       "      <td>1993</td>\n",
       "      <td>Big Gun by AC/DC</td>\n",
       "      <td>1</td>\n",
       "      <td>1</td>\n",
       "      <td>6</td>\n",
       "      <td>6</td>\n",
       "    </tr>\n",
       "    <tr>\n",
       "      <th>13</th>\n",
       "      <td>CAN'T STOP ROCK'N'ROLL</td>\n",
       "      <td>AC/DC</td>\n",
       "      <td>0</td>\n",
       "      <td>CAN'T STOP ROCK'N'ROLL by AC/DC</td>\n",
       "      <td>1</td>\n",
       "      <td>0</td>\n",
       "      <td>5</td>\n",
       "      <td>0</td>\n",
       "    </tr>\n",
       "    <tr>\n",
       "      <th>14</th>\n",
       "      <td>Dirty Deeds Done Dirt Cheap</td>\n",
       "      <td>AC/DC</td>\n",
       "      <td>1976</td>\n",
       "      <td>Dirty Deeds Done Dirt Cheap by AC/DC</td>\n",
       "      <td>1</td>\n",
       "      <td>1</td>\n",
       "      <td>85</td>\n",
       "      <td>85</td>\n",
       "    </tr>\n",
       "    <tr>\n",
       "      <th>15</th>\n",
       "      <td>For Those About To Rock</td>\n",
       "      <td>AC/DC</td>\n",
       "      <td>1981</td>\n",
       "      <td>For Those About To Rock by AC/DC</td>\n",
       "      <td>1</td>\n",
       "      <td>1</td>\n",
       "      <td>46</td>\n",
       "      <td>46</td>\n",
       "    </tr>\n",
       "    <tr>\n",
       "      <th>16</th>\n",
       "      <td>Girls Got Rhythm</td>\n",
       "      <td>AC/DC</td>\n",
       "      <td>0</td>\n",
       "      <td>Girls Got Rhythm by AC/DC</td>\n",
       "      <td>1</td>\n",
       "      <td>0</td>\n",
       "      <td>24</td>\n",
       "      <td>0</td>\n",
       "    </tr>\n",
       "    <tr>\n",
       "      <th>17</th>\n",
       "      <td>Hard As A Rock</td>\n",
       "      <td>AC/DC</td>\n",
       "      <td>1995</td>\n",
       "      <td>Hard As A Rock by AC/DC</td>\n",
       "      <td>1</td>\n",
       "      <td>1</td>\n",
       "      <td>1</td>\n",
       "      <td>1</td>\n",
       "    </tr>\n",
       "    <tr>\n",
       "      <th>18</th>\n",
       "      <td>Have a Drink On Me</td>\n",
       "      <td>AC/DC</td>\n",
       "      <td>1980</td>\n",
       "      <td>Have a Drink On Me by AC/DC</td>\n",
       "      <td>1</td>\n",
       "      <td>1</td>\n",
       "      <td>39</td>\n",
       "      <td>39</td>\n",
       "    </tr>\n",
       "    <tr>\n",
       "      <th>19</th>\n",
       "      <td>Hells Bells</td>\n",
       "      <td>AC/DC</td>\n",
       "      <td>1980</td>\n",
       "      <td>Hells Bells by AC/DC</td>\n",
       "      <td>1</td>\n",
       "      <td>1</td>\n",
       "      <td>74</td>\n",
       "      <td>74</td>\n",
       "    </tr>\n",
       "    <tr>\n",
       "      <th>20</th>\n",
       "      <td>Highway To Hell</td>\n",
       "      <td>AC/DC</td>\n",
       "      <td>1979</td>\n",
       "      <td>Highway To Hell by AC/DC</td>\n",
       "      <td>1</td>\n",
       "      <td>1</td>\n",
       "      <td>92</td>\n",
       "      <td>92</td>\n",
       "    </tr>\n",
       "    <tr>\n",
       "      <th>21</th>\n",
       "      <td>It's A Long Way To The Top</td>\n",
       "      <td>AC/DC</td>\n",
       "      <td>1975</td>\n",
       "      <td>It's A Long Way To The Top by AC/DC</td>\n",
       "      <td>1</td>\n",
       "      <td>1</td>\n",
       "      <td>39</td>\n",
       "      <td>39</td>\n",
       "    </tr>\n",
       "    <tr>\n",
       "      <th>22</th>\n",
       "      <td>Jailbreak</td>\n",
       "      <td>AC/DC</td>\n",
       "      <td>1984</td>\n",
       "      <td>Jailbreak by AC/DC</td>\n",
       "      <td>1</td>\n",
       "      <td>1</td>\n",
       "      <td>1</td>\n",
       "      <td>1</td>\n",
       "    </tr>\n",
       "    <tr>\n",
       "      <th>23</th>\n",
       "      <td>Let There Be Rock</td>\n",
       "      <td>AC/DC</td>\n",
       "      <td>1977</td>\n",
       "      <td>Let There Be Rock by AC/DC</td>\n",
       "      <td>1</td>\n",
       "      <td>1</td>\n",
       "      <td>3</td>\n",
       "      <td>3</td>\n",
       "    </tr>\n",
       "    <tr>\n",
       "      <th>24</th>\n",
       "      <td>Let's Get It Up</td>\n",
       "      <td>AC/DC</td>\n",
       "      <td>0</td>\n",
       "      <td>Let's Get It Up by AC/DC</td>\n",
       "      <td>1</td>\n",
       "      <td>0</td>\n",
       "      <td>4</td>\n",
       "      <td>0</td>\n",
       "    </tr>\n",
       "  </tbody>\n",
       "</table>\n",
       "</div>"
      ],
      "text/plain": [
       "                           song         artist release  \\\n",
       "0              Caught Up in You    .38 Special    1982   \n",
       "1                  Fantasy Girl    .38 Special       0   \n",
       "2               Hold On Loosely    .38 Special    1981   \n",
       "3        Rockin' Into the Night    .38 Special    1980   \n",
       "4             Art For Arts Sake           10cc    1975   \n",
       "5                    Kryptonite   3 Doors Down    2000   \n",
       "6                         Loser   3 Doors Down    2000   \n",
       "7                 When I'm Gone   3 Doors Down    2002   \n",
       "8                    What's Up?  4 Non Blondes    1992   \n",
       "9                    Take On Me           a-ha    1985   \n",
       "10        Baby, Please Don't Go          AC/DC       0   \n",
       "11                Back In Black          AC/DC    1980   \n",
       "12                      Big Gun          AC/DC    1993   \n",
       "13       CAN'T STOP ROCK'N'ROLL          AC/DC       0   \n",
       "14  Dirty Deeds Done Dirt Cheap          AC/DC    1976   \n",
       "15      For Those About To Rock          AC/DC    1981   \n",
       "16             Girls Got Rhythm          AC/DC       0   \n",
       "17               Hard As A Rock          AC/DC    1995   \n",
       "18           Have a Drink On Me          AC/DC    1980   \n",
       "19                  Hells Bells          AC/DC    1980   \n",
       "20              Highway To Hell          AC/DC    1979   \n",
       "21   It's A Long Way To The Top          AC/DC    1975   \n",
       "22                    Jailbreak          AC/DC    1984   \n",
       "23            Let There Be Rock          AC/DC    1977   \n",
       "24              Let's Get It Up          AC/DC       0   \n",
       "\n",
       "                              song_artist  first  year  playcount  fg  \n",
       "0         Caught Up in You by .38 Special      1     1         82  82  \n",
       "1             Fantasy Girl by .38 Special      1     0          3   0  \n",
       "2          Hold On Loosely by .38 Special      1     1         85  85  \n",
       "3   Rockin' Into the Night by .38 Special      1     1         18  18  \n",
       "4               Art For Arts Sake by 10cc      1     1          1   1  \n",
       "5              Kryptonite by 3 Doors Down      1     1         13  13  \n",
       "6                   Loser by 3 Doors Down      1     1          1   1  \n",
       "7           When I'm Gone by 3 Doors Down      1     1          6   6  \n",
       "8             What's Up? by 4 Non Blondes      1     1          3   3  \n",
       "9                      Take On Me by a-ha      1     1          1   1  \n",
       "10         Baby, Please Don't Go by AC/DC      1     0          1   0  \n",
       "11                 Back In Black by AC/DC      1     1         97  97  \n",
       "12                       Big Gun by AC/DC      1     1          6   6  \n",
       "13        CAN'T STOP ROCK'N'ROLL by AC/DC      1     0          5   0  \n",
       "14   Dirty Deeds Done Dirt Cheap by AC/DC      1     1         85  85  \n",
       "15       For Those About To Rock by AC/DC      1     1         46  46  \n",
       "16              Girls Got Rhythm by AC/DC      1     0         24   0  \n",
       "17                Hard As A Rock by AC/DC      1     1          1   1  \n",
       "18            Have a Drink On Me by AC/DC      1     1         39  39  \n",
       "19                   Hells Bells by AC/DC      1     1         74  74  \n",
       "20               Highway To Hell by AC/DC      1     1         92  92  \n",
       "21    It's A Long Way To The Top by AC/DC      1     1         39  39  \n",
       "22                     Jailbreak by AC/DC      1     1          1   1  \n",
       "23             Let There Be Rock by AC/DC      1     1          3   3  \n",
       "24               Let's Get It Up by AC/DC      1     0          4   0  "
      ]
     },
     "execution_count": 13,
     "metadata": {},
     "output_type": "execute_result"
    }
   ],
   "source": [
    "#run this\n",
    "\n",
    "df.loc[release_column_nulls, 'release'] = 0\n",
    "\n",
    "df.head(25)"
   ]
  },
  {
   "cell_type": "markdown",
   "metadata": {
    "id": "HaGfdd-JVz3P"
   },
   "source": [
    "##4b. Verify that 'release' contains no NaN\n",
    "\n",
    "---\n",
    "\n"
   ]
  },
  {
   "cell_type": "code",
   "execution_count": 11,
   "metadata": {
    "colab": {
     "base_uri": "https://localhost:8080/"
    },
    "id": "O1AKHrbYVz3P",
    "outputId": "96bdb3da-9ff8-4a1f-8d64-919230206b70"
   },
   "outputs": [
    {
     "data": {
      "text/plain": [
       "song           0\n",
       "artist         0\n",
       "release        0\n",
       "song_artist    0\n",
       "first          0\n",
       "year           0\n",
       "playcount      0\n",
       "fg             0\n",
       "dtype: int64"
      ]
     },
     "execution_count": 11,
     "metadata": {},
     "output_type": "execute_result"
    }
   ],
   "source": [
    "#run this\n",
    "\n",
    "df.isnull().sum()"
   ]
  },
  {
   "cell_type": "code",
   "execution_count": 14,
   "metadata": {
    "colab": {
     "base_uri": "https://localhost:8080/"
    },
    "id": "M4_iGGnLVz3Q",
    "outputId": "4c9eb40a-3523-47e2-ccce-bb5f52c986e4"
   },
   "outputs": [
    {
     "data": {
      "text/plain": [
       "song           False\n",
       "artist         False\n",
       "release        False\n",
       "song_artist    False\n",
       "first          False\n",
       "year           False\n",
       "playcount      False\n",
       "fg             False\n",
       "dtype: bool"
      ]
     },
     "execution_count": 14,
     "metadata": {},
     "output_type": "execute_result"
    }
   ],
   "source": [
    "#run this\n",
    "\n",
    "df.isnull().any()"
   ]
  },
  {
   "cell_type": "markdown",
   "metadata": {
    "id": "5tf0lqwuQ-Ph"
   },
   "source": [
    "##4c. Alternative way to replace NaN with 0s\n",
    "\n",
    "---\n",
    "\n"
   ]
  },
  {
   "cell_type": "code",
   "execution_count": 15,
   "metadata": {
    "colab": {
     "base_uri": "https://localhost:8080/"
    },
    "id": "Ix8r1kKyVz3R",
    "outputId": "6cd4f9d5-985d-41b3-c160-b45826c064d2"
   },
   "outputs": [
    {
     "data": {
      "text/plain": [
       "0       1982\n",
       "1          0\n",
       "2       1981\n",
       "3       1980\n",
       "4       1975\n",
       "        ... \n",
       "2225       0\n",
       "2226    1981\n",
       "2227    1975\n",
       "2228    1983\n",
       "2229    1973\n",
       "Name: release, Length: 2230, dtype: object"
      ]
     },
     "execution_count": 15,
     "metadata": {},
     "output_type": "execute_result"
    }
   ],
   "source": [
    "#run this\n",
    "\n",
    "df['release'].fillna(0) # replace null values with 0"
   ]
  },
  {
   "cell_type": "markdown",
   "metadata": {
    "id": "kzZCdNp3Vz3R"
   },
   "source": [
    "#Step 5. Verify the 'release' column datatype. \n",
    "---"
   ]
  },
  {
   "cell_type": "markdown",
   "metadata": {
    "id": "SNa60L8juScB"
   },
   "source": [
    "##5a. First check for any NaNs in the 'release' column\n",
    "\n",
    "---\n",
    "\n"
   ]
  },
  {
   "cell_type": "code",
   "execution_count": 16,
   "metadata": {
    "colab": {
     "base_uri": "https://localhost:8080/"
    },
    "id": "GR4Vi22mVz3S",
    "outputId": "ca1dd655-fe73-4100-9f7c-3278459dc4bc"
   },
   "outputs": [
    {
     "data": {
      "text/plain": [
       "0"
      ]
     },
     "execution_count": 16,
     "metadata": {},
     "output_type": "execute_result"
    }
   ],
   "source": [
    "#run this\n",
    "\n",
    "df['release'].isnull().sum()"
   ]
  },
  {
   "cell_type": "markdown",
   "metadata": {
    "id": "FnPqAkI-ub4v"
   },
   "source": [
    "##5b. Take a peek at the Data Type of 'release' column\n",
    "\n",
    "---\n",
    "\n"
   ]
  },
  {
   "cell_type": "code",
   "execution_count": 17,
   "metadata": {
    "colab": {
     "base_uri": "https://localhost:8080/"
    },
    "id": "qzNFu55XVz3S",
    "outputId": "bf04f4ff-67f1-4932-8b99-04de9d175c0e"
   },
   "outputs": [
    {
     "name": "stdout",
     "output_type": "stream",
     "text": [
      "<class 'pandas.core.frame.DataFrame'>\n",
      "RangeIndex: 2230 entries, 0 to 2229\n",
      "Data columns (total 8 columns):\n",
      " #   Column       Non-Null Count  Dtype \n",
      "---  ------       --------------  ----- \n",
      " 0   song         2230 non-null   object\n",
      " 1   artist       2230 non-null   object\n",
      " 2   release      2230 non-null   object\n",
      " 3   song_artist  2230 non-null   object\n",
      " 4   first        2230 non-null   int64 \n",
      " 5   year         2230 non-null   int64 \n",
      " 6   playcount    2230 non-null   int64 \n",
      " 7   fg           2230 non-null   int64 \n",
      "dtypes: int64(4), object(4)\n",
      "memory usage: 139.5+ KB\n"
     ]
    }
   ],
   "source": [
    "#run this\n",
    "\n",
    "df.info()\n",
    "\n",
    "#note that 'release' column is of object datatype (which means its stored as a string)\n",
    "#since 'release' columns is the year of the release of that song, it should not be a string\n",
    "#it should be of type integer (int)"
   ]
  },
  {
   "cell_type": "markdown",
   "metadata": {
    "id": "GeuYTJMf1Xcz"
   },
   "source": [
    "##5c. Attempting to Change the Datatype of 'release' column from string to int\n",
    "\n",
    "---\n",
    "\n"
   ]
  },
  {
   "cell_type": "code",
   "execution_count": 18,
   "metadata": {
    "colab": {
     "base_uri": "https://localhost:8080/",
     "height": 430
    },
    "id": "l5inpQ-I1kSk",
    "outputId": "3ecd77b7-8855-4b88-e273-904a85249382"
   },
   "outputs": [
    {
     "ename": "ValueError",
     "evalue": "invalid literal for int() with base 10: 'SONGFACTS.COM'",
     "output_type": "error",
     "traceback": [
      "\u001b[1;31m---------------------------------------------------------------------------\u001b[0m",
      "\u001b[1;31mValueError\u001b[0m                                Traceback (most recent call last)",
      "\u001b[1;32m~\\AppData\\Local\\Temp/ipykernel_3044/1495298015.py\u001b[0m in \u001b[0;36m<module>\u001b[1;34m\u001b[0m\n\u001b[0;32m      1\u001b[0m \u001b[1;31m#run this\u001b[0m\u001b[1;33m\u001b[0m\u001b[1;33m\u001b[0m\u001b[0m\n\u001b[0;32m      2\u001b[0m \u001b[1;33m\u001b[0m\u001b[0m\n\u001b[1;32m----> 3\u001b[1;33m \u001b[0mdf\u001b[0m\u001b[1;33m[\u001b[0m\u001b[1;34m'release'\u001b[0m\u001b[1;33m]\u001b[0m \u001b[1;33m=\u001b[0m \u001b[0mdf\u001b[0m\u001b[1;33m[\u001b[0m\u001b[1;34m'release'\u001b[0m\u001b[1;33m]\u001b[0m\u001b[1;33m.\u001b[0m\u001b[0mmap\u001b[0m\u001b[1;33m(\u001b[0m\u001b[1;32mlambda\u001b[0m \u001b[0mx\u001b[0m\u001b[1;33m:\u001b[0m \u001b[0mint\u001b[0m\u001b[1;33m(\u001b[0m\u001b[0mx\u001b[0m\u001b[1;33m)\u001b[0m\u001b[1;33m)\u001b[0m\u001b[1;33m\u001b[0m\u001b[1;33m\u001b[0m\u001b[0m\n\u001b[0m\u001b[0;32m      4\u001b[0m \u001b[1;33m\u001b[0m\u001b[0m\n\u001b[0;32m      5\u001b[0m \u001b[1;31m#notice that it pops up an error\u001b[0m\u001b[1;33m\u001b[0m\u001b[1;33m\u001b[0m\u001b[0m\n",
      "\u001b[1;32m~\\anaconda3\\lib\\site-packages\\pandas\\core\\series.py\u001b[0m in \u001b[0;36mmap\u001b[1;34m(self, arg, na_action)\u001b[0m\n\u001b[0;32m   4159\u001b[0m         \u001b[0mdtype\u001b[0m\u001b[1;33m:\u001b[0m \u001b[0mobject\u001b[0m\u001b[1;33m\u001b[0m\u001b[1;33m\u001b[0m\u001b[0m\n\u001b[0;32m   4160\u001b[0m         \"\"\"\n\u001b[1;32m-> 4161\u001b[1;33m         \u001b[0mnew_values\u001b[0m \u001b[1;33m=\u001b[0m \u001b[0msuper\u001b[0m\u001b[1;33m(\u001b[0m\u001b[1;33m)\u001b[0m\u001b[1;33m.\u001b[0m\u001b[0m_map_values\u001b[0m\u001b[1;33m(\u001b[0m\u001b[0marg\u001b[0m\u001b[1;33m,\u001b[0m \u001b[0mna_action\u001b[0m\u001b[1;33m=\u001b[0m\u001b[0mna_action\u001b[0m\u001b[1;33m)\u001b[0m\u001b[1;33m\u001b[0m\u001b[1;33m\u001b[0m\u001b[0m\n\u001b[0m\u001b[0;32m   4162\u001b[0m         return self._constructor(new_values, index=self.index).__finalize__(\n\u001b[0;32m   4163\u001b[0m             \u001b[0mself\u001b[0m\u001b[1;33m,\u001b[0m \u001b[0mmethod\u001b[0m\u001b[1;33m=\u001b[0m\u001b[1;34m\"map\"\u001b[0m\u001b[1;33m\u001b[0m\u001b[1;33m\u001b[0m\u001b[0m\n",
      "\u001b[1;32m~\\anaconda3\\lib\\site-packages\\pandas\\core\\base.py\u001b[0m in \u001b[0;36m_map_values\u001b[1;34m(self, mapper, na_action)\u001b[0m\n\u001b[0;32m    868\u001b[0m \u001b[1;33m\u001b[0m\u001b[0m\n\u001b[0;32m    869\u001b[0m         \u001b[1;31m# mapper is a function\u001b[0m\u001b[1;33m\u001b[0m\u001b[1;33m\u001b[0m\u001b[0m\n\u001b[1;32m--> 870\u001b[1;33m         \u001b[0mnew_values\u001b[0m \u001b[1;33m=\u001b[0m \u001b[0mmap_f\u001b[0m\u001b[1;33m(\u001b[0m\u001b[0mvalues\u001b[0m\u001b[1;33m,\u001b[0m \u001b[0mmapper\u001b[0m\u001b[1;33m)\u001b[0m\u001b[1;33m\u001b[0m\u001b[1;33m\u001b[0m\u001b[0m\n\u001b[0m\u001b[0;32m    871\u001b[0m \u001b[1;33m\u001b[0m\u001b[0m\n\u001b[0;32m    872\u001b[0m         \u001b[1;32mreturn\u001b[0m \u001b[0mnew_values\u001b[0m\u001b[1;33m\u001b[0m\u001b[1;33m\u001b[0m\u001b[0m\n",
      "\u001b[1;32m~\\anaconda3\\lib\\site-packages\\pandas\\_libs\\lib.pyx\u001b[0m in \u001b[0;36mpandas._libs.lib.map_infer\u001b[1;34m()\u001b[0m\n",
      "\u001b[1;32m~\\AppData\\Local\\Temp/ipykernel_3044/1495298015.py\u001b[0m in \u001b[0;36m<lambda>\u001b[1;34m(x)\u001b[0m\n\u001b[0;32m      1\u001b[0m \u001b[1;31m#run this\u001b[0m\u001b[1;33m\u001b[0m\u001b[1;33m\u001b[0m\u001b[0m\n\u001b[0;32m      2\u001b[0m \u001b[1;33m\u001b[0m\u001b[0m\n\u001b[1;32m----> 3\u001b[1;33m \u001b[0mdf\u001b[0m\u001b[1;33m[\u001b[0m\u001b[1;34m'release'\u001b[0m\u001b[1;33m]\u001b[0m \u001b[1;33m=\u001b[0m \u001b[0mdf\u001b[0m\u001b[1;33m[\u001b[0m\u001b[1;34m'release'\u001b[0m\u001b[1;33m]\u001b[0m\u001b[1;33m.\u001b[0m\u001b[0mmap\u001b[0m\u001b[1;33m(\u001b[0m\u001b[1;32mlambda\u001b[0m \u001b[0mx\u001b[0m\u001b[1;33m:\u001b[0m \u001b[0mint\u001b[0m\u001b[1;33m(\u001b[0m\u001b[0mx\u001b[0m\u001b[1;33m)\u001b[0m\u001b[1;33m)\u001b[0m\u001b[1;33m\u001b[0m\u001b[1;33m\u001b[0m\u001b[0m\n\u001b[0m\u001b[0;32m      4\u001b[0m \u001b[1;33m\u001b[0m\u001b[0m\n\u001b[0;32m      5\u001b[0m \u001b[1;31m#notice that it pops up an error\u001b[0m\u001b[1;33m\u001b[0m\u001b[1;33m\u001b[0m\u001b[0m\n",
      "\u001b[1;31mValueError\u001b[0m: invalid literal for int() with base 10: 'SONGFACTS.COM'"
     ]
    }
   ],
   "source": [
    "#run this\n",
    "\n",
    "df['release'] = df['release'].map(lambda x: int(x))\n",
    "\n",
    "#notice that it pops up an error\n",
    "#ValueError: invalid literal for int() with base 10: 'SONGFACTS.COM'\n",
    "#this means that there is Dirty Data within the 'release' column\n",
    "\n",
    "#in other words, we cannot simply change the Datatype from string to int\n",
    "#we need to get rid of Dirty Data in that column first..."
   ]
  },
  {
   "cell_type": "markdown",
   "metadata": {
    "id": "X7A-hGGTVz3U"
   },
   "source": [
    "#Step 6. Check for any Dirty Data in the 'release' column.\n",
    "---"
   ]
  },
  {
   "cell_type": "markdown",
   "metadata": {
    "id": "ksi4J6ObwJ5G"
   },
   "source": [
    "##6a. Use .unique() to see all values in 'release':\n",
    "---"
   ]
  },
  {
   "cell_type": "code",
   "execution_count": 19,
   "metadata": {
    "colab": {
     "base_uri": "https://localhost:8080/"
    },
    "id": "TlC5gW0zVz3U",
    "outputId": "76913a2f-33f8-4dc0-8a32-2ccaaaecf736"
   },
   "outputs": [
    {
     "data": {
      "text/plain": [
       "array(['1982', 0, '1981', '1980', '1975', '2000', '2002', '1992', '1985',\n",
       "       '1993', '1976', '1995', '1979', '1984', '1977', '1990', '1986',\n",
       "       '1974', '2014', '1987', '1973', '2001', '1989', '1997', '1971',\n",
       "       '1972', '1994', '1970', '1966', '1965', '1983', '1955', '1978',\n",
       "       '1969', '1999', '1968', '1988', '1962', '2007', '1967', '1958',\n",
       "       '1071', '1996', '1991', '2005', '2011', '2004', '2012', '2003',\n",
       "       '1998', '2008', '1964', '2013', '2006', 'SONGFACTS.COM', '1963',\n",
       "       '1961'], dtype=object)"
      ]
     },
     "execution_count": 19,
     "metadata": {},
     "output_type": "execute_result"
    }
   ],
   "source": [
    "#run this\n",
    "\n",
    "df.release.unique()\n",
    "\n",
    "#notice that one row = SONGFACTS.com... this is clearly Dirty Data!!!"
   ]
  },
  {
   "cell_type": "markdown",
   "metadata": {
    "id": "mK50kWevVz3V"
   },
   "source": [
    "##6b. Assigning SONGFACTS.COM to SONGFACTS\n",
    "---"
   ]
  },
  {
   "cell_type": "code",
   "execution_count": 20,
   "metadata": {
    "id": "N1QMKDyUVz3W"
   },
   "outputs": [],
   "source": [
    "#run this\n",
    "\n",
    "SONGFACTS = df['release'] == \"SONGFACTS.COM\""
   ]
  },
  {
   "cell_type": "markdown",
   "metadata": {
    "id": "NSB_9sUXyCGw"
   },
   "source": [
    "##6c. Display the SONGFACTS row\n",
    "\n",
    "---\n",
    "\n"
   ]
  },
  {
   "cell_type": "code",
   "execution_count": 21,
   "metadata": {
    "colab": {
     "base_uri": "https://localhost:8080/",
     "height": 81
    },
    "id": "OLMF5P2KyIsi",
    "outputId": "56a7c269-dc35-4a18-f60e-de5b57c0af1a"
   },
   "outputs": [
    {
     "data": {
      "text/html": [
       "<div>\n",
       "<style scoped>\n",
       "    .dataframe tbody tr th:only-of-type {\n",
       "        vertical-align: middle;\n",
       "    }\n",
       "\n",
       "    .dataframe tbody tr th {\n",
       "        vertical-align: top;\n",
       "    }\n",
       "\n",
       "    .dataframe thead th {\n",
       "        text-align: right;\n",
       "    }\n",
       "</style>\n",
       "<table border=\"1\" class=\"dataframe\">\n",
       "  <thead>\n",
       "    <tr style=\"text-align: right;\">\n",
       "      <th></th>\n",
       "      <th>song</th>\n",
       "      <th>artist</th>\n",
       "      <th>release</th>\n",
       "      <th>song_artist</th>\n",
       "      <th>first</th>\n",
       "      <th>year</th>\n",
       "      <th>playcount</th>\n",
       "      <th>fg</th>\n",
       "    </tr>\n",
       "  </thead>\n",
       "  <tbody>\n",
       "    <tr>\n",
       "      <th>1504</th>\n",
       "      <td>Bullfrog Blues</td>\n",
       "      <td>Rory Gallagher</td>\n",
       "      <td>SONGFACTS.COM</td>\n",
       "      <td>Bullfrog Blues by Rory Gallagher</td>\n",
       "      <td>1</td>\n",
       "      <td>1</td>\n",
       "      <td>1</td>\n",
       "      <td>1</td>\n",
       "    </tr>\n",
       "  </tbody>\n",
       "</table>\n",
       "</div>"
      ],
      "text/plain": [
       "                song          artist        release  \\\n",
       "1504  Bullfrog Blues  Rory Gallagher  SONGFACTS.COM   \n",
       "\n",
       "                           song_artist  first  year  playcount  fg  \n",
       "1504  Bullfrog Blues by Rory Gallagher      1     1          1   1  "
      ]
     },
     "execution_count": 21,
     "metadata": {},
     "output_type": "execute_result"
    }
   ],
   "source": [
    "#run this\n",
    "\n",
    "df[SONGFACTS]"
   ]
  },
  {
   "cell_type": "markdown",
   "metadata": {
    "id": "Ct5AQdI3Vz3W"
   },
   "source": [
    "##6d.Change SONGFACTS to 1972 \n",
    "\n",
    "---"
   ]
  },
  {
   "cell_type": "code",
   "execution_count": 22,
   "metadata": {
    "id": "SsOPm9ZFVz3X"
   },
   "outputs": [],
   "source": [
    "#run this\n",
    "\n",
    "df.loc[SONGFACTS, 'release'] = 1972"
   ]
  },
  {
   "cell_type": "markdown",
   "metadata": {
    "id": "fQ2w6wKCy32A"
   },
   "source": [
    "##6e. Display row number 1504 to verify the change\n",
    "\n",
    "---\n",
    "\n"
   ]
  },
  {
   "cell_type": "code",
   "execution_count": 24,
   "metadata": {
    "colab": {
     "base_uri": "https://localhost:8080/",
     "height": 81
    },
    "id": "JKyHWsIlzDoi",
    "outputId": "c8857960-c95e-47a7-c553-d7eca0cab6db"
   },
   "outputs": [
    {
     "data": {
      "text/html": [
       "<div>\n",
       "<style scoped>\n",
       "    .dataframe tbody tr th:only-of-type {\n",
       "        vertical-align: middle;\n",
       "    }\n",
       "\n",
       "    .dataframe tbody tr th {\n",
       "        vertical-align: top;\n",
       "    }\n",
       "\n",
       "    .dataframe thead th {\n",
       "        text-align: right;\n",
       "    }\n",
       "</style>\n",
       "<table border=\"1\" class=\"dataframe\">\n",
       "  <thead>\n",
       "    <tr style=\"text-align: right;\">\n",
       "      <th></th>\n",
       "      <th>song</th>\n",
       "      <th>artist</th>\n",
       "      <th>release</th>\n",
       "      <th>song_artist</th>\n",
       "      <th>first</th>\n",
       "      <th>year</th>\n",
       "      <th>playcount</th>\n",
       "      <th>fg</th>\n",
       "    </tr>\n",
       "  </thead>\n",
       "  <tbody>\n",
       "    <tr>\n",
       "      <th>1504</th>\n",
       "      <td>Bullfrog Blues</td>\n",
       "      <td>Rory Gallagher</td>\n",
       "      <td>1972</td>\n",
       "      <td>Bullfrog Blues by Rory Gallagher</td>\n",
       "      <td>1</td>\n",
       "      <td>1</td>\n",
       "      <td>1</td>\n",
       "      <td>1</td>\n",
       "    </tr>\n",
       "  </tbody>\n",
       "</table>\n",
       "</div>"
      ],
      "text/plain": [
       "                song          artist release  \\\n",
       "1504  Bullfrog Blues  Rory Gallagher    1972   \n",
       "\n",
       "                           song_artist  first  year  playcount  fg  \n",
       "1504  Bullfrog Blues by Rory Gallagher      1     1          1   1  "
      ]
     },
     "execution_count": 24,
     "metadata": {},
     "output_type": "execute_result"
    }
   ],
   "source": [
    "#run this\n",
    "\n",
    "df.iloc[1504:1505]\n",
    "\n",
    "#it has been changed!"
   ]
  },
  {
   "cell_type": "markdown",
   "metadata": {
    "id": "VmW47nF0090B"
   },
   "source": [
    "##6f. Verify the Datatypes again\n",
    "\n",
    "---"
   ]
  },
  {
   "cell_type": "code",
   "execution_count": 25,
   "metadata": {
    "colab": {
     "base_uri": "https://localhost:8080/"
    },
    "id": "lOH5KYEDz_nM",
    "outputId": "acbbc286-1a41-4feb-a223-c2f50b8a0be8"
   },
   "outputs": [
    {
     "name": "stdout",
     "output_type": "stream",
     "text": [
      "<class 'pandas.core.frame.DataFrame'>\n",
      "RangeIndex: 2230 entries, 0 to 2229\n",
      "Data columns (total 8 columns):\n",
      " #   Column       Non-Null Count  Dtype \n",
      "---  ------       --------------  ----- \n",
      " 0   song         2230 non-null   object\n",
      " 1   artist       2230 non-null   object\n",
      " 2   release      2230 non-null   object\n",
      " 3   song_artist  2230 non-null   object\n",
      " 4   first        2230 non-null   int64 \n",
      " 5   year         2230 non-null   int64 \n",
      " 6   playcount    2230 non-null   int64 \n",
      " 7   fg           2230 non-null   int64 \n",
      "dtypes: int64(4), object(4)\n",
      "memory usage: 139.5+ KB\n"
     ]
    }
   ],
   "source": [
    "#run this\n",
    "\n",
    "df.info()\n",
    "\n",
    "#notice that 'release' column is still of type object (string)\n",
    "#but we want it to be of datatype int since its in year format"
   ]
  },
  {
   "cell_type": "markdown",
   "metadata": {
    "id": "RbvyKALy2u5h"
   },
   "source": [
    "##6g. Convert String to Int for 'release' column\n",
    "\n",
    "---"
   ]
  },
  {
   "cell_type": "code",
   "execution_count": 26,
   "metadata": {
    "id": "MZopPaL_yp45"
   },
   "outputs": [],
   "source": [
    "#run this\n",
    "\n",
    "df['release'] = df['release'].map(lambda x: int(x))"
   ]
  },
  {
   "cell_type": "code",
   "execution_count": 27,
   "metadata": {
    "colab": {
     "base_uri": "https://localhost:8080/"
    },
    "id": "oRjAD9Z1Vz3X",
    "outputId": "760c68ba-b9ac-46ef-96bd-9d7cabb2bf15"
   },
   "outputs": [
    {
     "name": "stdout",
     "output_type": "stream",
     "text": [
      "<class 'pandas.core.frame.DataFrame'>\n",
      "RangeIndex: 2230 entries, 0 to 2229\n",
      "Data columns (total 8 columns):\n",
      " #   Column       Non-Null Count  Dtype \n",
      "---  ------       --------------  ----- \n",
      " 0   song         2230 non-null   object\n",
      " 1   artist       2230 non-null   object\n",
      " 2   release      2230 non-null   int64 \n",
      " 3   song_artist  2230 non-null   object\n",
      " 4   first        2230 non-null   int64 \n",
      " 5   year         2230 non-null   int64 \n",
      " 6   playcount    2230 non-null   int64 \n",
      " 7   fg           2230 non-null   int64 \n",
      "dtypes: int64(5), object(3)\n",
      "memory usage: 139.5+ KB\n"
     ]
    }
   ],
   "source": [
    "#run this\n",
    "\n",
    "df.info()\n",
    "\n",
    "#it has been changed to int!"
   ]
  },
  {
   "cell_type": "markdown",
   "metadata": {
    "id": "VPUnNB1XVz3Y"
   },
   "source": [
    "#Step 7. Further Checking for Weird Data\n",
    "---"
   ]
  },
  {
   "cell_type": "markdown",
   "metadata": {
    "id": "uxJgPnvz7gKI"
   },
   "source": [
    "##7a. Now that the 'release' column is of a numeric data type, we can apply the .describe() function.  \n",
    "\n",
    "---\n",
    "\n",
    "\n"
   ]
  },
  {
   "cell_type": "code",
   "execution_count": 29,
   "metadata": {
    "colab": {
     "base_uri": "https://localhost:8080/"
    },
    "id": "bo3aUo5-Vz3Y",
    "outputId": "6c6ce1ec-6ac7-4a99-d0b7-37ff5d11bcaa"
   },
   "outputs": [
    {
     "data": {
      "text/plain": [
       "count    2230.000000\n",
       "mean     1466.215695\n",
       "std       866.706564\n",
       "min         0.000000\n",
       "25%         0.000000\n",
       "50%      1973.000000\n",
       "75%      1981.000000\n",
       "max      2014.000000\n",
       "Name: release, dtype: float64"
      ]
     },
     "execution_count": 29,
     "metadata": {},
     "output_type": "execute_result"
    }
   ],
   "source": [
    "#run this\n",
    "\n",
    "df['release'].describe()\n",
    "\n",
    "#note that even though the dtype states its of type float, actually, its still of type int\n",
    "#also note that the min value is weird --> how can the release year of a song be 0?\n",
    "#this is because we previously filled up all NaN values with 0\n",
    "#which means that there are rows where we don't know the release year.\n",
    "\n",
    "#But we want to check the min year of 'release' (not 0)"
   ]
  },
  {
   "cell_type": "markdown",
   "metadata": {
    "id": "sXB0ahh59bCl"
   },
   "source": [
    "##7b. Adjusting the Display for the min 'release' year\n",
    "\n",
    "---\n",
    "\n"
   ]
  },
  {
   "cell_type": "code",
   "execution_count": 31,
   "metadata": {
    "id": "ZAmZ8oOhVz3Z"
   },
   "outputs": [],
   "source": [
    "#run this\n",
    "\n",
    "min_release_year = df[df['release'] > 0]"
   ]
  },
  {
   "cell_type": "code",
   "execution_count": 33,
   "metadata": {
    "colab": {
     "base_uri": "https://localhost:8080/"
    },
    "id": "WPkr_yezVz3Z",
    "outputId": "9ace1b5e-3406-4a45-a76c-0ea7adda4d67"
   },
   "outputs": [
    {
     "data": {
      "text/plain": [
       "count    1653.000000\n",
       "mean     1978.016334\n",
       "std        24.184378\n",
       "min      1071.000000\n",
       "25%      1971.000000\n",
       "50%      1977.000000\n",
       "75%      1984.000000\n",
       "max      2014.000000\n",
       "Name: release, dtype: float64"
      ]
     },
     "execution_count": 33,
     "metadata": {},
     "output_type": "execute_result"
    }
   ],
   "source": [
    "#run this\n",
    "\n",
    "min_release_year['release'].describe()\n",
    "\n",
    "#notice that the earliest release date is is 1071 and latest is 2014."
   ]
  },
  {
   "cell_type": "markdown",
   "metadata": {
    "id": "36K7mbiK7m_K"
   },
   "source": [
    "##7c. Isn't it strange for a song to be released in 1071?\n",
    "\n",
    "---\n",
    "* Let's impose a cut off year for when the earliest song can be.\n",
    "* Preferably above Year 1071\n"
   ]
  },
  {
   "cell_type": "code",
   "execution_count": 34,
   "metadata": {
    "colab": {
     "base_uri": "https://localhost:8080/",
     "height": 137
    },
    "id": "qRBtgFlcVz3a",
    "outputId": "1c6163a1-c471-4deb-ab33-20a0eec5f171"
   },
   "outputs": [
    {
     "name": "stderr",
     "output_type": "stream",
     "text": [
      "C:\\Users\\celin\\AppData\\Local\\Temp/ipykernel_3044/641498966.py:3: UserWarning: Boolean Series key will be reindexed to match DataFrame index.\n",
      "  min_release_year[df.release == 1071]\n"
     ]
    },
    {
     "data": {
      "text/html": [
       "<div>\n",
       "<style scoped>\n",
       "    .dataframe tbody tr th:only-of-type {\n",
       "        vertical-align: middle;\n",
       "    }\n",
       "\n",
       "    .dataframe tbody tr th {\n",
       "        vertical-align: top;\n",
       "    }\n",
       "\n",
       "    .dataframe thead th {\n",
       "        text-align: right;\n",
       "    }\n",
       "</style>\n",
       "<table border=\"1\" class=\"dataframe\">\n",
       "  <thead>\n",
       "    <tr style=\"text-align: right;\">\n",
       "      <th></th>\n",
       "      <th>song</th>\n",
       "      <th>artist</th>\n",
       "      <th>release</th>\n",
       "      <th>song_artist</th>\n",
       "      <th>first</th>\n",
       "      <th>year</th>\n",
       "      <th>playcount</th>\n",
       "      <th>fg</th>\n",
       "    </tr>\n",
       "  </thead>\n",
       "  <tbody>\n",
       "    <tr>\n",
       "      <th>547</th>\n",
       "      <td>Levon</td>\n",
       "      <td>Elton John</td>\n",
       "      <td>1071</td>\n",
       "      <td>Levon by Elton John</td>\n",
       "      <td>1</td>\n",
       "      <td>1</td>\n",
       "      <td>8</td>\n",
       "      <td>8</td>\n",
       "    </tr>\n",
       "  </tbody>\n",
       "</table>\n",
       "</div>"
      ],
      "text/plain": [
       "      song      artist  release          song_artist  first  year  playcount  \\\n",
       "547  Levon  Elton John     1071  Levon by Elton John      1     1          8   \n",
       "\n",
       "     fg  \n",
       "547   8  "
      ]
     },
     "execution_count": 34,
     "metadata": {},
     "output_type": "execute_result"
    }
   ],
   "source": [
    "#run this\n",
    "\n",
    "min_release_year[df.release == 1071]\n",
    "\n",
    "#we see that row 547 has the year=1071 song"
   ]
  },
  {
   "cell_type": "code",
   "execution_count": 35,
   "metadata": {
    "id": "8Byaz4W3Vz3b"
   },
   "outputs": [],
   "source": [
    "#run this\n",
    "\n",
    "above_1071 = df[df['release'] > 1071]"
   ]
  },
  {
   "cell_type": "code",
   "execution_count": 36,
   "metadata": {
    "colab": {
     "base_uri": "https://localhost:8080/"
    },
    "id": "EGPno3IJVz3b",
    "outputId": "98f3c6cd-0d48-40ff-ce55-45b3751ededf"
   },
   "outputs": [
    {
     "data": {
      "text/plain": [
       "count    1652.000000\n",
       "mean     1978.565375\n",
       "std         9.308364\n",
       "min      1955.000000\n",
       "25%      1971.000000\n",
       "50%      1977.000000\n",
       "75%      1984.000000\n",
       "max      2014.000000\n",
       "Name: release, dtype: float64"
      ]
     },
     "execution_count": 36,
     "metadata": {},
     "output_type": "execute_result"
    }
   ],
   "source": [
    "above_1071.release.describe()"
   ]
  },
  {
   "cell_type": "code",
   "execution_count": 37,
   "metadata": {
    "colab": {
     "base_uri": "https://localhost:8080/",
     "height": 458
    },
    "id": "WHI4ChOWVz3b",
    "outputId": "93b2a6fe-361a-48ea-e727-ccd8aec47a6c"
   },
   "outputs": [
    {
     "data": {
      "text/html": [
       "<div>\n",
       "<style scoped>\n",
       "    .dataframe tbody tr th:only-of-type {\n",
       "        vertical-align: middle;\n",
       "    }\n",
       "\n",
       "    .dataframe tbody tr th {\n",
       "        vertical-align: top;\n",
       "    }\n",
       "\n",
       "    .dataframe thead th {\n",
       "        text-align: right;\n",
       "    }\n",
       "</style>\n",
       "<table border=\"1\" class=\"dataframe\">\n",
       "  <thead>\n",
       "    <tr style=\"text-align: right;\">\n",
       "      <th></th>\n",
       "      <th>song</th>\n",
       "      <th>artist</th>\n",
       "      <th>release</th>\n",
       "      <th>song_artist</th>\n",
       "      <th>first</th>\n",
       "      <th>year</th>\n",
       "      <th>playcount</th>\n",
       "      <th>fg</th>\n",
       "    </tr>\n",
       "  </thead>\n",
       "  <tbody>\n",
       "    <tr>\n",
       "      <th>0</th>\n",
       "      <td>Caught Up in You</td>\n",
       "      <td>.38 Special</td>\n",
       "      <td>1982</td>\n",
       "      <td>Caught Up in You by .38 Special</td>\n",
       "      <td>1</td>\n",
       "      <td>1</td>\n",
       "      <td>82</td>\n",
       "      <td>82</td>\n",
       "    </tr>\n",
       "    <tr>\n",
       "      <th>2</th>\n",
       "      <td>Hold On Loosely</td>\n",
       "      <td>.38 Special</td>\n",
       "      <td>1981</td>\n",
       "      <td>Hold On Loosely by .38 Special</td>\n",
       "      <td>1</td>\n",
       "      <td>1</td>\n",
       "      <td>85</td>\n",
       "      <td>85</td>\n",
       "    </tr>\n",
       "    <tr>\n",
       "      <th>3</th>\n",
       "      <td>Rockin' Into the Night</td>\n",
       "      <td>.38 Special</td>\n",
       "      <td>1980</td>\n",
       "      <td>Rockin' Into the Night by .38 Special</td>\n",
       "      <td>1</td>\n",
       "      <td>1</td>\n",
       "      <td>18</td>\n",
       "      <td>18</td>\n",
       "    </tr>\n",
       "    <tr>\n",
       "      <th>4</th>\n",
       "      <td>Art For Arts Sake</td>\n",
       "      <td>10cc</td>\n",
       "      <td>1975</td>\n",
       "      <td>Art For Arts Sake by 10cc</td>\n",
       "      <td>1</td>\n",
       "      <td>1</td>\n",
       "      <td>1</td>\n",
       "      <td>1</td>\n",
       "    </tr>\n",
       "    <tr>\n",
       "      <th>5</th>\n",
       "      <td>Kryptonite</td>\n",
       "      <td>3 Doors Down</td>\n",
       "      <td>2000</td>\n",
       "      <td>Kryptonite by 3 Doors Down</td>\n",
       "      <td>1</td>\n",
       "      <td>1</td>\n",
       "      <td>13</td>\n",
       "      <td>13</td>\n",
       "    </tr>\n",
       "    <tr>\n",
       "      <th>...</th>\n",
       "      <td>...</td>\n",
       "      <td>...</td>\n",
       "      <td>...</td>\n",
       "      <td>...</td>\n",
       "      <td>...</td>\n",
       "      <td>...</td>\n",
       "      <td>...</td>\n",
       "      <td>...</td>\n",
       "    </tr>\n",
       "    <tr>\n",
       "      <th>2224</th>\n",
       "      <td>Sharp Dressed Man</td>\n",
       "      <td>ZZ Top</td>\n",
       "      <td>1983</td>\n",
       "      <td>Sharp Dressed Man by ZZ Top</td>\n",
       "      <td>1</td>\n",
       "      <td>1</td>\n",
       "      <td>120</td>\n",
       "      <td>120</td>\n",
       "    </tr>\n",
       "    <tr>\n",
       "      <th>2226</th>\n",
       "      <td>Tube Snake Boogie</td>\n",
       "      <td>ZZ Top</td>\n",
       "      <td>1981</td>\n",
       "      <td>Tube Snake Boogie by ZZ Top</td>\n",
       "      <td>1</td>\n",
       "      <td>1</td>\n",
       "      <td>32</td>\n",
       "      <td>32</td>\n",
       "    </tr>\n",
       "    <tr>\n",
       "      <th>2227</th>\n",
       "      <td>Tush</td>\n",
       "      <td>ZZ Top</td>\n",
       "      <td>1975</td>\n",
       "      <td>Tush by ZZ Top</td>\n",
       "      <td>1</td>\n",
       "      <td>1</td>\n",
       "      <td>109</td>\n",
       "      <td>109</td>\n",
       "    </tr>\n",
       "    <tr>\n",
       "      <th>2228</th>\n",
       "      <td>TV Dinners</td>\n",
       "      <td>ZZ Top</td>\n",
       "      <td>1983</td>\n",
       "      <td>TV Dinners by ZZ Top</td>\n",
       "      <td>1</td>\n",
       "      <td>1</td>\n",
       "      <td>1</td>\n",
       "      <td>1</td>\n",
       "    </tr>\n",
       "    <tr>\n",
       "      <th>2229</th>\n",
       "      <td>WAITIN' FOR THE BUS/JESUS JUST LEFT CHICAGO</td>\n",
       "      <td>ZZ Top</td>\n",
       "      <td>1973</td>\n",
       "      <td>WAITIN' FOR THE BUS/JESUS JUST LEFT CHICAGO by...</td>\n",
       "      <td>1</td>\n",
       "      <td>1</td>\n",
       "      <td>2</td>\n",
       "      <td>2</td>\n",
       "    </tr>\n",
       "  </tbody>\n",
       "</table>\n",
       "<p>1652 rows × 8 columns</p>\n",
       "</div>"
      ],
      "text/plain": [
       "                                             song        artist  release  \\\n",
       "0                                Caught Up in You   .38 Special     1982   \n",
       "2                                 Hold On Loosely   .38 Special     1981   \n",
       "3                          Rockin' Into the Night   .38 Special     1980   \n",
       "4                               Art For Arts Sake          10cc     1975   \n",
       "5                                      Kryptonite  3 Doors Down     2000   \n",
       "...                                           ...           ...      ...   \n",
       "2224                            Sharp Dressed Man        ZZ Top     1983   \n",
       "2226                            Tube Snake Boogie        ZZ Top     1981   \n",
       "2227                                         Tush        ZZ Top     1975   \n",
       "2228                                   TV Dinners        ZZ Top     1983   \n",
       "2229  WAITIN' FOR THE BUS/JESUS JUST LEFT CHICAGO        ZZ Top     1973   \n",
       "\n",
       "                                            song_artist  first  year  \\\n",
       "0                       Caught Up in You by .38 Special      1     1   \n",
       "2                        Hold On Loosely by .38 Special      1     1   \n",
       "3                 Rockin' Into the Night by .38 Special      1     1   \n",
       "4                             Art For Arts Sake by 10cc      1     1   \n",
       "5                            Kryptonite by 3 Doors Down      1     1   \n",
       "...                                                 ...    ...   ...   \n",
       "2224                        Sharp Dressed Man by ZZ Top      1     1   \n",
       "2226                        Tube Snake Boogie by ZZ Top      1     1   \n",
       "2227                                     Tush by ZZ Top      1     1   \n",
       "2228                               TV Dinners by ZZ Top      1     1   \n",
       "2229  WAITIN' FOR THE BUS/JESUS JUST LEFT CHICAGO by...      1     1   \n",
       "\n",
       "      playcount   fg  \n",
       "0            82   82  \n",
       "2            85   85  \n",
       "3            18   18  \n",
       "4             1    1  \n",
       "5            13   13  \n",
       "...         ...  ...  \n",
       "2224        120  120  \n",
       "2226         32   32  \n",
       "2227        109  109  \n",
       "2228          1    1  \n",
       "2229          2    2  \n",
       "\n",
       "[1652 rows x 8 columns]"
      ]
     },
     "execution_count": 37,
     "metadata": {},
     "output_type": "execute_result"
    }
   ],
   "source": [
    "#run this\n",
    "\n",
    "above_1071"
   ]
  },
  {
   "cell_type": "markdown",
   "metadata": {
    "collapsed": true,
    "id": "TZ6onHWNVz3c"
   },
   "source": [
    "#THE END\n",
    "\n",
    "---\n",
    "\n"
   ]
  }
 ],
 "metadata": {
  "anaconda-cloud": {},
  "colab": {
   "name": "Lesson 3 Cleaning Music Data by Dr. Alvin.ipynb",
   "provenance": [],
   "toc_visible": true
  },
  "kernelspec": {
   "display_name": "Python 3 (ipykernel)",
   "language": "python",
   "name": "python3"
  },
  "language_info": {
   "codemirror_mode": {
    "name": "ipython",
    "version": 3
   },
   "file_extension": ".py",
   "mimetype": "text/x-python",
   "name": "python",
   "nbconvert_exporter": "python",
   "pygments_lexer": "ipython3",
   "version": "3.9.7"
  }
 },
 "nbformat": 4,
 "nbformat_minor": 1
}
