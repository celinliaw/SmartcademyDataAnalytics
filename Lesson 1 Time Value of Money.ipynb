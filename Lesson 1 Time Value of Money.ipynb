{
 "cells": [
  {
   "cell_type": "markdown",
   "metadata": {
    "id": "e7KYefck-191"
   },
   "source": [
    "# Time Value of Money\n",
    "\n",
    "---\n",
    "\n"
   ]
  },
  {
   "cell_type": "code",
   "execution_count": 2,
   "metadata": {
    "id": "JofK0_xeOc6j"
   },
   "outputs": [],
   "source": [
    "def time_value_money(PV, interest_rate, period):\n",
    "    FV = PV*(1+interest_rate)**(period)\n",
    "    return FV"
   ]
  },
  {
   "cell_type": "code",
   "execution_count": 4,
   "metadata": {
    "colab": {
     "base_uri": "https://localhost:8080/"
    },
    "id": "cRaefPLXOc6o",
    "outputId": "312824f4-eedf-45f6-b4ea-1dd1bd1a55df"
   },
   "outputs": [
    {
     "data": {
      "text/plain": [
       "1.018"
      ]
     },
     "execution_count": 4,
     "metadata": {},
     "output_type": "execute_result"
    }
   ],
   "source": [
    "time_value_money(1, 0.018, 1)"
   ]
  },
  {
   "cell_type": "code",
   "execution_count": null,
   "metadata": {},
   "outputs": [],
   "source": [
    "#shift + enter --> run cell\n",
    "#esc + a --> create new cell above the selected cell\n",
    "#esc + b --> create a new cell below the selected cell\n",
    "#esc + dd --> delete the current selected cell\n",
    "# --> comment\n",
    "#esc + m --> convert cell from code to markdown mode"
   ]
  },
  {
   "cell_type": "code",
   "execution_count": 1,
   "metadata": {},
   "outputs": [
    {
     "data": {
      "text/plain": [
       "108.0"
      ]
     },
     "execution_count": 1,
     "metadata": {},
     "output_type": "execute_result"
    }
   ],
   "source": [
    "100*(1+0.08)"
   ]
  },
  {
   "cell_type": "code",
   "execution_count": null,
   "metadata": {},
   "outputs": [],
   "source": []
  },
  {
   "cell_type": "markdown",
   "metadata": {
    "id": "3juPwOqH_DTj"
   },
   "source": [
    "# Mounting Google Drive\n",
    "\n",
    "---\n",
    "\n"
   ]
  },
  {
   "cell_type": "markdown",
   "metadata": {
    "id": "LWKPvJjVo-gG"
   },
   "source": [
    "##Practice 1 = Mounting + Creating + Deleting Files and Folders in Google Drive\n",
    "\n",
    "Step 1a: Import OS first to start handling Files and Directories\n",
    "\n",
    "Step 1b: Check the current Working Directory\n",
    "\n",
    "Step 2: Mounting a Drive either using\n",
    ">a) Laptop OS (we will skip this)\n",
    ">or\n",
    ">b) Google Drive (we will do this)\n",
    "\n",
    "Step 3a: Changing the Working Directory \n",
    "\n",
    "Step 3b: Checking which Directory you are working in\n",
    "\n",
    "Step 4a: Create a Test Folder in Google Drive\n",
    "\n",
    "Step 4b: Change the Working Direcrtory to that Test Folder"
   ]
  },
  {
   "cell_type": "code",
   "execution_count": 4,
   "metadata": {
    "id": "MhO9-g59gCdW"
   },
   "outputs": [],
   "source": [
    "#Step 1a: Import OS first to start handling Files and Directories\n",
    "#Type this\n",
    "\n",
    "import os "
   ]
  },
  {
   "cell_type": "code",
   "execution_count": null,
   "metadata": {
    "colab": {
     "base_uri": "https://localhost:8080/",
     "height": 36
    },
    "id": "YT7i2QJdiW3c",
    "outputId": "478769a5-ae99-4642-f09a-712a0401c385"
   },
   "outputs": [
    {
     "data": {
      "application/vnd.google.colaboratory.intrinsic+json": {
       "type": "string"
      },
      "text/plain": [
       "'/content/drive/My Drive'"
      ]
     },
     "execution_count": 29,
     "metadata": {},
     "output_type": "execute_result"
    }
   ],
   "source": [
    "#Step 1b: Check the current Working Directory\n",
    "#Type this\n",
    "\n",
    "os.getcwd()"
   ]
  },
  {
   "cell_type": "code",
   "execution_count": null,
   "metadata": {
    "colab": {
     "base_uri": "https://localhost:8080/"
    },
    "id": "4PmMX-uKiYDA",
    "outputId": "f283c5fe-75e9-4cc4-ea64-dbe9b9d35724"
   },
   "outputs": [
    {
     "name": "stdout",
     "output_type": "stream",
     "text": [
      "Drive already mounted at /content/drive; to attempt to forcibly remount, call drive.mount(\"/content/drive\", force_remount=True).\n"
     ]
    }
   ],
   "source": [
    "#Step 2: Mounting Google Drive\n",
    "#Type this\n",
    "\n",
    "from google.colab import drive\n",
    "drive.mount('/content/drive')"
   ]
  },
  {
   "cell_type": "code",
   "execution_count": null,
   "metadata": {
    "id": "9t5gmB0-jFl2"
   },
   "outputs": [],
   "source": [
    "#Step 3a: Changing the Working Directory \n",
    "#Type this\n",
    "\n",
    "path = '/content/drive/My Drive'\n",
    "os.chdir(path)"
   ]
  },
  {
   "cell_type": "code",
   "execution_count": null,
   "metadata": {
    "colab": {
     "base_uri": "https://localhost:8080/",
     "height": 36
    },
    "id": "epLjrClfjaEO",
    "outputId": "b2546940-970f-4fc3-b531-3da075629fbd"
   },
   "outputs": [
    {
     "data": {
      "application/vnd.google.colaboratory.intrinsic+json": {
       "type": "string"
      },
      "text/plain": [
       "'/content/drive/My Drive'"
      ]
     },
     "execution_count": 32,
     "metadata": {},
     "output_type": "execute_result"
    }
   ],
   "source": [
    "#Step 3b: Checking which Directory you are working in\n",
    "#Type this\n",
    "\n",
    "os.getcwd()"
   ]
  },
  {
   "cell_type": "code",
   "execution_count": null,
   "metadata": {
    "id": "sdeSadM_lqfD"
   },
   "outputs": [],
   "source": [
    "#Step 4a: Create a Test Folder in Google Drive\n",
    "#Type this\n",
    "\n",
    "path1 = '/content/drive/My Drive/test'"
   ]
  },
  {
   "cell_type": "code",
   "execution_count": null,
   "metadata": {
    "colab": {
     "base_uri": "https://localhost:8080/",
     "height": 206
    },
    "id": "ThzVv6HgmEwG",
    "outputId": "acde4b02-daa5-4149-9c77-bda037bf80e6"
   },
   "outputs": [
    {
     "ename": "FileExistsError",
     "evalue": "ignored",
     "output_type": "error",
     "traceback": [
      "\u001b[0;31m---------------------------------------------------------------------------\u001b[0m",
      "\u001b[0;31mFileExistsError\u001b[0m                           Traceback (most recent call last)",
      "\u001b[0;32m<ipython-input-44-38629db426e2>\u001b[0m in \u001b[0;36m<module>\u001b[0;34m()\u001b[0m\n\u001b[1;32m      2\u001b[0m \u001b[0;31m#Type this\u001b[0m\u001b[0;34m\u001b[0m\u001b[0;34m\u001b[0m\u001b[0;34m\u001b[0m\u001b[0m\n\u001b[1;32m      3\u001b[0m \u001b[0;34m\u001b[0m\u001b[0m\n\u001b[0;32m----> 4\u001b[0;31m \u001b[0mos\u001b[0m\u001b[0;34m.\u001b[0m\u001b[0mmkdir\u001b[0m\u001b[0;34m(\u001b[0m\u001b[0mpath1\u001b[0m\u001b[0;34m)\u001b[0m\u001b[0;34m\u001b[0m\u001b[0;34m\u001b[0m\u001b[0m\n\u001b[0m",
      "\u001b[0;31mFileExistsError\u001b[0m: [Errno 17] File exists: '/content/drive/My Drive/test'"
     ]
    }
   ],
   "source": [
    "#Step 4b: Change the Working Direcrtory to that Test Folder\n",
    "#Type this\n",
    "\n",
    "os.mkdir(path1)   "
   ]
  },
  {
   "cell_type": "code",
   "execution_count": null,
   "metadata": {
    "id": "a79q8bcED3O5"
   },
   "outputs": [],
   "source": [
    "os.chdir(path1)"
   ]
  },
  {
   "cell_type": "code",
   "execution_count": null,
   "metadata": {
    "colab": {
     "base_uri": "https://localhost:8080/",
     "height": 36
    },
    "id": "IJpUHX_3CT_u",
    "outputId": "e836fb4e-8c76-4a5a-f2be-a8d61ed309e1"
   },
   "outputs": [
    {
     "data": {
      "application/vnd.google.colaboratory.intrinsic+json": {
       "type": "string"
      },
      "text/plain": [
       "'/content/drive/My Drive/test'"
      ]
     },
     "execution_count": 47,
     "metadata": {},
     "output_type": "execute_result"
    }
   ],
   "source": [
    "os.getcwd()"
   ]
  }
 ],
 "metadata": {
  "colab": {
   "name": "Lesson 1: Time Value of Money by Dr. Alvin.ipynb",
   "provenance": []
  },
  "kernelspec": {
   "display_name": "Python 3 (ipykernel)",
   "language": "python",
   "name": "python3"
  },
  "language_info": {
   "codemirror_mode": {
    "name": "ipython",
    "version": 3
   },
   "file_extension": ".py",
   "mimetype": "text/x-python",
   "name": "python",
   "nbconvert_exporter": "python",
   "pygments_lexer": "ipython3",
   "version": "3.9.7"
  }
 },
 "nbformat": 4,
 "nbformat_minor": 1
}
